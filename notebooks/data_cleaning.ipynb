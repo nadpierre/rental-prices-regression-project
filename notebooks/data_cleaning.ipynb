{
 "cells": [
  {
   "cell_type": "markdown",
   "id": "e27a181c",
   "metadata": {},
   "source": [
    "# Canadian Rental Prices Regression Project"
   ]
  },
  {
   "cell_type": "markdown",
   "id": "a8c19307",
   "metadata": {},
   "source": [
    "## Overview"
   ]
  },
  {
   "cell_type": "markdown",
   "id": "e01ef790",
   "metadata": {},
   "source": [
    "This notebook ..."
   ]
  },
  {
   "cell_type": "markdown",
   "id": "f7ae1887",
   "metadata": {},
   "source": [
    "## Imports"
   ]
  },
  {
   "cell_type": "code",
   "execution_count": 8,
   "id": "3ac67d63",
   "metadata": {},
   "outputs": [],
   "source": [
    "import numpy as np\n",
    "import pandas as pd"
   ]
  },
  {
   "cell_type": "code",
   "execution_count": 2,
   "id": "69b23b9d",
   "metadata": {},
   "outputs": [],
   "source": [
    "df = pd.read_csv('../data/canada_rent.csv')"
   ]
  },
  {
   "cell_type": "code",
   "execution_count": 3,
   "id": "2b0a43d0",
   "metadata": {},
   "outputs": [
    {
     "data": {
      "text/html": [
       "<div>\n",
       "<style scoped>\n",
       "    .dataframe tbody tr th:only-of-type {\n",
       "        vertical-align: middle;\n",
       "    }\n",
       "\n",
       "    .dataframe tbody tr th {\n",
       "        vertical-align: top;\n",
       "    }\n",
       "\n",
       "    .dataframe thead th {\n",
       "        text-align: right;\n",
       "    }\n",
       "</style>\n",
       "<table border=\"1\" class=\"dataframe\">\n",
       "  <thead>\n",
       "    <tr style=\"text-align: right;\">\n",
       "      <th></th>\n",
       "      <th>rentfaster_id</th>\n",
       "      <th>city</th>\n",
       "      <th>province</th>\n",
       "      <th>address</th>\n",
       "      <th>latitude</th>\n",
       "      <th>longitude</th>\n",
       "      <th>lease_term</th>\n",
       "      <th>type</th>\n",
       "      <th>price</th>\n",
       "      <th>beds</th>\n",
       "      <th>baths</th>\n",
       "      <th>sq_feet</th>\n",
       "      <th>link</th>\n",
       "      <th>furnishing</th>\n",
       "      <th>availability_date</th>\n",
       "      <th>smoking</th>\n",
       "      <th>cats</th>\n",
       "      <th>dogs</th>\n",
       "    </tr>\n",
       "  </thead>\n",
       "  <tbody>\n",
       "    <tr>\n",
       "      <th>0</th>\n",
       "      <td>468622</td>\n",
       "      <td>Airdrie</td>\n",
       "      <td>Alberta</td>\n",
       "      <td>69 Gateway Dr NE</td>\n",
       "      <td>51.305962</td>\n",
       "      <td>-114.012515</td>\n",
       "      <td>Long Term</td>\n",
       "      <td>Townhouse</td>\n",
       "      <td>2495.0</td>\n",
       "      <td>2 Beds</td>\n",
       "      <td>2.5</td>\n",
       "      <td>1403</td>\n",
       "      <td>/ab/airdrie/rentals/townhouse/2-bedrooms/pet-f...</td>\n",
       "      <td>Unfurnished</td>\n",
       "      <td>Immediate</td>\n",
       "      <td>Non-Smoking</td>\n",
       "      <td>True</td>\n",
       "      <td>True</td>\n",
       "    </tr>\n",
       "    <tr>\n",
       "      <th>1</th>\n",
       "      <td>468622</td>\n",
       "      <td>Airdrie</td>\n",
       "      <td>Alberta</td>\n",
       "      <td>69 Gateway Dr NE</td>\n",
       "      <td>51.305962</td>\n",
       "      <td>-114.012515</td>\n",
       "      <td>Long Term</td>\n",
       "      <td>Townhouse</td>\n",
       "      <td>2695.0</td>\n",
       "      <td>3 Beds</td>\n",
       "      <td>2.5</td>\n",
       "      <td>1496</td>\n",
       "      <td>/ab/airdrie/rentals/townhouse/2-bedrooms/pet-f...</td>\n",
       "      <td>Unfurnished</td>\n",
       "      <td>Immediate</td>\n",
       "      <td>Non-Smoking</td>\n",
       "      <td>True</td>\n",
       "      <td>True</td>\n",
       "    </tr>\n",
       "    <tr>\n",
       "      <th>2</th>\n",
       "      <td>468622</td>\n",
       "      <td>Airdrie</td>\n",
       "      <td>Alberta</td>\n",
       "      <td>69 Gateway Dr NE</td>\n",
       "      <td>51.305962</td>\n",
       "      <td>-114.012515</td>\n",
       "      <td>Long Term</td>\n",
       "      <td>Townhouse</td>\n",
       "      <td>2295.0</td>\n",
       "      <td>2 Beds</td>\n",
       "      <td>2.5</td>\n",
       "      <td>1180</td>\n",
       "      <td>/ab/airdrie/rentals/townhouse/2-bedrooms/pet-f...</td>\n",
       "      <td>Unfurnished</td>\n",
       "      <td>Immediate</td>\n",
       "      <td>Non-Smoking</td>\n",
       "      <td>True</td>\n",
       "      <td>True</td>\n",
       "    </tr>\n",
       "    <tr>\n",
       "      <th>3</th>\n",
       "      <td>468622</td>\n",
       "      <td>Airdrie</td>\n",
       "      <td>Alberta</td>\n",
       "      <td>69 Gateway Dr NE</td>\n",
       "      <td>51.305962</td>\n",
       "      <td>-114.012515</td>\n",
       "      <td>Long Term</td>\n",
       "      <td>Townhouse</td>\n",
       "      <td>2095.0</td>\n",
       "      <td>2 Beds</td>\n",
       "      <td>2.5</td>\n",
       "      <td>1403</td>\n",
       "      <td>/ab/airdrie/rentals/townhouse/2-bedrooms/pet-f...</td>\n",
       "      <td>Unfurnished</td>\n",
       "      <td>November 18</td>\n",
       "      <td>Non-Smoking</td>\n",
       "      <td>True</td>\n",
       "      <td>True</td>\n",
       "    </tr>\n",
       "    <tr>\n",
       "      <th>4</th>\n",
       "      <td>468622</td>\n",
       "      <td>Airdrie</td>\n",
       "      <td>Alberta</td>\n",
       "      <td>69 Gateway Dr NE</td>\n",
       "      <td>51.305962</td>\n",
       "      <td>-114.012515</td>\n",
       "      <td>Long Term</td>\n",
       "      <td>Townhouse</td>\n",
       "      <td>2495.0</td>\n",
       "      <td>2 Beds</td>\n",
       "      <td>2.5</td>\n",
       "      <td>1403</td>\n",
       "      <td>/ab/airdrie/rentals/townhouse/2-bedrooms/pet-f...</td>\n",
       "      <td>Unfurnished</td>\n",
       "      <td>Immediate</td>\n",
       "      <td>Non-Smoking</td>\n",
       "      <td>True</td>\n",
       "      <td>True</td>\n",
       "    </tr>\n",
       "  </tbody>\n",
       "</table>\n",
       "</div>"
      ],
      "text/plain": [
       "   rentfaster_id     city province           address   latitude   longitude  \\\n",
       "0         468622  Airdrie  Alberta  69 Gateway Dr NE  51.305962 -114.012515   \n",
       "1         468622  Airdrie  Alberta  69 Gateway Dr NE  51.305962 -114.012515   \n",
       "2         468622  Airdrie  Alberta  69 Gateway Dr NE  51.305962 -114.012515   \n",
       "3         468622  Airdrie  Alberta  69 Gateway Dr NE  51.305962 -114.012515   \n",
       "4         468622  Airdrie  Alberta  69 Gateway Dr NE  51.305962 -114.012515   \n",
       "\n",
       "  lease_term       type   price    beds baths sq_feet  \\\n",
       "0  Long Term  Townhouse  2495.0  2 Beds   2.5    1403   \n",
       "1  Long Term  Townhouse  2695.0  3 Beds   2.5    1496   \n",
       "2  Long Term  Townhouse  2295.0  2 Beds   2.5    1180   \n",
       "3  Long Term  Townhouse  2095.0  2 Beds   2.5    1403   \n",
       "4  Long Term  Townhouse  2495.0  2 Beds   2.5    1403   \n",
       "\n",
       "                                                link   furnishing  \\\n",
       "0  /ab/airdrie/rentals/townhouse/2-bedrooms/pet-f...  Unfurnished   \n",
       "1  /ab/airdrie/rentals/townhouse/2-bedrooms/pet-f...  Unfurnished   \n",
       "2  /ab/airdrie/rentals/townhouse/2-bedrooms/pet-f...  Unfurnished   \n",
       "3  /ab/airdrie/rentals/townhouse/2-bedrooms/pet-f...  Unfurnished   \n",
       "4  /ab/airdrie/rentals/townhouse/2-bedrooms/pet-f...  Unfurnished   \n",
       "\n",
       "  availability_date      smoking  cats  dogs  \n",
       "0         Immediate  Non-Smoking  True  True  \n",
       "1         Immediate  Non-Smoking  True  True  \n",
       "2         Immediate  Non-Smoking  True  True  \n",
       "3       November 18  Non-Smoking  True  True  \n",
       "4         Immediate  Non-Smoking  True  True  "
      ]
     },
     "execution_count": 3,
     "metadata": {},
     "output_type": "execute_result"
    }
   ],
   "source": [
    "df.head()"
   ]
  },
  {
   "cell_type": "code",
   "execution_count": 4,
   "id": "a470d8b4",
   "metadata": {},
   "outputs": [
    {
     "name": "stdout",
     "output_type": "stream",
     "text": [
      "<class 'pandas.core.frame.DataFrame'>\n",
      "RangeIndex: 25771 entries, 0 to 25770\n",
      "Data columns (total 18 columns):\n",
      " #   Column             Non-Null Count  Dtype  \n",
      "---  ------             --------------  -----  \n",
      " 0   rentfaster_id      25771 non-null  int64  \n",
      " 1   city               25771 non-null  object \n",
      " 2   province           25771 non-null  object \n",
      " 3   address            25646 non-null  object \n",
      " 4   latitude           25771 non-null  float64\n",
      " 5   longitude          25771 non-null  float64\n",
      " 6   lease_term         25725 non-null  object \n",
      " 7   type               25771 non-null  object \n",
      " 8   price              25771 non-null  float64\n",
      " 9   beds               25639 non-null  object \n",
      " 10  baths              25637 non-null  object \n",
      " 11  sq_feet            21659 non-null  object \n",
      " 12  link               25771 non-null  object \n",
      " 13  furnishing         25771 non-null  object \n",
      " 14  availability_date  25759 non-null  object \n",
      " 15  smoking            23069 non-null  object \n",
      " 16  cats               25598 non-null  object \n",
      " 17  dogs               25598 non-null  object \n",
      "dtypes: float64(3), int64(1), object(14)\n",
      "memory usage: 3.5+ MB\n"
     ]
    }
   ],
   "source": [
    "df.info()"
   ]
  },
  {
   "cell_type": "markdown",
   "id": "4814400c",
   "metadata": {},
   "source": [
    "## Data Cleaning"
   ]
  },
  {
   "cell_type": "markdown",
   "id": "19535083",
   "metadata": {},
   "source": [
    "### Convert `beds`, `baths` and `sq_feet` to numerical format"
   ]
  },
  {
   "cell_type": "markdown",
   "id": "53187cab",
   "metadata": {},
   "source": [
    "#### Beds"
   ]
  },
  {
   "cell_type": "code",
   "execution_count": 5,
   "id": "033518f1",
   "metadata": {},
   "outputs": [
    {
     "data": {
      "text/plain": [
       "array(['2 Beds', '3 Beds', 'Studio', '1 Bed', '5 Beds', '4 Beds', nan,\n",
       "       '6 Beds', 'none Beds', '8 Beds', '7 Beds', '9 Beds'], dtype=object)"
      ]
     },
     "execution_count": 5,
     "metadata": {},
     "output_type": "execute_result"
    }
   ],
   "source": [
    "df['beds'].unique()"
   ]
  },
  {
   "cell_type": "code",
   "execution_count": 6,
   "id": "ebec6baf",
   "metadata": {},
   "outputs": [
    {
     "data": {
      "text/plain": [
       "np.int64(132)"
      ]
     },
     "execution_count": 6,
     "metadata": {},
     "output_type": "execute_result"
    }
   ],
   "source": [
    "df['beds'].isna().sum()"
   ]
  },
  {
   "cell_type": "code",
   "execution_count": null,
   "id": "f9e7ffd1",
   "metadata": {},
   "outputs": [
    {
     "data": {
      "text/plain": [
       "17217    2\n",
       "1120     3\n",
       "20303    2\n",
       "23008    1\n",
       "20141    3\n",
       "Name: beds, dtype: object"
      ]
     },
     "execution_count": 7,
     "metadata": {},
     "output_type": "execute_result"
    }
   ],
   "source": [
    "# Remove Bed(s) after numbers\n",
    "df['beds'] = df['beds'].str.replace(r'(?<=\\d)\\s+Bed[s]*', '', regex=True)"
   ]
  },
  {
   "cell_type": "code",
   "execution_count": null,
   "id": "e873df7d",
   "metadata": {},
   "outputs": [
    {
     "data": {
      "text/plain": [
       "12484    2\n",
       "5307     1\n",
       "5346     2\n",
       "1059     2\n",
       "17106    1\n",
       "Name: beds, dtype: object"
      ]
     },
     "execution_count": 9,
     "metadata": {},
     "output_type": "execute_result"
    }
   ],
   "source": [
    "# Replace Studio and none Beds by 0\n",
    "df['beds'] = np.where(df['beds'].isin(['Studio', 'none Beds']), 0, df['beds'])"
   ]
  },
  {
   "cell_type": "code",
   "execution_count": 11,
   "id": "68f60778",
   "metadata": {},
   "outputs": [],
   "source": [
    "# Replace nan beds by 0\n",
    "df['beds'] = df['beds'].fillna(0)"
   ]
  },
  {
   "cell_type": "code",
   "execution_count": 12,
   "id": "9fcc3dfd",
   "metadata": {},
   "outputs": [
    {
     "data": {
      "text/plain": [
       "count    25771.000000\n",
       "mean         1.734159\n",
       "std          0.980281\n",
       "min          0.000000\n",
       "25%          1.000000\n",
       "50%          2.000000\n",
       "75%          2.000000\n",
       "max          9.000000\n",
       "Name: beds, dtype: float64"
      ]
     },
     "execution_count": 12,
     "metadata": {},
     "output_type": "execute_result"
    }
   ],
   "source": [
    "# Convert beds to numerical\n",
    "df['beds'] = df['beds'].astype('int64')\n",
    "df['beds'].describe()"
   ]
  },
  {
   "cell_type": "markdown",
   "id": "6e8164d2",
   "metadata": {},
   "source": [
    "#### Baths"
   ]
  },
  {
   "cell_type": "markdown",
   "id": "79956a18",
   "metadata": {},
   "source": [
    "### Handle Missing Values"
   ]
  },
  {
   "cell_type": "markdown",
   "id": "e76da67c",
   "metadata": {},
   "source": [
    "### Drop irrelevant columns"
   ]
  },
  {
   "cell_type": "markdown",
   "id": "1f952bb2",
   "metadata": {},
   "source": []
  }
 ],
 "metadata": {
  "kernelspec": {
   "display_name": "venv",
   "language": "python",
   "name": "python3"
  },
  "language_info": {
   "codemirror_mode": {
    "name": "ipython",
    "version": 3
   },
   "file_extension": ".py",
   "mimetype": "text/x-python",
   "name": "python",
   "nbconvert_exporter": "python",
   "pygments_lexer": "ipython3",
   "version": "3.13.3"
  }
 },
 "nbformat": 4,
 "nbformat_minor": 5
}
