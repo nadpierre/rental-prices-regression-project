{
 "cells": [
  {
   "cell_type": "markdown",
   "id": "e27a181c",
   "metadata": {},
   "source": [
    "# Canadian Rental Prices Data Cleaning"
   ]
  },
  {
   "cell_type": "markdown",
   "id": "f7ae1887",
   "metadata": {},
   "source": [
    "## Imports"
   ]
  },
  {
   "cell_type": "code",
   "execution_count": 1,
   "id": "3ac67d63",
   "metadata": {},
   "outputs": [],
   "source": [
    "import numpy as np\n",
    "import pandas as pd"
   ]
  },
  {
   "cell_type": "code",
   "execution_count": 2,
   "id": "69b23b9d",
   "metadata": {},
   "outputs": [],
   "source": [
    "df = pd.read_csv('../data/canada_rent.csv')"
   ]
  },
  {
   "cell_type": "code",
   "execution_count": 3,
   "id": "2b0a43d0",
   "metadata": {},
   "outputs": [
    {
     "data": {
      "text/html": [
       "<div>\n",
       "<style scoped>\n",
       "    .dataframe tbody tr th:only-of-type {\n",
       "        vertical-align: middle;\n",
       "    }\n",
       "\n",
       "    .dataframe tbody tr th {\n",
       "        vertical-align: top;\n",
       "    }\n",
       "\n",
       "    .dataframe thead th {\n",
       "        text-align: right;\n",
       "    }\n",
       "</style>\n",
       "<table border=\"1\" class=\"dataframe\">\n",
       "  <thead>\n",
       "    <tr style=\"text-align: right;\">\n",
       "      <th></th>\n",
       "      <th>rentfaster_id</th>\n",
       "      <th>city</th>\n",
       "      <th>province</th>\n",
       "      <th>address</th>\n",
       "      <th>latitude</th>\n",
       "      <th>longitude</th>\n",
       "      <th>lease_term</th>\n",
       "      <th>type</th>\n",
       "      <th>price</th>\n",
       "      <th>beds</th>\n",
       "      <th>baths</th>\n",
       "      <th>sq_feet</th>\n",
       "      <th>link</th>\n",
       "      <th>furnishing</th>\n",
       "      <th>availability_date</th>\n",
       "      <th>smoking</th>\n",
       "      <th>cats</th>\n",
       "      <th>dogs</th>\n",
       "    </tr>\n",
       "  </thead>\n",
       "  <tbody>\n",
       "    <tr>\n",
       "      <th>0</th>\n",
       "      <td>468622</td>\n",
       "      <td>Airdrie</td>\n",
       "      <td>Alberta</td>\n",
       "      <td>69 Gateway Dr NE</td>\n",
       "      <td>51.305962</td>\n",
       "      <td>-114.012515</td>\n",
       "      <td>Long Term</td>\n",
       "      <td>Townhouse</td>\n",
       "      <td>2495.0</td>\n",
       "      <td>2 Beds</td>\n",
       "      <td>2.5</td>\n",
       "      <td>1403</td>\n",
       "      <td>/ab/airdrie/rentals/townhouse/2-bedrooms/pet-f...</td>\n",
       "      <td>Unfurnished</td>\n",
       "      <td>Immediate</td>\n",
       "      <td>Non-Smoking</td>\n",
       "      <td>True</td>\n",
       "      <td>True</td>\n",
       "    </tr>\n",
       "    <tr>\n",
       "      <th>1</th>\n",
       "      <td>468622</td>\n",
       "      <td>Airdrie</td>\n",
       "      <td>Alberta</td>\n",
       "      <td>69 Gateway Dr NE</td>\n",
       "      <td>51.305962</td>\n",
       "      <td>-114.012515</td>\n",
       "      <td>Long Term</td>\n",
       "      <td>Townhouse</td>\n",
       "      <td>2695.0</td>\n",
       "      <td>3 Beds</td>\n",
       "      <td>2.5</td>\n",
       "      <td>1496</td>\n",
       "      <td>/ab/airdrie/rentals/townhouse/2-bedrooms/pet-f...</td>\n",
       "      <td>Unfurnished</td>\n",
       "      <td>Immediate</td>\n",
       "      <td>Non-Smoking</td>\n",
       "      <td>True</td>\n",
       "      <td>True</td>\n",
       "    </tr>\n",
       "    <tr>\n",
       "      <th>2</th>\n",
       "      <td>468622</td>\n",
       "      <td>Airdrie</td>\n",
       "      <td>Alberta</td>\n",
       "      <td>69 Gateway Dr NE</td>\n",
       "      <td>51.305962</td>\n",
       "      <td>-114.012515</td>\n",
       "      <td>Long Term</td>\n",
       "      <td>Townhouse</td>\n",
       "      <td>2295.0</td>\n",
       "      <td>2 Beds</td>\n",
       "      <td>2.5</td>\n",
       "      <td>1180</td>\n",
       "      <td>/ab/airdrie/rentals/townhouse/2-bedrooms/pet-f...</td>\n",
       "      <td>Unfurnished</td>\n",
       "      <td>Immediate</td>\n",
       "      <td>Non-Smoking</td>\n",
       "      <td>True</td>\n",
       "      <td>True</td>\n",
       "    </tr>\n",
       "    <tr>\n",
       "      <th>3</th>\n",
       "      <td>468622</td>\n",
       "      <td>Airdrie</td>\n",
       "      <td>Alberta</td>\n",
       "      <td>69 Gateway Dr NE</td>\n",
       "      <td>51.305962</td>\n",
       "      <td>-114.012515</td>\n",
       "      <td>Long Term</td>\n",
       "      <td>Townhouse</td>\n",
       "      <td>2095.0</td>\n",
       "      <td>2 Beds</td>\n",
       "      <td>2.5</td>\n",
       "      <td>1403</td>\n",
       "      <td>/ab/airdrie/rentals/townhouse/2-bedrooms/pet-f...</td>\n",
       "      <td>Unfurnished</td>\n",
       "      <td>November 18</td>\n",
       "      <td>Non-Smoking</td>\n",
       "      <td>True</td>\n",
       "      <td>True</td>\n",
       "    </tr>\n",
       "    <tr>\n",
       "      <th>4</th>\n",
       "      <td>468622</td>\n",
       "      <td>Airdrie</td>\n",
       "      <td>Alberta</td>\n",
       "      <td>69 Gateway Dr NE</td>\n",
       "      <td>51.305962</td>\n",
       "      <td>-114.012515</td>\n",
       "      <td>Long Term</td>\n",
       "      <td>Townhouse</td>\n",
       "      <td>2495.0</td>\n",
       "      <td>2 Beds</td>\n",
       "      <td>2.5</td>\n",
       "      <td>1403</td>\n",
       "      <td>/ab/airdrie/rentals/townhouse/2-bedrooms/pet-f...</td>\n",
       "      <td>Unfurnished</td>\n",
       "      <td>Immediate</td>\n",
       "      <td>Non-Smoking</td>\n",
       "      <td>True</td>\n",
       "      <td>True</td>\n",
       "    </tr>\n",
       "  </tbody>\n",
       "</table>\n",
       "</div>"
      ],
      "text/plain": [
       "   rentfaster_id     city province           address   latitude   longitude  \\\n",
       "0         468622  Airdrie  Alberta  69 Gateway Dr NE  51.305962 -114.012515   \n",
       "1         468622  Airdrie  Alberta  69 Gateway Dr NE  51.305962 -114.012515   \n",
       "2         468622  Airdrie  Alberta  69 Gateway Dr NE  51.305962 -114.012515   \n",
       "3         468622  Airdrie  Alberta  69 Gateway Dr NE  51.305962 -114.012515   \n",
       "4         468622  Airdrie  Alberta  69 Gateway Dr NE  51.305962 -114.012515   \n",
       "\n",
       "  lease_term       type   price    beds baths sq_feet  \\\n",
       "0  Long Term  Townhouse  2495.0  2 Beds   2.5    1403   \n",
       "1  Long Term  Townhouse  2695.0  3 Beds   2.5    1496   \n",
       "2  Long Term  Townhouse  2295.0  2 Beds   2.5    1180   \n",
       "3  Long Term  Townhouse  2095.0  2 Beds   2.5    1403   \n",
       "4  Long Term  Townhouse  2495.0  2 Beds   2.5    1403   \n",
       "\n",
       "                                                link   furnishing  \\\n",
       "0  /ab/airdrie/rentals/townhouse/2-bedrooms/pet-f...  Unfurnished   \n",
       "1  /ab/airdrie/rentals/townhouse/2-bedrooms/pet-f...  Unfurnished   \n",
       "2  /ab/airdrie/rentals/townhouse/2-bedrooms/pet-f...  Unfurnished   \n",
       "3  /ab/airdrie/rentals/townhouse/2-bedrooms/pet-f...  Unfurnished   \n",
       "4  /ab/airdrie/rentals/townhouse/2-bedrooms/pet-f...  Unfurnished   \n",
       "\n",
       "  availability_date      smoking  cats  dogs  \n",
       "0         Immediate  Non-Smoking  True  True  \n",
       "1         Immediate  Non-Smoking  True  True  \n",
       "2         Immediate  Non-Smoking  True  True  \n",
       "3       November 18  Non-Smoking  True  True  \n",
       "4         Immediate  Non-Smoking  True  True  "
      ]
     },
     "execution_count": 3,
     "metadata": {},
     "output_type": "execute_result"
    }
   ],
   "source": [
    "df.head()"
   ]
  },
  {
   "cell_type": "code",
   "execution_count": 4,
   "id": "a470d8b4",
   "metadata": {},
   "outputs": [
    {
     "name": "stdout",
     "output_type": "stream",
     "text": [
      "<class 'pandas.core.frame.DataFrame'>\n",
      "RangeIndex: 25771 entries, 0 to 25770\n",
      "Data columns (total 18 columns):\n",
      " #   Column             Non-Null Count  Dtype  \n",
      "---  ------             --------------  -----  \n",
      " 0   rentfaster_id      25771 non-null  int64  \n",
      " 1   city               25771 non-null  object \n",
      " 2   province           25771 non-null  object \n",
      " 3   address            25646 non-null  object \n",
      " 4   latitude           25771 non-null  float64\n",
      " 5   longitude          25771 non-null  float64\n",
      " 6   lease_term         25725 non-null  object \n",
      " 7   type               25771 non-null  object \n",
      " 8   price              25771 non-null  float64\n",
      " 9   beds               25639 non-null  object \n",
      " 10  baths              25637 non-null  object \n",
      " 11  sq_feet            21659 non-null  object \n",
      " 12  link               25771 non-null  object \n",
      " 13  furnishing         25771 non-null  object \n",
      " 14  availability_date  25759 non-null  object \n",
      " 15  smoking            23069 non-null  object \n",
      " 16  cats               25598 non-null  object \n",
      " 17  dogs               25598 non-null  object \n",
      "dtypes: float64(3), int64(1), object(14)\n",
      "memory usage: 3.5+ MB\n"
     ]
    }
   ],
   "source": [
    "df.info()"
   ]
  },
  {
   "cell_type": "markdown",
   "id": "4814400c",
   "metadata": {},
   "source": [
    "## Data Cleaning"
   ]
  },
  {
   "cell_type": "markdown",
   "id": "19535083",
   "metadata": {},
   "source": [
    "### Convert `beds`, `baths` and `sq_feet` to numerical format"
   ]
  },
  {
   "cell_type": "markdown",
   "id": "53187cab",
   "metadata": {},
   "source": [
    "#### `beds`"
   ]
  },
  {
   "cell_type": "code",
   "execution_count": 5,
   "id": "033518f1",
   "metadata": {},
   "outputs": [
    {
     "data": {
      "text/plain": [
       "array(['2 Beds', '3 Beds', 'Studio', '1 Bed', '5 Beds', '4 Beds', nan,\n",
       "       '6 Beds', 'none Beds', '8 Beds', '7 Beds', '9 Beds'], dtype=object)"
      ]
     },
     "execution_count": 5,
     "metadata": {},
     "output_type": "execute_result"
    }
   ],
   "source": [
    "df['beds'].unique()"
   ]
  },
  {
   "cell_type": "code",
   "execution_count": 6,
   "id": "ebec6baf",
   "metadata": {},
   "outputs": [
    {
     "name": "stdout",
     "output_type": "stream",
     "text": [
      "0.51%\n"
     ]
    }
   ],
   "source": [
    "# Get proportion of null beds\n",
    "print(f'{df['beds'].isna().mean():.2%}')"
   ]
  },
  {
   "cell_type": "code",
   "execution_count": 7,
   "id": "f9e7ffd1",
   "metadata": {},
   "outputs": [],
   "source": [
    "# Remove Bed(s) after numbers\n",
    "df['beds'] = df['beds'].str.replace(r'(?<=\\d)\\s+Bed[s]*', '', regex=True)"
   ]
  },
  {
   "cell_type": "code",
   "execution_count": 8,
   "id": "e873df7d",
   "metadata": {},
   "outputs": [],
   "source": [
    "# Replace Studio and none Beds by 0\n",
    "df['beds'] = np.where(df['beds'].isin(['Studio', 'none Beds']), 0, df['beds'])"
   ]
  },
  {
   "cell_type": "code",
   "execution_count": 9,
   "id": "68f60778",
   "metadata": {},
   "outputs": [],
   "source": [
    "# Drop rows with nan beds\n",
    "df = df.dropna(subset='beds')"
   ]
  },
  {
   "cell_type": "code",
   "execution_count": 10,
   "id": "ee12fc75",
   "metadata": {},
   "outputs": [
    {
     "name": "stdout",
     "output_type": "stream",
     "text": [
      "<class 'pandas.core.frame.DataFrame'>\n",
      "Index: 25639 entries, 0 to 25770\n",
      "Data columns (total 18 columns):\n",
      " #   Column             Non-Null Count  Dtype  \n",
      "---  ------             --------------  -----  \n",
      " 0   rentfaster_id      25639 non-null  int64  \n",
      " 1   city               25639 non-null  object \n",
      " 2   province           25639 non-null  object \n",
      " 3   address            25516 non-null  object \n",
      " 4   latitude           25639 non-null  float64\n",
      " 5   longitude          25639 non-null  float64\n",
      " 6   lease_term         25593 non-null  object \n",
      " 7   type               25639 non-null  object \n",
      " 8   price              25639 non-null  float64\n",
      " 9   beds               25639 non-null  object \n",
      " 10  baths              25637 non-null  object \n",
      " 11  sq_feet            21658 non-null  object \n",
      " 12  link               25639 non-null  object \n",
      " 13  furnishing         25639 non-null  object \n",
      " 14  availability_date  25631 non-null  object \n",
      " 15  smoking            22937 non-null  object \n",
      " 16  cats               25596 non-null  object \n",
      " 17  dogs               25596 non-null  object \n",
      "dtypes: float64(3), int64(1), object(14)\n",
      "memory usage: 3.7+ MB\n"
     ]
    }
   ],
   "source": [
    "df.info()"
   ]
  },
  {
   "cell_type": "code",
   "execution_count": 11,
   "id": "9fcc3dfd",
   "metadata": {},
   "outputs": [
    {
     "data": {
      "text/plain": [
       "count    25639.000000\n",
       "mean         1.743087\n",
       "std          0.974852\n",
       "min          0.000000\n",
       "25%          1.000000\n",
       "50%          2.000000\n",
       "75%          2.000000\n",
       "max          9.000000\n",
       "Name: beds, dtype: float64"
      ]
     },
     "execution_count": 11,
     "metadata": {},
     "output_type": "execute_result"
    }
   ],
   "source": [
    "# Convert beds to numerical\n",
    "df['beds'] = df['beds'].astype('int64')\n",
    "df['beds'].describe()"
   ]
  },
  {
   "cell_type": "markdown",
   "id": "6e8164d2",
   "metadata": {},
   "source": [
    "#### `baths`"
   ]
  },
  {
   "cell_type": "code",
   "execution_count": 12,
   "id": "c1e846d9",
   "metadata": {},
   "outputs": [
    {
     "data": {
      "text/plain": [
       "array(['2.5', '1', '2', '1.5', '3.5', '4', '3', '5', 'none', '4.5', '7.5',\n",
       "       nan, '5.5', '6', '6.5', '7', '8', '0'], dtype=object)"
      ]
     },
     "execution_count": 12,
     "metadata": {},
     "output_type": "execute_result"
    }
   ],
   "source": [
    "df['baths'].unique()"
   ]
  },
  {
   "cell_type": "code",
   "execution_count": 13,
   "id": "0387628e",
   "metadata": {},
   "outputs": [
    {
     "name": "stdout",
     "output_type": "stream",
     "text": [
      "0.01%\n"
     ]
    }
   ],
   "source": [
    "# Get proportion of null baths\n",
    "print(f'{df['baths'].isna().mean():.2%}')"
   ]
  },
  {
   "cell_type": "code",
   "execution_count": 14,
   "id": "afbbc9b3",
   "metadata": {},
   "outputs": [],
   "source": [
    "# Replace none by 0\n",
    "df['baths'] = np.where(df['baths'] == 'none', 0, df['baths'])"
   ]
  },
  {
   "cell_type": "code",
   "execution_count": 15,
   "id": "a9e29c0b",
   "metadata": {},
   "outputs": [],
   "source": [
    "# Drop rows with nan baths\n",
    "df = df.dropna(subset='baths')"
   ]
  },
  {
   "cell_type": "code",
   "execution_count": 16,
   "id": "bef2afb7",
   "metadata": {},
   "outputs": [],
   "source": [
    "# Convert to float\n",
    "df['baths'] = df['baths'].astype('float')"
   ]
  },
  {
   "cell_type": "code",
   "execution_count": 17,
   "id": "8ce757e8",
   "metadata": {},
   "outputs": [
    {
     "name": "stdout",
     "output_type": "stream",
     "text": [
      "<class 'pandas.core.frame.DataFrame'>\n",
      "Index: 25637 entries, 0 to 25770\n",
      "Data columns (total 18 columns):\n",
      " #   Column             Non-Null Count  Dtype  \n",
      "---  ------             --------------  -----  \n",
      " 0   rentfaster_id      25637 non-null  int64  \n",
      " 1   city               25637 non-null  object \n",
      " 2   province           25637 non-null  object \n",
      " 3   address            25514 non-null  object \n",
      " 4   latitude           25637 non-null  float64\n",
      " 5   longitude          25637 non-null  float64\n",
      " 6   lease_term         25591 non-null  object \n",
      " 7   type               25637 non-null  object \n",
      " 8   price              25637 non-null  float64\n",
      " 9   beds               25637 non-null  int64  \n",
      " 10  baths              25637 non-null  float64\n",
      " 11  sq_feet            21656 non-null  object \n",
      " 12  link               25637 non-null  object \n",
      " 13  furnishing         25637 non-null  object \n",
      " 14  availability_date  25629 non-null  object \n",
      " 15  smoking            22935 non-null  object \n",
      " 16  cats               25596 non-null  object \n",
      " 17  dogs               25596 non-null  object \n",
      "dtypes: float64(4), int64(2), object(12)\n",
      "memory usage: 3.7+ MB\n"
     ]
    }
   ],
   "source": [
    "df.info()"
   ]
  },
  {
   "cell_type": "markdown",
   "id": "ab5209d0",
   "metadata": {},
   "source": [
    "#### `sq_feet`"
   ]
  },
  {
   "cell_type": "code",
   "execution_count": 18,
   "id": "618a8bbf",
   "metadata": {},
   "outputs": [
    {
     "data": {
      "text/plain": [
       "array(['1403', '1496', '1180', ..., '260', '286', '334'],\n",
       "      shape=(1896,), dtype=object)"
      ]
     },
     "execution_count": 18,
     "metadata": {},
     "output_type": "execute_result"
    }
   ],
   "source": [
    "df['sq_feet'].unique()"
   ]
  },
  {
   "cell_type": "code",
   "execution_count": 19,
   "id": "9d062a69",
   "metadata": {},
   "outputs": [
    {
     "name": "stdout",
     "output_type": "stream",
     "text": [
      "15.53%\n"
     ]
    }
   ],
   "source": [
    "# Get proportion of null sq_feet\n",
    "print(f'{df['sq_feet'].isna().mean():.2%}')"
   ]
  },
  {
   "cell_type": "code",
   "execution_count": 20,
   "id": "75cf0941",
   "metadata": {},
   "outputs": [],
   "source": [
    "# Extract number from string\n",
    "df['sq_feet'] = df['sq_feet'].str.extract(r'(\\d+)', expand=False)"
   ]
  },
  {
   "cell_type": "code",
   "execution_count": 21,
   "id": "f55e586a",
   "metadata": {},
   "outputs": [],
   "source": [
    "# Convert to numeric\n",
    "df['sq_feet'] = df['sq_feet'].astype('float')"
   ]
  },
  {
   "cell_type": "code",
   "execution_count": 22,
   "id": "49d3609d",
   "metadata": {},
   "outputs": [],
   "source": [
    "# Group-wise median imputation\n",
    "df['sq_feet'] = df['sq_feet'].fillna(df.groupby(['city', 'type'])['sq_feet'].transform('median'))"
   ]
  },
  {
   "cell_type": "code",
   "execution_count": 23,
   "id": "fb1136b0",
   "metadata": {},
   "outputs": [
    {
     "name": "stdout",
     "output_type": "stream",
     "text": [
      "0.62%\n"
     ]
    }
   ],
   "source": [
    "# Get new proportion of null sq_feet\n",
    "print(f'{df['sq_feet'].isna().mean():.2%}')"
   ]
  },
  {
   "cell_type": "code",
   "execution_count": 24,
   "id": "73afcc70",
   "metadata": {},
   "outputs": [],
   "source": [
    "# Fill remaining null values with overall median\n",
    "df['sq_feet'] = df['sq_feet'].fillna(df['sq_feet'].median())"
   ]
  },
  {
   "cell_type": "code",
   "execution_count": 25,
   "id": "84905fea",
   "metadata": {},
   "outputs": [
    {
     "name": "stdout",
     "output_type": "stream",
     "text": [
      "<class 'pandas.core.frame.DataFrame'>\n",
      "Index: 25637 entries, 0 to 25770\n",
      "Data columns (total 18 columns):\n",
      " #   Column             Non-Null Count  Dtype  \n",
      "---  ------             --------------  -----  \n",
      " 0   rentfaster_id      25637 non-null  int64  \n",
      " 1   city               25637 non-null  object \n",
      " 2   province           25637 non-null  object \n",
      " 3   address            25514 non-null  object \n",
      " 4   latitude           25637 non-null  float64\n",
      " 5   longitude          25637 non-null  float64\n",
      " 6   lease_term         25591 non-null  object \n",
      " 7   type               25637 non-null  object \n",
      " 8   price              25637 non-null  float64\n",
      " 9   beds               25637 non-null  int64  \n",
      " 10  baths              25637 non-null  float64\n",
      " 11  sq_feet            25637 non-null  float64\n",
      " 12  link               25637 non-null  object \n",
      " 13  furnishing         25637 non-null  object \n",
      " 14  availability_date  25629 non-null  object \n",
      " 15  smoking            22935 non-null  object \n",
      " 16  cats               25596 non-null  object \n",
      " 17  dogs               25596 non-null  object \n",
      "dtypes: float64(5), int64(2), object(11)\n",
      "memory usage: 3.7+ MB\n"
     ]
    }
   ],
   "source": [
    "df.info()"
   ]
  },
  {
   "cell_type": "markdown",
   "id": "e76da67c",
   "metadata": {},
   "source": [
    "### Drop irrelevant columns"
   ]
  },
  {
   "cell_type": "code",
   "execution_count": null,
   "id": "b69b35b6",
   "metadata": {},
   "outputs": [],
   "source": [
    "df = df.drop(['link', 'address'], axis=1)"
   ]
  },
  {
   "cell_type": "code",
   "execution_count": 27,
   "id": "4a536fd3",
   "metadata": {},
   "outputs": [
    {
     "name": "stdout",
     "output_type": "stream",
     "text": [
      "<class 'pandas.core.frame.DataFrame'>\n",
      "Index: 25637 entries, 0 to 25770\n",
      "Data columns (total 16 columns):\n",
      " #   Column             Non-Null Count  Dtype  \n",
      "---  ------             --------------  -----  \n",
      " 0   rentfaster_id      25637 non-null  int64  \n",
      " 1   city               25637 non-null  object \n",
      " 2   province           25637 non-null  object \n",
      " 3   latitude           25637 non-null  float64\n",
      " 4   longitude          25637 non-null  float64\n",
      " 5   lease_term         25591 non-null  object \n",
      " 6   type               25637 non-null  object \n",
      " 7   price              25637 non-null  float64\n",
      " 8   beds               25637 non-null  int64  \n",
      " 9   baths              25637 non-null  float64\n",
      " 10  sq_feet            25637 non-null  float64\n",
      " 11  furnishing         25637 non-null  object \n",
      " 12  availability_date  25629 non-null  object \n",
      " 13  smoking            22935 non-null  object \n",
      " 14  cats               25596 non-null  object \n",
      " 15  dogs               25596 non-null  object \n",
      "dtypes: float64(5), int64(2), object(9)\n",
      "memory usage: 3.3+ MB\n"
     ]
    }
   ],
   "source": [
    "df.info()"
   ]
  },
  {
   "cell_type": "markdown",
   "id": "79956a18",
   "metadata": {},
   "source": [
    "### Handle Missing Values"
   ]
  },
  {
   "cell_type": "markdown",
   "id": "089c7768",
   "metadata": {},
   "source": [
    "#### `lease_term`"
   ]
  },
  {
   "cell_type": "code",
   "execution_count": 28,
   "id": "1809478f",
   "metadata": {},
   "outputs": [
    {
     "data": {
      "text/plain": [
       "array(['Long Term', 'Negotiable', 'Short Term', '12 months', 'months',\n",
       "       '6 months', nan], dtype=object)"
      ]
     },
     "execution_count": 28,
     "metadata": {},
     "output_type": "execute_result"
    }
   ],
   "source": [
    "df['lease_term'].unique()"
   ]
  },
  {
   "cell_type": "code",
   "execution_count": 29,
   "id": "fe639b34",
   "metadata": {},
   "outputs": [
    {
     "name": "stdout",
     "output_type": "stream",
     "text": [
      "0.18%\n"
     ]
    }
   ],
   "source": [
    "# Get proportion of null values\n",
    "print(f'{df['lease_term'].isna().mean():.2%}')"
   ]
  },
  {
   "cell_type": "code",
   "execution_count": 30,
   "id": "be189548",
   "metadata": {},
   "outputs": [],
   "source": [
    "# Drop null values\n",
    "df = df.dropna(subset='lease_term')"
   ]
  },
  {
   "cell_type": "code",
   "execution_count": 31,
   "id": "2aeb3bd9",
   "metadata": {},
   "outputs": [
    {
     "data": {
      "text/plain": [
       "rentfaster_id           0\n",
       "city                    0\n",
       "province                0\n",
       "latitude                0\n",
       "longitude               0\n",
       "lease_term              0\n",
       "type                    0\n",
       "price                   0\n",
       "beds                    0\n",
       "baths                   0\n",
       "sq_feet                 0\n",
       "furnishing              0\n",
       "availability_date       8\n",
       "smoking              2702\n",
       "cats                   41\n",
       "dogs                   41\n",
       "dtype: int64"
      ]
     },
     "execution_count": 31,
     "metadata": {},
     "output_type": "execute_result"
    }
   ],
   "source": [
    "df.isna().sum()"
   ]
  },
  {
   "cell_type": "markdown",
   "id": "ff162734",
   "metadata": {},
   "source": [
    "#### `smoking`"
   ]
  },
  {
   "cell_type": "code",
   "execution_count": 32,
   "id": "4000de8f",
   "metadata": {},
   "outputs": [
    {
     "data": {
      "text/plain": [
       "array(['Non-Smoking', 'Smoke Free Building', nan, 'Negotiable',\n",
       "       'Smoking Allowed'], dtype=object)"
      ]
     },
     "execution_count": 32,
     "metadata": {},
     "output_type": "execute_result"
    }
   ],
   "source": [
    "df['smoking'].unique()"
   ]
  },
  {
   "cell_type": "code",
   "execution_count": 33,
   "id": "3f0dd1d8",
   "metadata": {},
   "outputs": [
    {
     "name": "stdout",
     "output_type": "stream",
     "text": [
      "10.56%\n"
     ]
    }
   ],
   "source": [
    "# Get proportion of null values\n",
    "print(f'{df['smoking'].isna().mean():.2%}')"
   ]
  },
  {
   "cell_type": "code",
   "execution_count": 34,
   "id": "f9eee280",
   "metadata": {},
   "outputs": [],
   "source": [
    "# Replace null values with \"Unknown\"\n",
    "df['smoking'] = df['smoking'].fillna('Unknown')"
   ]
  },
  {
   "cell_type": "code",
   "execution_count": 35,
   "id": "2cb2049c",
   "metadata": {},
   "outputs": [],
   "source": [
    "# Collapse \"Non-Smoking\" and \"Smoke Free Building\"\n",
    "df['smoking'] = np.where(df['smoking'] == 'Smoke Free Building', 'Non-Smoking', df['smoking'])"
   ]
  },
  {
   "cell_type": "code",
   "execution_count": 36,
   "id": "45008481",
   "metadata": {},
   "outputs": [
    {
     "data": {
      "text/plain": [
       "array(['Non-Smoking', 'Unknown', 'Negotiable', 'Smoking Allowed'],\n",
       "      dtype=object)"
      ]
     },
     "execution_count": 36,
     "metadata": {},
     "output_type": "execute_result"
    }
   ],
   "source": [
    "df['smoking'].unique()"
   ]
  },
  {
   "cell_type": "code",
   "execution_count": 37,
   "id": "9712119f",
   "metadata": {},
   "outputs": [
    {
     "data": {
      "text/plain": [
       "rentfaster_id         0\n",
       "city                  0\n",
       "province              0\n",
       "latitude              0\n",
       "longitude             0\n",
       "lease_term            0\n",
       "type                  0\n",
       "price                 0\n",
       "beds                  0\n",
       "baths                 0\n",
       "sq_feet               0\n",
       "furnishing            0\n",
       "availability_date     8\n",
       "smoking               0\n",
       "cats                 41\n",
       "dogs                 41\n",
       "dtype: int64"
      ]
     },
     "execution_count": 37,
     "metadata": {},
     "output_type": "execute_result"
    }
   ],
   "source": [
    "df.isna().sum()"
   ]
  },
  {
   "cell_type": "markdown",
   "id": "7687498c",
   "metadata": {},
   "source": [
    "#### `cats` and `dogs`"
   ]
  },
  {
   "cell_type": "code",
   "execution_count": 39,
   "id": "71735dce",
   "metadata": {},
   "outputs": [
    {
     "data": {
      "text/plain": [
       "array([True, False, nan], dtype=object)"
      ]
     },
     "execution_count": 39,
     "metadata": {},
     "output_type": "execute_result"
    }
   ],
   "source": [
    "df['cats'].unique()"
   ]
  },
  {
   "cell_type": "code",
   "execution_count": 43,
   "id": "79493382",
   "metadata": {},
   "outputs": [
    {
     "data": {
      "text/plain": [
       "type\n",
       "Office Space    31\n",
       "Parking Spot     8\n",
       "Storage          2\n",
       "Name: count, dtype: int64"
      ]
     },
     "execution_count": 43,
     "metadata": {},
     "output_type": "execute_result"
    }
   ],
   "source": [
    "df[df['cats'].isna()]['type'].value_counts()"
   ]
  },
  {
   "cell_type": "code",
   "execution_count": 41,
   "id": "4b248521",
   "metadata": {},
   "outputs": [
    {
     "data": {
      "text/plain": [
       "array([True, False, nan], dtype=object)"
      ]
     },
     "execution_count": 41,
     "metadata": {},
     "output_type": "execute_result"
    }
   ],
   "source": [
    "df['dogs'].unique()"
   ]
  },
  {
   "cell_type": "code",
   "execution_count": 44,
   "id": "fe3ed217",
   "metadata": {},
   "outputs": [
    {
     "data": {
      "text/plain": [
       "type\n",
       "Office Space    31\n",
       "Parking Spot     8\n",
       "Storage          2\n",
       "Name: count, dtype: int64"
      ]
     },
     "execution_count": 44,
     "metadata": {},
     "output_type": "execute_result"
    }
   ],
   "source": [
    "df[df['dogs'].isna()]['type'].value_counts()"
   ]
  },
  {
   "cell_type": "code",
   "execution_count": 45,
   "id": "4537a0ef",
   "metadata": {},
   "outputs": [
    {
     "data": {
      "text/plain": [
       "type\n",
       "Apartment        16333\n",
       "Condo Unit        2256\n",
       "Basement          1659\n",
       "Townhouse         1628\n",
       "House             1605\n",
       "Main Floor         810\n",
       "Room For Rent      720\n",
       "Duplex             497\n",
       "Office Space        31\n",
       "Loft                25\n",
       "Acreage             11\n",
       "Parking Spot         8\n",
       "Vacation Home        4\n",
       "Storage              2\n",
       "Mobile               2\n",
       "Name: count, dtype: int64"
      ]
     },
     "execution_count": 45,
     "metadata": {},
     "output_type": "execute_result"
    }
   ],
   "source": [
    "df['type'].value_counts()"
   ]
  },
  {
   "cell_type": "markdown",
   "id": "316a6f1d",
   "metadata": {},
   "source": [
    "The number of null values are the same for cats and dogs"
   ]
  },
  {
   "cell_type": "code",
   "execution_count": 46,
   "id": "58b45730",
   "metadata": {},
   "outputs": [],
   "source": [
    "# Drop rows with the types \"Office Space\", \"Parking Spot\", and \"Storage\"\n",
    "df = df[~df['type'].isin(['Office Space', 'Parking Spot', 'Storage'])]"
   ]
  },
  {
   "cell_type": "code",
   "execution_count": 48,
   "id": "9db058ac",
   "metadata": {},
   "outputs": [
    {
     "data": {
      "text/plain": [
       "rentfaster_id        0\n",
       "city                 0\n",
       "province             0\n",
       "latitude             0\n",
       "longitude            0\n",
       "lease_term           0\n",
       "type                 0\n",
       "price                0\n",
       "beds                 0\n",
       "baths                0\n",
       "sq_feet              0\n",
       "furnishing           0\n",
       "availability_date    8\n",
       "smoking              0\n",
       "cats                 0\n",
       "dogs                 0\n",
       "dtype: int64"
      ]
     },
     "execution_count": 48,
     "metadata": {},
     "output_type": "execute_result"
    }
   ],
   "source": [
    "df.isna().sum()"
   ]
  },
  {
   "cell_type": "markdown",
   "id": "f56d9f6c",
   "metadata": {},
   "source": [
    "#### `availability_date`"
   ]
  },
  {
   "cell_type": "code",
   "execution_count": null,
   "id": "2e9a4d96",
   "metadata": {},
   "outputs": [],
   "source": [
    "# TODO: feature extraction"
   ]
  },
  {
   "cell_type": "code",
   "execution_count": 51,
   "id": "e76768c3",
   "metadata": {},
   "outputs": [
    {
     "data": {
      "text/plain": [
       "availability_date\n",
       "Immediate       14838\n",
       "July 01          3766\n",
       "August 01        1810\n",
       "No Vacancy        937\n",
       "September 01      734\n",
       "                ...  \n",
       "March 05            1\n",
       "November 29         1\n",
       "September 12        1\n",
       "December 31         1\n",
       "October 05          1\n",
       "Name: count, Length: 132, dtype: int64"
      ]
     },
     "execution_count": 51,
     "metadata": {},
     "output_type": "execute_result"
    }
   ],
   "source": [
    "df['availability_date'].value_counts()"
   ]
  },
  {
   "cell_type": "code",
   "execution_count": 49,
   "id": "6336d407",
   "metadata": {},
   "outputs": [
    {
     "data": {
      "text/html": [
       "<div>\n",
       "<style scoped>\n",
       "    .dataframe tbody tr th:only-of-type {\n",
       "        vertical-align: middle;\n",
       "    }\n",
       "\n",
       "    .dataframe tbody tr th {\n",
       "        vertical-align: top;\n",
       "    }\n",
       "\n",
       "    .dataframe thead th {\n",
       "        text-align: right;\n",
       "    }\n",
       "</style>\n",
       "<table border=\"1\" class=\"dataframe\">\n",
       "  <thead>\n",
       "    <tr style=\"text-align: right;\">\n",
       "      <th></th>\n",
       "      <th>rentfaster_id</th>\n",
       "      <th>city</th>\n",
       "      <th>province</th>\n",
       "      <th>latitude</th>\n",
       "      <th>longitude</th>\n",
       "      <th>lease_term</th>\n",
       "      <th>type</th>\n",
       "      <th>price</th>\n",
       "      <th>beds</th>\n",
       "      <th>baths</th>\n",
       "      <th>sq_feet</th>\n",
       "      <th>furnishing</th>\n",
       "      <th>availability_date</th>\n",
       "      <th>smoking</th>\n",
       "      <th>cats</th>\n",
       "      <th>dogs</th>\n",
       "    </tr>\n",
       "  </thead>\n",
       "  <tbody>\n",
       "    <tr>\n",
       "      <th>4678</th>\n",
       "      <td>570767</td>\n",
       "      <td>Calgary</td>\n",
       "      <td>Alberta</td>\n",
       "      <td>51.083401</td>\n",
       "      <td>-114.054478</td>\n",
       "      <td>Long Term</td>\n",
       "      <td>Duplex</td>\n",
       "      <td>1840.0</td>\n",
       "      <td>2</td>\n",
       "      <td>1.0</td>\n",
       "      <td>850.0</td>\n",
       "      <td>Unfurnished</td>\n",
       "      <td>NaN</td>\n",
       "      <td>Non-Smoking</td>\n",
       "      <td>True</td>\n",
       "      <td>False</td>\n",
       "    </tr>\n",
       "    <tr>\n",
       "      <th>4679</th>\n",
       "      <td>570767</td>\n",
       "      <td>Calgary</td>\n",
       "      <td>Alberta</td>\n",
       "      <td>51.083401</td>\n",
       "      <td>-114.054478</td>\n",
       "      <td>Long Term</td>\n",
       "      <td>Duplex</td>\n",
       "      <td>1840.0</td>\n",
       "      <td>2</td>\n",
       "      <td>2.0</td>\n",
       "      <td>1400.0</td>\n",
       "      <td>Unfurnished</td>\n",
       "      <td>NaN</td>\n",
       "      <td>Non-Smoking</td>\n",
       "      <td>True</td>\n",
       "      <td>False</td>\n",
       "    </tr>\n",
       "    <tr>\n",
       "      <th>5240</th>\n",
       "      <td>571805</td>\n",
       "      <td>Cochrane</td>\n",
       "      <td>Alberta</td>\n",
       "      <td>51.156633</td>\n",
       "      <td>-114.472704</td>\n",
       "      <td>Long Term</td>\n",
       "      <td>Townhouse</td>\n",
       "      <td>2150.0</td>\n",
       "      <td>2</td>\n",
       "      <td>1.5</td>\n",
       "      <td>1200.0</td>\n",
       "      <td>Unfurnished</td>\n",
       "      <td>NaN</td>\n",
       "      <td>Non-Smoking</td>\n",
       "      <td>False</td>\n",
       "      <td>False</td>\n",
       "    </tr>\n",
       "    <tr>\n",
       "      <th>5241</th>\n",
       "      <td>571805</td>\n",
       "      <td>Cochrane</td>\n",
       "      <td>Alberta</td>\n",
       "      <td>51.156633</td>\n",
       "      <td>-114.472704</td>\n",
       "      <td>Long Term</td>\n",
       "      <td>Townhouse</td>\n",
       "      <td>2150.0</td>\n",
       "      <td>2</td>\n",
       "      <td>1.5</td>\n",
       "      <td>1200.0</td>\n",
       "      <td>Unfurnished</td>\n",
       "      <td>NaN</td>\n",
       "      <td>Non-Smoking</td>\n",
       "      <td>False</td>\n",
       "      <td>False</td>\n",
       "    </tr>\n",
       "    <tr>\n",
       "      <th>5589</th>\n",
       "      <td>570990</td>\n",
       "      <td>Edmonton</td>\n",
       "      <td>Alberta</td>\n",
       "      <td>53.569215</td>\n",
       "      <td>-113.535570</td>\n",
       "      <td>Long Term</td>\n",
       "      <td>Apartment</td>\n",
       "      <td>1100.0</td>\n",
       "      <td>1</td>\n",
       "      <td>1.0</td>\n",
       "      <td>650.0</td>\n",
       "      <td>Unfurnished</td>\n",
       "      <td>NaN</td>\n",
       "      <td>Non-Smoking</td>\n",
       "      <td>False</td>\n",
       "      <td>False</td>\n",
       "    </tr>\n",
       "    <tr>\n",
       "      <th>5590</th>\n",
       "      <td>570990</td>\n",
       "      <td>Edmonton</td>\n",
       "      <td>Alberta</td>\n",
       "      <td>53.569215</td>\n",
       "      <td>-113.535570</td>\n",
       "      <td>Long Term</td>\n",
       "      <td>Apartment</td>\n",
       "      <td>875.0</td>\n",
       "      <td>0</td>\n",
       "      <td>1.0</td>\n",
       "      <td>375.0</td>\n",
       "      <td>Unfurnished</td>\n",
       "      <td>NaN</td>\n",
       "      <td>Non-Smoking</td>\n",
       "      <td>False</td>\n",
       "      <td>False</td>\n",
       "    </tr>\n",
       "    <tr>\n",
       "      <th>13944</th>\n",
       "      <td>570767</td>\n",
       "      <td>Calgary</td>\n",
       "      <td>Alberta</td>\n",
       "      <td>51.083401</td>\n",
       "      <td>-114.054478</td>\n",
       "      <td>Long Term</td>\n",
       "      <td>Duplex</td>\n",
       "      <td>1840.0</td>\n",
       "      <td>2</td>\n",
       "      <td>1.0</td>\n",
       "      <td>850.0</td>\n",
       "      <td>Unfurnished</td>\n",
       "      <td>NaN</td>\n",
       "      <td>Non-Smoking</td>\n",
       "      <td>True</td>\n",
       "      <td>False</td>\n",
       "    </tr>\n",
       "    <tr>\n",
       "      <th>13945</th>\n",
       "      <td>570767</td>\n",
       "      <td>Calgary</td>\n",
       "      <td>Alberta</td>\n",
       "      <td>51.083401</td>\n",
       "      <td>-114.054478</td>\n",
       "      <td>Long Term</td>\n",
       "      <td>Duplex</td>\n",
       "      <td>1840.0</td>\n",
       "      <td>2</td>\n",
       "      <td>2.0</td>\n",
       "      <td>1400.0</td>\n",
       "      <td>Unfurnished</td>\n",
       "      <td>NaN</td>\n",
       "      <td>Non-Smoking</td>\n",
       "      <td>True</td>\n",
       "      <td>False</td>\n",
       "    </tr>\n",
       "  </tbody>\n",
       "</table>\n",
       "</div>"
      ],
      "text/plain": [
       "       rentfaster_id      city province   latitude   longitude lease_term  \\\n",
       "4678          570767   Calgary  Alberta  51.083401 -114.054478  Long Term   \n",
       "4679          570767   Calgary  Alberta  51.083401 -114.054478  Long Term   \n",
       "5240          571805  Cochrane  Alberta  51.156633 -114.472704  Long Term   \n",
       "5241          571805  Cochrane  Alberta  51.156633 -114.472704  Long Term   \n",
       "5589          570990  Edmonton  Alberta  53.569215 -113.535570  Long Term   \n",
       "5590          570990  Edmonton  Alberta  53.569215 -113.535570  Long Term   \n",
       "13944         570767   Calgary  Alberta  51.083401 -114.054478  Long Term   \n",
       "13945         570767   Calgary  Alberta  51.083401 -114.054478  Long Term   \n",
       "\n",
       "            type   price  beds  baths  sq_feet   furnishing availability_date  \\\n",
       "4678      Duplex  1840.0     2    1.0    850.0  Unfurnished               NaN   \n",
       "4679      Duplex  1840.0     2    2.0   1400.0  Unfurnished               NaN   \n",
       "5240   Townhouse  2150.0     2    1.5   1200.0  Unfurnished               NaN   \n",
       "5241   Townhouse  2150.0     2    1.5   1200.0  Unfurnished               NaN   \n",
       "5589   Apartment  1100.0     1    1.0    650.0  Unfurnished               NaN   \n",
       "5590   Apartment   875.0     0    1.0    375.0  Unfurnished               NaN   \n",
       "13944     Duplex  1840.0     2    1.0    850.0  Unfurnished               NaN   \n",
       "13945     Duplex  1840.0     2    2.0   1400.0  Unfurnished               NaN   \n",
       "\n",
       "           smoking   cats   dogs  \n",
       "4678   Non-Smoking   True  False  \n",
       "4679   Non-Smoking   True  False  \n",
       "5240   Non-Smoking  False  False  \n",
       "5241   Non-Smoking  False  False  \n",
       "5589   Non-Smoking  False  False  \n",
       "5590   Non-Smoking  False  False  \n",
       "13944  Non-Smoking   True  False  \n",
       "13945  Non-Smoking   True  False  "
      ]
     },
     "execution_count": 49,
     "metadata": {},
     "output_type": "execute_result"
    }
   ],
   "source": [
    "df[df['availability_date'].isna()]"
   ]
  },
  {
   "cell_type": "code",
   "execution_count": null,
   "id": "3f4f7a04",
   "metadata": {},
   "outputs": [],
   "source": [
    "# Drop null rows"
   ]
  },
  {
   "cell_type": "code",
   "execution_count": null,
   "id": "3a408af7",
   "metadata": {},
   "outputs": [],
   "source": [
    "# Assert there are no more null values"
   ]
  },
  {
   "cell_type": "code",
   "execution_count": null,
   "id": "c56430d1",
   "metadata": {},
   "outputs": [],
   "source": [
    "# Reset index"
   ]
  },
  {
   "cell_type": "code",
   "execution_count": null,
   "id": "71f2393f",
   "metadata": {},
   "outputs": [],
   "source": []
  },
  {
   "cell_type": "markdown",
   "id": "7b3928de",
   "metadata": {},
   "source": [
    "## EDA"
   ]
  },
  {
   "cell_type": "code",
   "execution_count": 53,
   "id": "98a19f40",
   "metadata": {},
   "outputs": [
    {
     "data": {
      "text/plain": [
       "province\n",
       "Alberta                      13629\n",
       "Ontario                       6598\n",
       "Quebec                        2245\n",
       "British Columbia              1154\n",
       "Manitoba                       890\n",
       "Saskatchewan                   716\n",
       "Nova Scotia                    273\n",
       "Northwest Territories           20\n",
       "New Brunswick                   13\n",
       "Newfoundland and Labrador       12\n",
       "Name: count, dtype: int64"
      ]
     },
     "execution_count": 53,
     "metadata": {},
     "output_type": "execute_result"
    }
   ],
   "source": [
    "df['province'].value_counts()"
   ]
  },
  {
   "cell_type": "code",
   "execution_count": 52,
   "id": "2fabde74",
   "metadata": {},
   "outputs": [
    {
     "data": {
      "text/plain": [
       "city\n",
       "Calgary          9702\n",
       "Toronto          2893\n",
       "Edmonton         2871\n",
       "Montréal         1601\n",
       "Ottawa           1179\n",
       "                 ... \n",
       "Ridgetown           1\n",
       "Prince Edward       1\n",
       "Port Colborne       1\n",
       "Vanier              1\n",
       "Tilbury             1\n",
       "Name: count, Length: 265, dtype: int64"
      ]
     },
     "execution_count": 52,
     "metadata": {},
     "output_type": "execute_result"
    }
   ],
   "source": [
    "df['city'].value_counts()"
   ]
  },
  {
   "cell_type": "markdown",
   "id": "e28f354d",
   "metadata": {},
   "source": [
    "## End"
   ]
  }
 ],
 "metadata": {
  "kernelspec": {
   "display_name": "venv",
   "language": "python",
   "name": "python3"
  },
  "language_info": {
   "codemirror_mode": {
    "name": "ipython",
    "version": 3
   },
   "file_extension": ".py",
   "mimetype": "text/x-python",
   "name": "python",
   "nbconvert_exporter": "python",
   "pygments_lexer": "ipython3",
   "version": "3.13.5"
  }
 },
 "nbformat": 4,
 "nbformat_minor": 5
}
