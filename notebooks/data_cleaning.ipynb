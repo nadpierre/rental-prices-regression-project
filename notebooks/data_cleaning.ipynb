{
 "cells": [
  {
   "cell_type": "markdown",
   "id": "e27a181c",
   "metadata": {},
   "source": [
    "# Canadian Rental Prices Regression Project"
   ]
  },
  {
   "cell_type": "markdown",
   "id": "a8c19307",
   "metadata": {},
   "source": [
    "## Overview"
   ]
  },
  {
   "cell_type": "markdown",
   "id": "e01ef790",
   "metadata": {},
   "source": [
    "This notebook ..."
   ]
  },
  {
   "cell_type": "markdown",
   "id": "f7ae1887",
   "metadata": {},
   "source": [
    "## Imports"
   ]
  },
  {
   "cell_type": "code",
   "execution_count": 55,
   "id": "3ac67d63",
   "metadata": {},
   "outputs": [],
   "source": [
    "import numpy as np\n",
    "import pandas as pd"
   ]
  },
  {
   "cell_type": "code",
   "execution_count": 56,
   "id": "69b23b9d",
   "metadata": {},
   "outputs": [],
   "source": [
    "df = pd.read_csv('../data/canada_rent.csv')"
   ]
  },
  {
   "cell_type": "code",
   "execution_count": 57,
   "id": "2b0a43d0",
   "metadata": {},
   "outputs": [
    {
     "data": {
      "text/html": [
       "<div>\n",
       "<style scoped>\n",
       "    .dataframe tbody tr th:only-of-type {\n",
       "        vertical-align: middle;\n",
       "    }\n",
       "\n",
       "    .dataframe tbody tr th {\n",
       "        vertical-align: top;\n",
       "    }\n",
       "\n",
       "    .dataframe thead th {\n",
       "        text-align: right;\n",
       "    }\n",
       "</style>\n",
       "<table border=\"1\" class=\"dataframe\">\n",
       "  <thead>\n",
       "    <tr style=\"text-align: right;\">\n",
       "      <th></th>\n",
       "      <th>rentfaster_id</th>\n",
       "      <th>city</th>\n",
       "      <th>province</th>\n",
       "      <th>address</th>\n",
       "      <th>latitude</th>\n",
       "      <th>longitude</th>\n",
       "      <th>lease_term</th>\n",
       "      <th>type</th>\n",
       "      <th>price</th>\n",
       "      <th>beds</th>\n",
       "      <th>baths</th>\n",
       "      <th>sq_feet</th>\n",
       "      <th>link</th>\n",
       "      <th>furnishing</th>\n",
       "      <th>availability_date</th>\n",
       "      <th>smoking</th>\n",
       "      <th>cats</th>\n",
       "      <th>dogs</th>\n",
       "    </tr>\n",
       "  </thead>\n",
       "  <tbody>\n",
       "    <tr>\n",
       "      <th>0</th>\n",
       "      <td>468622</td>\n",
       "      <td>Airdrie</td>\n",
       "      <td>Alberta</td>\n",
       "      <td>69 Gateway Dr NE</td>\n",
       "      <td>51.305962</td>\n",
       "      <td>-114.012515</td>\n",
       "      <td>Long Term</td>\n",
       "      <td>Townhouse</td>\n",
       "      <td>2495.0</td>\n",
       "      <td>2 Beds</td>\n",
       "      <td>2.5</td>\n",
       "      <td>1403</td>\n",
       "      <td>/ab/airdrie/rentals/townhouse/2-bedrooms/pet-f...</td>\n",
       "      <td>Unfurnished</td>\n",
       "      <td>Immediate</td>\n",
       "      <td>Non-Smoking</td>\n",
       "      <td>True</td>\n",
       "      <td>True</td>\n",
       "    </tr>\n",
       "    <tr>\n",
       "      <th>1</th>\n",
       "      <td>468622</td>\n",
       "      <td>Airdrie</td>\n",
       "      <td>Alberta</td>\n",
       "      <td>69 Gateway Dr NE</td>\n",
       "      <td>51.305962</td>\n",
       "      <td>-114.012515</td>\n",
       "      <td>Long Term</td>\n",
       "      <td>Townhouse</td>\n",
       "      <td>2695.0</td>\n",
       "      <td>3 Beds</td>\n",
       "      <td>2.5</td>\n",
       "      <td>1496</td>\n",
       "      <td>/ab/airdrie/rentals/townhouse/2-bedrooms/pet-f...</td>\n",
       "      <td>Unfurnished</td>\n",
       "      <td>Immediate</td>\n",
       "      <td>Non-Smoking</td>\n",
       "      <td>True</td>\n",
       "      <td>True</td>\n",
       "    </tr>\n",
       "    <tr>\n",
       "      <th>2</th>\n",
       "      <td>468622</td>\n",
       "      <td>Airdrie</td>\n",
       "      <td>Alberta</td>\n",
       "      <td>69 Gateway Dr NE</td>\n",
       "      <td>51.305962</td>\n",
       "      <td>-114.012515</td>\n",
       "      <td>Long Term</td>\n",
       "      <td>Townhouse</td>\n",
       "      <td>2295.0</td>\n",
       "      <td>2 Beds</td>\n",
       "      <td>2.5</td>\n",
       "      <td>1180</td>\n",
       "      <td>/ab/airdrie/rentals/townhouse/2-bedrooms/pet-f...</td>\n",
       "      <td>Unfurnished</td>\n",
       "      <td>Immediate</td>\n",
       "      <td>Non-Smoking</td>\n",
       "      <td>True</td>\n",
       "      <td>True</td>\n",
       "    </tr>\n",
       "    <tr>\n",
       "      <th>3</th>\n",
       "      <td>468622</td>\n",
       "      <td>Airdrie</td>\n",
       "      <td>Alberta</td>\n",
       "      <td>69 Gateway Dr NE</td>\n",
       "      <td>51.305962</td>\n",
       "      <td>-114.012515</td>\n",
       "      <td>Long Term</td>\n",
       "      <td>Townhouse</td>\n",
       "      <td>2095.0</td>\n",
       "      <td>2 Beds</td>\n",
       "      <td>2.5</td>\n",
       "      <td>1403</td>\n",
       "      <td>/ab/airdrie/rentals/townhouse/2-bedrooms/pet-f...</td>\n",
       "      <td>Unfurnished</td>\n",
       "      <td>November 18</td>\n",
       "      <td>Non-Smoking</td>\n",
       "      <td>True</td>\n",
       "      <td>True</td>\n",
       "    </tr>\n",
       "    <tr>\n",
       "      <th>4</th>\n",
       "      <td>468622</td>\n",
       "      <td>Airdrie</td>\n",
       "      <td>Alberta</td>\n",
       "      <td>69 Gateway Dr NE</td>\n",
       "      <td>51.305962</td>\n",
       "      <td>-114.012515</td>\n",
       "      <td>Long Term</td>\n",
       "      <td>Townhouse</td>\n",
       "      <td>2495.0</td>\n",
       "      <td>2 Beds</td>\n",
       "      <td>2.5</td>\n",
       "      <td>1403</td>\n",
       "      <td>/ab/airdrie/rentals/townhouse/2-bedrooms/pet-f...</td>\n",
       "      <td>Unfurnished</td>\n",
       "      <td>Immediate</td>\n",
       "      <td>Non-Smoking</td>\n",
       "      <td>True</td>\n",
       "      <td>True</td>\n",
       "    </tr>\n",
       "  </tbody>\n",
       "</table>\n",
       "</div>"
      ],
      "text/plain": [
       "   rentfaster_id     city province           address   latitude   longitude  \\\n",
       "0         468622  Airdrie  Alberta  69 Gateway Dr NE  51.305962 -114.012515   \n",
       "1         468622  Airdrie  Alberta  69 Gateway Dr NE  51.305962 -114.012515   \n",
       "2         468622  Airdrie  Alberta  69 Gateway Dr NE  51.305962 -114.012515   \n",
       "3         468622  Airdrie  Alberta  69 Gateway Dr NE  51.305962 -114.012515   \n",
       "4         468622  Airdrie  Alberta  69 Gateway Dr NE  51.305962 -114.012515   \n",
       "\n",
       "  lease_term       type   price    beds baths sq_feet  \\\n",
       "0  Long Term  Townhouse  2495.0  2 Beds   2.5    1403   \n",
       "1  Long Term  Townhouse  2695.0  3 Beds   2.5    1496   \n",
       "2  Long Term  Townhouse  2295.0  2 Beds   2.5    1180   \n",
       "3  Long Term  Townhouse  2095.0  2 Beds   2.5    1403   \n",
       "4  Long Term  Townhouse  2495.0  2 Beds   2.5    1403   \n",
       "\n",
       "                                                link   furnishing  \\\n",
       "0  /ab/airdrie/rentals/townhouse/2-bedrooms/pet-f...  Unfurnished   \n",
       "1  /ab/airdrie/rentals/townhouse/2-bedrooms/pet-f...  Unfurnished   \n",
       "2  /ab/airdrie/rentals/townhouse/2-bedrooms/pet-f...  Unfurnished   \n",
       "3  /ab/airdrie/rentals/townhouse/2-bedrooms/pet-f...  Unfurnished   \n",
       "4  /ab/airdrie/rentals/townhouse/2-bedrooms/pet-f...  Unfurnished   \n",
       "\n",
       "  availability_date      smoking  cats  dogs  \n",
       "0         Immediate  Non-Smoking  True  True  \n",
       "1         Immediate  Non-Smoking  True  True  \n",
       "2         Immediate  Non-Smoking  True  True  \n",
       "3       November 18  Non-Smoking  True  True  \n",
       "4         Immediate  Non-Smoking  True  True  "
      ]
     },
     "execution_count": 57,
     "metadata": {},
     "output_type": "execute_result"
    }
   ],
   "source": [
    "df.head()"
   ]
  },
  {
   "cell_type": "code",
   "execution_count": 58,
   "id": "a470d8b4",
   "metadata": {},
   "outputs": [
    {
     "name": "stdout",
     "output_type": "stream",
     "text": [
      "<class 'pandas.core.frame.DataFrame'>\n",
      "RangeIndex: 25771 entries, 0 to 25770\n",
      "Data columns (total 18 columns):\n",
      " #   Column             Non-Null Count  Dtype  \n",
      "---  ------             --------------  -----  \n",
      " 0   rentfaster_id      25771 non-null  int64  \n",
      " 1   city               25771 non-null  object \n",
      " 2   province           25771 non-null  object \n",
      " 3   address            25646 non-null  object \n",
      " 4   latitude           25771 non-null  float64\n",
      " 5   longitude          25771 non-null  float64\n",
      " 6   lease_term         25725 non-null  object \n",
      " 7   type               25771 non-null  object \n",
      " 8   price              25771 non-null  float64\n",
      " 9   beds               25639 non-null  object \n",
      " 10  baths              25637 non-null  object \n",
      " 11  sq_feet            21659 non-null  object \n",
      " 12  link               25771 non-null  object \n",
      " 13  furnishing         25771 non-null  object \n",
      " 14  availability_date  25759 non-null  object \n",
      " 15  smoking            23069 non-null  object \n",
      " 16  cats               25598 non-null  object \n",
      " 17  dogs               25598 non-null  object \n",
      "dtypes: float64(3), int64(1), object(14)\n",
      "memory usage: 3.5+ MB\n"
     ]
    }
   ],
   "source": [
    "df.info()"
   ]
  },
  {
   "cell_type": "markdown",
   "id": "4814400c",
   "metadata": {},
   "source": [
    "## Data Cleaning"
   ]
  },
  {
   "cell_type": "markdown",
   "id": "19535083",
   "metadata": {},
   "source": [
    "### Convert `beds`, `baths` and `sq_feet` to numerical format"
   ]
  },
  {
   "cell_type": "markdown",
   "id": "53187cab",
   "metadata": {},
   "source": [
    "#### `beds`"
   ]
  },
  {
   "cell_type": "code",
   "execution_count": 59,
   "id": "033518f1",
   "metadata": {},
   "outputs": [
    {
     "data": {
      "text/plain": [
       "array(['2 Beds', '3 Beds', 'Studio', '1 Bed', '5 Beds', '4 Beds', nan,\n",
       "       '6 Beds', 'none Beds', '8 Beds', '7 Beds', '9 Beds'], dtype=object)"
      ]
     },
     "execution_count": 59,
     "metadata": {},
     "output_type": "execute_result"
    }
   ],
   "source": [
    "df['beds'].unique()"
   ]
  },
  {
   "cell_type": "code",
   "execution_count": 60,
   "id": "ebec6baf",
   "metadata": {},
   "outputs": [
    {
     "name": "stdout",
     "output_type": "stream",
     "text": [
      "0.51%\n"
     ]
    }
   ],
   "source": [
    "# Get proportion of null beds\n",
    "print(f'{df['beds'].isna().mean():.2%}')"
   ]
  },
  {
   "cell_type": "code",
   "execution_count": 61,
   "id": "f9e7ffd1",
   "metadata": {},
   "outputs": [],
   "source": [
    "# Remove Bed(s) after numbers\n",
    "df['beds'] = df['beds'].str.replace(r'(?<=\\d)\\s+Bed[s]*', '', regex=True)"
   ]
  },
  {
   "cell_type": "code",
   "execution_count": 62,
   "id": "e873df7d",
   "metadata": {},
   "outputs": [],
   "source": [
    "# Replace Studio and none Beds by 0\n",
    "df['beds'] = np.where(df['beds'].isin(['Studio', 'none Beds']), 0, df['beds'])"
   ]
  },
  {
   "cell_type": "code",
   "execution_count": 63,
   "id": "68f60778",
   "metadata": {},
   "outputs": [],
   "source": [
    "# Drop rows with nan beds\n",
    "df = df.dropna(subset='beds')"
   ]
  },
  {
   "cell_type": "code",
   "execution_count": 64,
   "id": "ee12fc75",
   "metadata": {},
   "outputs": [
    {
     "name": "stdout",
     "output_type": "stream",
     "text": [
      "<class 'pandas.core.frame.DataFrame'>\n",
      "Index: 25639 entries, 0 to 25770\n",
      "Data columns (total 18 columns):\n",
      " #   Column             Non-Null Count  Dtype  \n",
      "---  ------             --------------  -----  \n",
      " 0   rentfaster_id      25639 non-null  int64  \n",
      " 1   city               25639 non-null  object \n",
      " 2   province           25639 non-null  object \n",
      " 3   address            25516 non-null  object \n",
      " 4   latitude           25639 non-null  float64\n",
      " 5   longitude          25639 non-null  float64\n",
      " 6   lease_term         25593 non-null  object \n",
      " 7   type               25639 non-null  object \n",
      " 8   price              25639 non-null  float64\n",
      " 9   beds               25639 non-null  object \n",
      " 10  baths              25637 non-null  object \n",
      " 11  sq_feet            21658 non-null  object \n",
      " 12  link               25639 non-null  object \n",
      " 13  furnishing         25639 non-null  object \n",
      " 14  availability_date  25631 non-null  object \n",
      " 15  smoking            22937 non-null  object \n",
      " 16  cats               25596 non-null  object \n",
      " 17  dogs               25596 non-null  object \n",
      "dtypes: float64(3), int64(1), object(14)\n",
      "memory usage: 3.7+ MB\n"
     ]
    }
   ],
   "source": [
    "df.info()"
   ]
  },
  {
   "cell_type": "code",
   "execution_count": 65,
   "id": "9fcc3dfd",
   "metadata": {},
   "outputs": [
    {
     "data": {
      "text/plain": [
       "count    25639.000000\n",
       "mean         1.743087\n",
       "std          0.974852\n",
       "min          0.000000\n",
       "25%          1.000000\n",
       "50%          2.000000\n",
       "75%          2.000000\n",
       "max          9.000000\n",
       "Name: beds, dtype: float64"
      ]
     },
     "execution_count": 65,
     "metadata": {},
     "output_type": "execute_result"
    }
   ],
   "source": [
    "# Convert beds to numerical\n",
    "df['beds'] = df['beds'].astype('int64')\n",
    "df['beds'].describe()"
   ]
  },
  {
   "cell_type": "markdown",
   "id": "6e8164d2",
   "metadata": {},
   "source": [
    "#### `baths`"
   ]
  },
  {
   "cell_type": "code",
   "execution_count": 66,
   "id": "c1e846d9",
   "metadata": {},
   "outputs": [
    {
     "data": {
      "text/plain": [
       "array(['2.5', '1', '2', '1.5', '3.5', '4', '3', '5', 'none', '4.5', '7.5',\n",
       "       nan, '5.5', '6', '6.5', '7', '8', '0'], dtype=object)"
      ]
     },
     "execution_count": 66,
     "metadata": {},
     "output_type": "execute_result"
    }
   ],
   "source": [
    "df['baths'].unique()"
   ]
  },
  {
   "cell_type": "code",
   "execution_count": 67,
   "id": "0387628e",
   "metadata": {},
   "outputs": [
    {
     "name": "stdout",
     "output_type": "stream",
     "text": [
      "0.01%\n"
     ]
    }
   ],
   "source": [
    "# Get proportion of null baths\n",
    "print(f'{df['baths'].isna().mean():.2%}')"
   ]
  },
  {
   "cell_type": "code",
   "execution_count": 68,
   "id": "afbbc9b3",
   "metadata": {},
   "outputs": [],
   "source": [
    "# Replace none by 0\n",
    "df['baths'] = np.where(df['baths'] == 'none', 0, df['baths'])"
   ]
  },
  {
   "cell_type": "code",
   "execution_count": 69,
   "id": "a9e29c0b",
   "metadata": {},
   "outputs": [],
   "source": [
    "# Drop rows with nan baths\n",
    "df = df.dropna(subset='baths')"
   ]
  },
  {
   "cell_type": "code",
   "execution_count": 70,
   "id": "bef2afb7",
   "metadata": {},
   "outputs": [],
   "source": [
    "# Convert to float\n",
    "df['baths'] = df['baths'].astype('float')"
   ]
  },
  {
   "cell_type": "code",
   "execution_count": 71,
   "id": "8ce757e8",
   "metadata": {},
   "outputs": [
    {
     "name": "stdout",
     "output_type": "stream",
     "text": [
      "<class 'pandas.core.frame.DataFrame'>\n",
      "Index: 25637 entries, 0 to 25770\n",
      "Data columns (total 18 columns):\n",
      " #   Column             Non-Null Count  Dtype  \n",
      "---  ------             --------------  -----  \n",
      " 0   rentfaster_id      25637 non-null  int64  \n",
      " 1   city               25637 non-null  object \n",
      " 2   province           25637 non-null  object \n",
      " 3   address            25514 non-null  object \n",
      " 4   latitude           25637 non-null  float64\n",
      " 5   longitude          25637 non-null  float64\n",
      " 6   lease_term         25591 non-null  object \n",
      " 7   type               25637 non-null  object \n",
      " 8   price              25637 non-null  float64\n",
      " 9   beds               25637 non-null  int64  \n",
      " 10  baths              25637 non-null  float64\n",
      " 11  sq_feet            21656 non-null  object \n",
      " 12  link               25637 non-null  object \n",
      " 13  furnishing         25637 non-null  object \n",
      " 14  availability_date  25629 non-null  object \n",
      " 15  smoking            22935 non-null  object \n",
      " 16  cats               25596 non-null  object \n",
      " 17  dogs               25596 non-null  object \n",
      "dtypes: float64(4), int64(2), object(12)\n",
      "memory usage: 3.7+ MB\n"
     ]
    }
   ],
   "source": [
    "df.info()"
   ]
  },
  {
   "cell_type": "markdown",
   "id": "ab5209d0",
   "metadata": {},
   "source": [
    "#### `sq_feet`"
   ]
  },
  {
   "cell_type": "code",
   "execution_count": 72,
   "id": "618a8bbf",
   "metadata": {},
   "outputs": [
    {
     "data": {
      "text/plain": [
       "array(['1403', '1496', '1180', ..., '260', '286', '334'],\n",
       "      shape=(1896,), dtype=object)"
      ]
     },
     "execution_count": 72,
     "metadata": {},
     "output_type": "execute_result"
    }
   ],
   "source": [
    "df['sq_feet'].unique()"
   ]
  },
  {
   "cell_type": "code",
   "execution_count": 73,
   "id": "9d062a69",
   "metadata": {},
   "outputs": [
    {
     "name": "stdout",
     "output_type": "stream",
     "text": [
      "15.53%\n"
     ]
    }
   ],
   "source": [
    "# Get proportion of null sq_feet\n",
    "print(f'{df['sq_feet'].isna().mean():.2%}')"
   ]
  },
  {
   "cell_type": "code",
   "execution_count": 74,
   "id": "75cf0941",
   "metadata": {},
   "outputs": [],
   "source": [
    "# Extract number from string\n",
    "df['sq_feet'] = df['sq_feet'].str.extract(r'(\\d+)', expand=False)"
   ]
  },
  {
   "cell_type": "code",
   "execution_count": 75,
   "id": "f55e586a",
   "metadata": {},
   "outputs": [],
   "source": [
    "# Convert to numeric\n",
    "df['sq_feet'] = df['sq_feet'].astype('float')"
   ]
  },
  {
   "cell_type": "code",
   "execution_count": 76,
   "id": "49d3609d",
   "metadata": {},
   "outputs": [],
   "source": [
    "# Group-wise median imputation\n",
    "df['sq_feet'] = df['sq_feet'].fillna(df.groupby(['city', 'type'])['sq_feet'].transform('median'))"
   ]
  },
  {
   "cell_type": "code",
   "execution_count": 77,
   "id": "fb1136b0",
   "metadata": {},
   "outputs": [
    {
     "name": "stdout",
     "output_type": "stream",
     "text": [
      "0.62%\n"
     ]
    }
   ],
   "source": [
    "# Get new proportion of null sq_feet\n",
    "print(f'{df['sq_feet'].isna().mean():.2%}')"
   ]
  },
  {
   "cell_type": "code",
   "execution_count": 78,
   "id": "73afcc70",
   "metadata": {},
   "outputs": [],
   "source": [
    "# Fill remaining null values with overall median\n",
    "df['sq_feet'] = df['sq_feet'].fillna(df['sq_feet'].median())"
   ]
  },
  {
   "cell_type": "code",
   "execution_count": 79,
   "id": "84905fea",
   "metadata": {},
   "outputs": [
    {
     "name": "stdout",
     "output_type": "stream",
     "text": [
      "<class 'pandas.core.frame.DataFrame'>\n",
      "Index: 25637 entries, 0 to 25770\n",
      "Data columns (total 18 columns):\n",
      " #   Column             Non-Null Count  Dtype  \n",
      "---  ------             --------------  -----  \n",
      " 0   rentfaster_id      25637 non-null  int64  \n",
      " 1   city               25637 non-null  object \n",
      " 2   province           25637 non-null  object \n",
      " 3   address            25514 non-null  object \n",
      " 4   latitude           25637 non-null  float64\n",
      " 5   longitude          25637 non-null  float64\n",
      " 6   lease_term         25591 non-null  object \n",
      " 7   type               25637 non-null  object \n",
      " 8   price              25637 non-null  float64\n",
      " 9   beds               25637 non-null  int64  \n",
      " 10  baths              25637 non-null  float64\n",
      " 11  sq_feet            25637 non-null  float64\n",
      " 12  link               25637 non-null  object \n",
      " 13  furnishing         25637 non-null  object \n",
      " 14  availability_date  25629 non-null  object \n",
      " 15  smoking            22935 non-null  object \n",
      " 16  cats               25596 non-null  object \n",
      " 17  dogs               25596 non-null  object \n",
      "dtypes: float64(5), int64(2), object(11)\n",
      "memory usage: 3.7+ MB\n"
     ]
    }
   ],
   "source": [
    "df.info()"
   ]
  },
  {
   "cell_type": "markdown",
   "id": "79956a18",
   "metadata": {},
   "source": [
    "### Handle Missing Values"
   ]
  },
  {
   "cell_type": "markdown",
   "id": "e76da67c",
   "metadata": {},
   "source": [
    "### Drop irrelevant columns"
   ]
  },
  {
   "cell_type": "markdown",
   "id": "1f952bb2",
   "metadata": {},
   "source": []
  }
 ],
 "metadata": {
  "kernelspec": {
   "display_name": "venv",
   "language": "python",
   "name": "python3"
  },
  "language_info": {
   "codemirror_mode": {
    "name": "ipython",
    "version": 3
   },
   "file_extension": ".py",
   "mimetype": "text/x-python",
   "name": "python",
   "nbconvert_exporter": "python",
   "pygments_lexer": "ipython3",
   "version": "3.13.3"
  }
 },
 "nbformat": 4,
 "nbformat_minor": 5
}
