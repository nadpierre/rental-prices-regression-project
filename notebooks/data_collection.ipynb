{
 "cells": [
  {
   "cell_type": "markdown",
   "id": "bfaa85f0",
   "metadata": {},
   "source": [
    "# Canadian Rental Prices Data Collection"
   ]
  },
  {
   "cell_type": "markdown",
   "id": "dda2b8c5",
   "metadata": {},
   "source": [
    "## Imports"
   ]
  },
  {
   "cell_type": "code",
   "execution_count": 1,
   "id": "143b5f6a",
   "metadata": {},
   "outputs": [],
   "source": [
    "from bs4 import BeautifulSoup\n",
    "import pandas as pd\n",
    "import requests"
   ]
  },
  {
   "cell_type": "code",
   "execution_count": null,
   "id": "5d2316ba",
   "metadata": {},
   "outputs": [],
   "source": [
    "# Import custom code\n",
    "from src.helper_functions import export_list_to_csv"
   ]
  },
  {
   "cell_type": "code",
   "execution_count": 3,
   "id": "f040085d",
   "metadata": {},
   "outputs": [],
   "source": [
    "root_url = 'https://www.rentfaster.ca'\n",
    "map_url = 'https://www.rentfaster.ca/api/map.json'"
   ]
  },
  {
   "cell_type": "code",
   "execution_count": null,
   "id": "a913824a",
   "metadata": {},
   "outputs": [],
   "source": [
    "# Get all cities from the site map\n",
    "cities_url = f'{root_url}/cities'\n",
    "\n",
    "response = requests.get(cities_url)\n",
    "soup = BeautifulSoup(response.content, 'html.parser')\n",
    "\n",
    "ul_items = soup.find_all('ul', {'class': 'bullets'})\n",
    "\n",
    "for ul_item in ul_items:\n",
    "\tli_items = ul_item.find_all('li')\n",
    "\n",
    "\tfor li_item in li_items:\n",
    "\t\ta_item = li_item.find('a')\n",
    "\n",
    "\t\t# Get all listings for each city\n",
    "\t\tcity_link = a_item['href']\n",
    "\t\tcity_cookie = city_link[1:-1] # remove first and last slash\n",
    "\t\tprovince_abbrv = city_cookie.split('/')[0]\n",
    "\n",
    "\t\tprovince = ''\n",
    "\n",
    "\t\tmatch province_abbrv:\n",
    "\t\t\tcase 'ab':\n",
    "\t\t\t\tprovince = 'Alberta'\n",
    "\t\t\tcase 'bc':\n",
    "\t\t\t\tprovince = 'British Columbia'\n",
    "\t\t\tcase 'mb':\n",
    "\t\t\t\tprovince = 'Manitoba'\n",
    "\t\t\tcase 'nb':\n",
    "\t\t\t\tprovince = 'New Brunswick'\n",
    "\t\t\tcase 'nl':\n",
    "\t\t\t\tprovince = 'Newfoundland and Labrador'\n",
    "\t\t\tcase 'nt':\n",
    "\t\t\t\tprovince = 'Northwest Territories'\n",
    "\t\t\tcase 'ns':\n",
    "\t\t\t\tprovince = 'Nova Scotia'\n",
    "\t\t\tcase 'on':\n",
    "\t\t\t\tprovince = 'Ontario'\n",
    "\t\t\tcase 'qc':\n",
    "\t\t\t\tprovince = 'Quebec'\n",
    "\t\t\tcase 'sk':\n",
    "\t\t\t\tprovince = 'Saskatchewan'\n",
    "\n",
    "\t\t# Get JSON response with all listings for a specific city\n",
    "\n",
    "\t\theaders = {\n",
    "\t\t\t'Content-Type': 'application/x-www-form-urlencoded',\n",
    "\t\t\t'User-Agent': 'Mozilla/5.0'\n",
    "\t\t}\n",
    "\n",
    "\t\tcookies = {\n",
    "\t\t\t\"lastcity\": city_cookie\n",
    "\t\t}\n",
    "\n",
    "\t\tlisting_response = requests.post(map_url, headers=headers, cookies=cookies)\n",
    "\t\tlisting_data = listing_response.json()\n",
    "\n",
    "\t\tlistings = listing_data.get('listings', [])\n",
    "\n",
    "\t\t# Add listings in batch to a CSV file\n",
    "\t\trental_list = []\n",
    "\t\tfor listing in listings:\n",
    "\t\t\tlink = listing.get('link')\n",
    "\t\t\trental = {\n",
    "\t\t\t\t'ref_id': listing.get('ref_id'),\n",
    "\t\t\t\t'availability': listing.get('availability'),\n",
    "\t\t\t\t'v': listing.get('v'),\n",
    "\t\t\t\t'f': listing.get('f'),\n",
    "\t\t\t\t'vtour': listing.get('vtour'),\n",
    "\t\t\t\t'title': listing.get('title'),\n",
    "\t\t\t\t'intro': listing.get('intro'),\n",
    "\t\t\t\t'address': listing.get('address'),\n",
    "\t\t\t\t'city': listing.get('city'),\n",
    "\t\t\t\t'province': province,\n",
    "\t\t\t\t'community': listing.get('community'),\n",
    "\t\t\t\t'latitude': listing.get('latitude'),\n",
    "\t\t\t\t'longitude': listing.get('longitude'),\n",
    "\t\t\t\t'link': listing.get('link'),\n",
    "\t\t\t\t'type': listing.get('type'),\n",
    "\t\t\t\t'price': listing.get('price'),\n",
    "\t\t\t\t'price2': listing.get('price2') if 'price2' in listing.keys() else None,\n",
    "\t\t\t\t'beds': listing.get('beds'),\n",
    "\t\t\t\t'beds2': listing.get('beds2') if 'beds2' in listing.keys() else None,\n",
    "\t\t\t\t'sq_feet': listing.get('sq_feet'),\n",
    "\t\t\t\t'sq_feet2': listing.get('sq_feet2') if 'sq_feet2' in listing.keys() else None,\n",
    "\t\t\t\t'baths': listing.get('baths'),\n",
    "\t\t\t\t'baths2': listing.get('baths2') if 'baths2' in listing.keys() else None,\n",
    "\t\t\t\t'cats': listing.get('cats'),\n",
    "\t\t\t\t'dogs': listing.get('dogs'),\n",
    "\t\t\t\t'utilities_included': ', '.join(listing.get('utilities_included'))\n",
    "\n",
    "\t\t\t}\n",
    "\t\t\trental_list.append(rental)\n",
    "\t\t\n",
    "\t\texport_list_to_csv(rental_list, '../data/canada_rent.csv')"
   ]
  },
  {
   "cell_type": "code",
   "execution_count": null,
   "id": "cb70950b",
   "metadata": {},
   "outputs": [],
   "source": [
    "# TODO: get link to scrape data of each page instead of raw JSON response"
   ]
  }
 ],
 "metadata": {
  "kernelspec": {
   "display_name": "venv",
   "language": "python",
   "name": "python3"
  },
  "language_info": {
   "codemirror_mode": {
    "name": "ipython",
    "version": 3
   },
   "file_extension": ".py",
   "mimetype": "text/x-python",
   "name": "python",
   "nbconvert_exporter": "python",
   "pygments_lexer": "ipython3",
   "version": "3.13.5"
  }
 },
 "nbformat": 4,
 "nbformat_minor": 5
}
