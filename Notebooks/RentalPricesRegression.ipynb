{
 "cells": [
  {
   "cell_type": "markdown",
   "id": "c17fa7a1-0339-446c-95f7-e3ad342bd176",
   "metadata": {},
   "source": [
    "## 3. Feature Engineering and Data Preprocessing"
   ]
  },
  {
   "cell_type": "markdown",
   "id": "16afd5ac-c0ec-4d54-9433-c78ab91263aa",
   "metadata": {},
   "source": [
    "### 3.1 Remove unimportant columns"
   ]
  },
  {
   "cell_type": "code",
   "execution_count": 79,
   "id": "6b371741-ddfe-487f-abcd-a10dd679eee9",
   "metadata": {},
   "outputs": [
    {
     "data": {
      "text/html": [
       "<div>\n",
       "<style scoped>\n",
       "    .dataframe tbody tr th:only-of-type {\n",
       "        vertical-align: middle;\n",
       "    }\n",
       "\n",
       "    .dataframe tbody tr th {\n",
       "        vertical-align: top;\n",
       "    }\n",
       "\n",
       "    .dataframe thead th {\n",
       "        text-align: right;\n",
       "    }\n",
       "</style>\n",
       "<table border=\"1\" class=\"dataframe\">\n",
       "  <thead>\n",
       "    <tr style=\"text-align: right;\">\n",
       "      <th></th>\n",
       "      <th>city</th>\n",
       "      <th>province</th>\n",
       "      <th>latitude</th>\n",
       "      <th>longitude</th>\n",
       "      <th>lease_term</th>\n",
       "      <th>type</th>\n",
       "      <th>price</th>\n",
       "      <th>beds</th>\n",
       "      <th>baths</th>\n",
       "      <th>sq_feet</th>\n",
       "      <th>furnishing</th>\n",
       "      <th>smoking</th>\n",
       "      <th>cats</th>\n",
       "      <th>dogs</th>\n",
       "    </tr>\n",
       "  </thead>\n",
       "  <tbody>\n",
       "    <tr>\n",
       "      <th>5686</th>\n",
       "      <td>Edmonton</td>\n",
       "      <td>Alberta</td>\n",
       "      <td>53.396781</td>\n",
       "      <td>-113.576332</td>\n",
       "      <td>Long Term</td>\n",
       "      <td>House</td>\n",
       "      <td>2300.0</td>\n",
       "      <td>3 Beds</td>\n",
       "      <td>2.5</td>\n",
       "      <td>1700.0</td>\n",
       "      <td>Unfurnished</td>\n",
       "      <td>Non-Smoking</td>\n",
       "      <td>True</td>\n",
       "      <td>True</td>\n",
       "    </tr>\n",
       "    <tr>\n",
       "      <th>16725</th>\n",
       "      <td>Montréal</td>\n",
       "      <td>Quebec</td>\n",
       "      <td>45.507216</td>\n",
       "      <td>-73.569636</td>\n",
       "      <td>Long Term</td>\n",
       "      <td>Apartment</td>\n",
       "      <td>2465.0</td>\n",
       "      <td>1 Bed</td>\n",
       "      <td>1</td>\n",
       "      <td>608.0</td>\n",
       "      <td>Unfurnished</td>\n",
       "      <td>Non-Smoking</td>\n",
       "      <td>True</td>\n",
       "      <td>True</td>\n",
       "    </tr>\n",
       "    <tr>\n",
       "      <th>15424</th>\n",
       "      <td>Toronto</td>\n",
       "      <td>Ontario</td>\n",
       "      <td>43.669180</td>\n",
       "      <td>-79.486228</td>\n",
       "      <td>Long Term</td>\n",
       "      <td>Apartment</td>\n",
       "      <td>2150.0</td>\n",
       "      <td>1 Bed</td>\n",
       "      <td>1</td>\n",
       "      <td>550.0</td>\n",
       "      <td>Unfurnished</td>\n",
       "      <td>Non-Smoking</td>\n",
       "      <td>True</td>\n",
       "      <td>True</td>\n",
       "    </tr>\n",
       "  </tbody>\n",
       "</table>\n",
       "</div>"
      ],
      "text/plain": [
       "           city province   latitude   longitude lease_term       type   price  \\\n",
       "5686   Edmonton  Alberta  53.396781 -113.576332  Long Term      House  2300.0   \n",
       "16725  Montréal   Quebec  45.507216  -73.569636  Long Term  Apartment  2465.0   \n",
       "15424   Toronto  Ontario  43.669180  -79.486228  Long Term  Apartment  2150.0   \n",
       "\n",
       "         beds baths  sq_feet   furnishing      smoking  cats  dogs  \n",
       "5686   3 Beds   2.5   1700.0  Unfurnished  Non-Smoking  True  True  \n",
       "16725   1 Bed     1    608.0  Unfurnished  Non-Smoking  True  True  \n",
       "15424   1 Bed     1    550.0  Unfurnished  Non-Smoking  True  True  "
      ]
     },
     "execution_count": 79,
     "metadata": {},
     "output_type": "execute_result"
    }
   ],
   "source": [
    "# Remove rentfaster_id, address, link and availability_date, as they are non-numeric or non-categorical\n",
    "df.drop(columns=['rentfaster_id', 'address', 'link', 'availability_date'], axis=1, inplace=True)\n",
    "df.sample(3)"
   ]
  },
  {
   "cell_type": "markdown",
   "id": "831d9c3d-fdf4-45aa-9bc9-295952ad4e76",
   "metadata": {},
   "source": [
    "### 3.2 Encode non-ordinal categorical columns"
   ]
  },
  {
   "cell_type": "markdown",
   "id": "32bcb43c-3d19-409f-a5f1-9d5f5574eb47",
   "metadata": {},
   "source": [
    "We will reduce the cardinality of the columns to 5 or less. If the relative frequency of a value is less than 5%, we will add it in a category named 'Other'."
   ]
  },
  {
   "cell_type": "markdown",
   "id": "0352a2b3-6545-42cc-8ec7-1356ddbddb6d",
   "metadata": {},
   "source": [
    "#### Lease Term"
   ]
  },
  {
   "cell_type": "code",
   "execution_count": 83,
   "id": "71e5e294-3fd1-4a5d-a730-c35cf1a15b81",
   "metadata": {},
   "outputs": [
    {
     "data": {
      "text/plain": [
       "lease_term\n",
       "Long Term     0.935101\n",
       "Negotiable    0.047414\n",
       "Short Term    0.011657\n",
       "12 months     0.003255\n",
       "Unknown       0.002415\n",
       "6 months      0.000105\n",
       "months        0.000053\n",
       "Name: proportion, dtype: float64"
      ]
     },
     "execution_count": 83,
     "metadata": {},
     "output_type": "execute_result"
    }
   ],
   "source": [
    "df['lease_term'].value_counts(normalize=True)"
   ]
  },
  {
   "cell_type": "code",
   "execution_count": 84,
   "id": "84d6479a-db7e-4b6e-93ae-82dfee2a32c0",
   "metadata": {},
   "outputs": [
    {
     "data": {
      "text/plain": [
       "lease_term\n",
       "Long Term    0.935101\n",
       "Other        0.064899\n",
       "Name: proportion, dtype: float64"
      ]
     },
     "execution_count": 84,
     "metadata": {},
     "output_type": "execute_result"
    }
   ],
   "source": [
    "df['lease_term'] = np.where(df['lease_term'] == 'Long Term', 'Long Term', 'Other')\n",
    "df['lease_term'] = df['lease_term'].astype('category')\n",
    "df['lease_term'].value_counts(normalize=True)"
   ]
  },
  {
   "cell_type": "markdown",
   "id": "5ee8cd1e-9309-4206-bbad-36fe22ee0942",
   "metadata": {},
   "source": [
    "#### Type"
   ]
  },
  {
   "cell_type": "code",
   "execution_count": 86,
   "id": "918bb54c-4717-4b37-bc42-8f099e5a8050",
   "metadata": {},
   "outputs": [
    {
     "data": {
      "text/plain": [
       "type\n",
       "Apartment        0.699659\n",
       "Condo Unit       0.068574\n",
       "Townhouse        0.055185\n",
       "House            0.054030\n",
       "Basement         0.053400\n",
       "Main Floor       0.024573\n",
       "Room For Rent    0.021528\n",
       "Duplex           0.016277\n",
       "Office Space     0.003150\n",
       "Storage          0.001103\n",
       "Parking Spot     0.001103\n",
       "Loft             0.000788\n",
       "Acreage          0.000420\n",
       "Mobile           0.000105\n",
       "Vacation Home    0.000105\n",
       "Name: proportion, dtype: float64"
      ]
     },
     "execution_count": 86,
     "metadata": {},
     "output_type": "execute_result"
    }
   ],
   "source": [
    "df['type'].value_counts(normalize=True)"
   ]
  },
  {
   "cell_type": "code",
   "execution_count": 87,
   "id": "07a3db4b-a097-4a35-8f83-b34f7cadce4d",
   "metadata": {},
   "outputs": [
    {
     "data": {
      "text/plain": [
       "type\n",
       "Apartment     0.699659\n",
       "Other         0.069152\n",
       "Condo Unit    0.068574\n",
       "Townhouse     0.055185\n",
       "House         0.054030\n",
       "Basement      0.053400\n",
       "Name: proportion, dtype: float64"
      ]
     },
     "execution_count": 87,
     "metadata": {},
     "output_type": "execute_result"
    }
   ],
   "source": [
    "df['type'] = np.where(df['type'].isin(['Apartment', 'Condo Unit', 'Townhouse', 'House', 'Basement']), df['type'], 'Other')\n",
    "df['type'] = df['type'].astype('category')\n",
    "df['type'].value_counts(normalize=True)"
   ]
  },
  {
   "cell_type": "markdown",
   "id": "4536a4df-b8c4-4cf4-93f1-ddb9be553ec8",
   "metadata": {},
   "source": [
    "#### Furnishing"
   ]
  },
  {
   "cell_type": "code",
   "execution_count": 261,
   "id": "d88501c7-7fa7-4e33-a4fd-8a00ce5617a7",
   "metadata": {},
   "outputs": [
    {
     "data": {
      "text/plain": [
       "furnishing\n",
       "Unfurnished                0.914466\n",
       "Furnished                  0.072617\n",
       "Negotiable                 0.012759\n",
       "Unfurnished, Negotiable    0.000158\n",
       "Name: proportion, dtype: float64"
      ]
     },
     "execution_count": 261,
     "metadata": {},
     "output_type": "execute_result"
    }
   ],
   "source": [
    "df['furnishing'].value_counts(normalize=True)"
   ]
  },
  {
   "cell_type": "code",
   "execution_count": 267,
   "id": "b7d4d12d-05a2-45e5-a1da-30f366f3aa5b",
   "metadata": {},
   "outputs": [
    {
     "data": {
      "text/plain": [
       "furnishing\n",
       "Unfurnished    0.914466\n",
       "Furnished      0.072617\n",
       "Negotiable     0.012917\n",
       "Name: proportion, dtype: float64"
      ]
     },
     "execution_count": 267,
     "metadata": {},
     "output_type": "execute_result"
    }
   ],
   "source": [
    "df['furnishing'] = np.where(~df['furnishing'].isin(['Unfurnished', 'Furnished']), 'Negotiable', df['furnishing'])\n",
    "df['furnishing'] = df['furnishing'].astype('category')\n",
    "df['furnishing'].value_counts(normalize=True)"
   ]
  },
  {
   "cell_type": "markdown",
   "id": "7ea41b8c-1bde-4851-a96b-6e43dfbfb71c",
   "metadata": {},
   "source": [
    "#### Smoking"
   ]
  },
  {
   "cell_type": "code",
   "execution_count": 271,
   "id": "94c96c9c-4c37-44f5-8ac4-98a8b1aaa4fa",
   "metadata": {},
   "outputs": [
    {
     "data": {
      "text/plain": [
       "smoking\n",
       "Non-Smoking            0.852350\n",
       "Unknown                0.122447\n",
       "Smoke Free Building    0.014702\n",
       "Smoking Allowed        0.007509\n",
       "Negotiable             0.002993\n",
       "Name: proportion, dtype: float64"
      ]
     },
     "execution_count": 271,
     "metadata": {},
     "output_type": "execute_result"
    }
   ],
   "source": [
    "df['smoking'].value_counts(normalize=True)"
   ]
  },
  {
   "cell_type": "code",
   "execution_count": 173,
   "id": "e7b2884c-a481-49ed-8eac-0e1626002f66",
   "metadata": {},
   "outputs": [
    {
     "name": "stdout",
     "output_type": "stream",
     "text": [
      "<class 'pandas.core.frame.DataFrame'>\n",
      "RangeIndex: 19045 entries, 0 to 19044\n",
      "Data columns (total 14 columns):\n",
      " #   Column      Non-Null Count  Dtype   \n",
      "---  ------      --------------  -----   \n",
      " 0   city        19045 non-null  float64 \n",
      " 1   province    19045 non-null  category\n",
      " 2   latitude    19045 non-null  float64 \n",
      " 3   longitude   19045 non-null  float64 \n",
      " 4   lease_term  19045 non-null  category\n",
      " 5   type        19045 non-null  category\n",
      " 6   price       19045 non-null  float64 \n",
      " 7   beds        19045 non-null  category\n",
      " 8   baths       19045 non-null  category\n",
      " 9   sq_feet     18865 non-null  float64 \n",
      " 10  furnishing  19045 non-null  category\n",
      " 11  smoking     19045 non-null  category\n",
      " 12  cats        19045 non-null  bool    \n",
      " 13  dogs        19045 non-null  bool    \n",
      "dtypes: bool(2), category(7), float64(5)\n",
      "memory usage: 913.0 KB\n"
     ]
    }
   ],
   "source": [
    "# Encode features using OneHotEncoder\n",
    "# encoder = OneHotEncoder(drop='first', sparse_output=False)\n",
    "# encoded_cols = encoder.fit_transform(df[['lease_term', 'type', 'furnishing', 'smoking']])\n"
   ]
  },
  {
   "cell_type": "markdown",
   "id": "07f3e90e-3a10-4044-919d-60750aa54661",
   "metadata": {},
   "source": [
    "#### City and Province"
   ]
  },
  {
   "cell_type": "markdown",
   "id": "63af0591-ab17-44db-892a-a98c8055a2fd",
   "metadata": {},
   "source": [
    "I won't use the same method as the previous categories, because I think it's important to get the pricing for each city and province. We will use Frequency Encoding instead."
   ]
  },
  {
   "cell_type": "code",
   "execution_count": 91,
   "id": "38e75645-fe5f-4738-90c4-ed704e9dd302",
   "metadata": {},
   "outputs": [
    {
     "data": {
      "text/plain": [
       "city\n",
       "Calgary             0.247887\n",
       "Edmonton            0.134944\n",
       "Toronto             0.125755\n",
       "Montréal            0.079601\n",
       "Ottawa              0.056918\n",
       "                      ...   \n",
       "Christopher Lake    0.000053\n",
       "Priddis             0.000053\n",
       "Innisfail           0.000053\n",
       "Langdon             0.000053\n",
       "Crowsnest Pass      0.000053\n",
       "Name: proportion, Length: 269, dtype: float64"
      ]
     },
     "execution_count": 91,
     "metadata": {},
     "output_type": "execute_result"
    }
   ],
   "source": [
    "# Save frequency mapping of cities and provinces\n",
    "city_frequency = df['city'].value_counts(normalize=True)\n",
    "city_frequency"
   ]
  },
  {
   "cell_type": "code",
   "execution_count": 92,
   "id": "ab38741b-3422-44d2-83d8-e91c2c1c17d8",
   "metadata": {},
   "outputs": [
    {
     "data": {
      "text/plain": [
       "province\n",
       "Alberta                      0.437175\n",
       "Ontario                      0.312260\n",
       "Quebec                       0.109898\n",
       "British Columbia             0.058598\n",
       "Saskatchewan                 0.035967\n",
       "Manitoba                     0.030349\n",
       "Nova Scotia                  0.013389\n",
       "Northwest Territories        0.001050\n",
       "New Brunswick                0.000683\n",
       "Newfoundland and Labrador    0.000630\n",
       "Name: proportion, dtype: float64"
      ]
     },
     "execution_count": 92,
     "metadata": {},
     "output_type": "execute_result"
    }
   ],
   "source": [
    "province_frequency = df['province'].value_counts(normalize=True)\n",
    "province_frequency"
   ]
  },
  {
   "cell_type": "code",
   "execution_count": 93,
   "id": "d882b328-fc1d-4f16-bae2-f19e2ecf2d0e",
   "metadata": {},
   "outputs": [
    {
     "data": {
      "text/html": [
       "<div>\n",
       "<style scoped>\n",
       "    .dataframe tbody tr th:only-of-type {\n",
       "        vertical-align: middle;\n",
       "    }\n",
       "\n",
       "    .dataframe tbody tr th {\n",
       "        vertical-align: top;\n",
       "    }\n",
       "\n",
       "    .dataframe thead th {\n",
       "        text-align: right;\n",
       "    }\n",
       "</style>\n",
       "<table border=\"1\" class=\"dataframe\">\n",
       "  <thead>\n",
       "    <tr style=\"text-align: right;\">\n",
       "      <th></th>\n",
       "      <th>city</th>\n",
       "      <th>province</th>\n",
       "      <th>latitude</th>\n",
       "      <th>longitude</th>\n",
       "      <th>lease_term</th>\n",
       "      <th>type</th>\n",
       "      <th>price</th>\n",
       "      <th>beds</th>\n",
       "      <th>baths</th>\n",
       "      <th>sq_feet</th>\n",
       "      <th>furnishing</th>\n",
       "      <th>smoking</th>\n",
       "      <th>cats</th>\n",
       "      <th>dogs</th>\n",
       "    </tr>\n",
       "  </thead>\n",
       "  <tbody>\n",
       "    <tr>\n",
       "      <th>12303</th>\n",
       "      <td>0.056918</td>\n",
       "      <td>0.312260</td>\n",
       "      <td>45.409765</td>\n",
       "      <td>-75.677710</td>\n",
       "      <td>Long Term</td>\n",
       "      <td>Apartment</td>\n",
       "      <td>2395.0</td>\n",
       "      <td>1 Bed</td>\n",
       "      <td>1</td>\n",
       "      <td>700.0</td>\n",
       "      <td>Unfurnished</td>\n",
       "      <td>Non-Smoking</td>\n",
       "      <td>True</td>\n",
       "      <td>True</td>\n",
       "    </tr>\n",
       "    <tr>\n",
       "      <th>3240</th>\n",
       "      <td>0.247887</td>\n",
       "      <td>0.437175</td>\n",
       "      <td>51.055780</td>\n",
       "      <td>-114.178203</td>\n",
       "      <td>Other</td>\n",
       "      <td>House</td>\n",
       "      <td>7000.0</td>\n",
       "      <td>7 Beds</td>\n",
       "      <td>5</td>\n",
       "      <td>4200.0</td>\n",
       "      <td>Unfurnished</td>\n",
       "      <td>Non-Smoking</td>\n",
       "      <td>True</td>\n",
       "      <td>True</td>\n",
       "    </tr>\n",
       "    <tr>\n",
       "      <th>4237</th>\n",
       "      <td>0.247887</td>\n",
       "      <td>0.437175</td>\n",
       "      <td>51.050350</td>\n",
       "      <td>-114.036322</td>\n",
       "      <td>Long Term</td>\n",
       "      <td>Apartment</td>\n",
       "      <td>1825.0</td>\n",
       "      <td>1 Bed</td>\n",
       "      <td>1</td>\n",
       "      <td>597.0</td>\n",
       "      <td>Unfurnished</td>\n",
       "      <td>Non-Smoking</td>\n",
       "      <td>True</td>\n",
       "      <td>False</td>\n",
       "    </tr>\n",
       "  </tbody>\n",
       "</table>\n",
       "</div>"
      ],
      "text/plain": [
       "           city  province   latitude   longitude lease_term       type  \\\n",
       "12303  0.056918  0.312260  45.409765  -75.677710  Long Term  Apartment   \n",
       "3240   0.247887  0.437175  51.055780 -114.178203      Other      House   \n",
       "4237   0.247887  0.437175  51.050350 -114.036322  Long Term  Apartment   \n",
       "\n",
       "        price    beds baths  sq_feet   furnishing      smoking  cats   dogs  \n",
       "12303  2395.0   1 Bed     1    700.0  Unfurnished  Non-Smoking  True   True  \n",
       "3240   7000.0  7 Beds     5   4200.0  Unfurnished  Non-Smoking  True   True  \n",
       "4237   1825.0   1 Bed     1    597.0  Unfurnished  Non-Smoking  True  False  "
      ]
     },
     "execution_count": 93,
     "metadata": {},
     "output_type": "execute_result"
    }
   ],
   "source": [
    "# Encode data using Frequency Encoding\n",
    "df['city'] = df['city'].map(city_frequency)\n",
    "df['province'] = df['province'].map(province_frequency)\n",
    "df.sample(3)"
   ]
  },
  {
   "cell_type": "markdown",
   "id": "50fcce29-d191-4bac-8c42-2eb9b5783f00",
   "metadata": {},
   "source": [
    "### 3.3 Encode ordinal categorical columns"
   ]
  },
  {
   "cell_type": "markdown",
   "id": "7610a33e-ba17-4880-b847-05eeb8ca78c3",
   "metadata": {},
   "source": [
    "#### Beds"
   ]
  },
  {
   "cell_type": "code",
   "execution_count": 96,
   "id": "7402c0c5-184b-4e18-a586-9032b661c154",
   "metadata": {},
   "outputs": [
    {
     "data": {
      "text/plain": [
       "beds\n",
       "2 Beds       0.379995\n",
       "1 Bed        0.372276\n",
       "3 Beds       0.135206\n",
       "Studio       0.073615\n",
       "4 Beds       0.025466\n",
       "5 Beds       0.007351\n",
       "Unknown      0.003465\n",
       "6 Beds       0.001838\n",
       "7 Beds       0.000420\n",
       "9 Beds       0.000158\n",
       "none Beds    0.000105\n",
       "8 Beds       0.000105\n",
       "Name: proportion, dtype: float64"
      ]
     },
     "execution_count": 96,
     "metadata": {},
     "output_type": "execute_result"
    }
   ],
   "source": [
    "df['beds'].value_counts(normalize=True)"
   ]
  },
  {
   "cell_type": "code",
   "execution_count": 97,
   "id": "3ec34109-f57c-402d-bfdf-31460af4bea7",
   "metadata": {},
   "outputs": [
    {
     "data": {
      "text/plain": [
       "beds\n",
       "2 Beds              0.379995\n",
       "1 Bed               0.372276\n",
       "3 Beds              0.135206\n",
       "Studio and Other    0.077186\n",
       "4 Beds and More     0.035337\n",
       "Name: proportion, dtype: float64"
      ]
     },
     "execution_count": 97,
     "metadata": {},
     "output_type": "execute_result"
    }
   ],
   "source": [
    "df['beds'] = np.where(\n",
    "    df['beds'].isin(\n",
    "        ['4 Beds', '5 Beds', '6 Beds', '7 Beds', '8 Beds', '9 Beds']),\n",
    "    '4 Beds and More',\n",
    "    df['beds'])\n",
    "\n",
    "df['beds'] = np.where(\n",
    "    df['beds'].isin(\n",
    "        ['Studio', 'none Beds', 'Unknown']), \n",
    "    'Studio and Other', \n",
    "    df['beds'])\n",
    "\n",
    "df['beds'].value_counts(normalize=True)"
   ]
  },
  {
   "cell_type": "code",
   "execution_count": 98,
   "id": "73136329-a643-43bd-8805-116d5d372205",
   "metadata": {},
   "outputs": [
    {
     "data": {
      "text/plain": [
       "CategoricalDtype(categories=['Studio and Other', '1 Bed', '2 Beds', '3 Beds',\n",
       "                  '4 Beds and More'],\n",
       ", ordered=True, categories_dtype=object)"
      ]
     },
     "execution_count": 98,
     "metadata": {},
     "output_type": "execute_result"
    }
   ],
   "source": [
    "beds = ['Studio and Other', '1 Bed', '2 Beds', '3 Beds', '4 Beds and More']\n",
    "df['beds'] = pd.Categorical(df['beds'], categories=beds, ordered=True)\n",
    "df['beds'].dtype"
   ]
  },
  {
   "cell_type": "markdown",
   "id": "db414449-cf95-442b-884f-113c4d333ca0",
   "metadata": {},
   "source": [
    "#### Baths"
   ]
  },
  {
   "cell_type": "code",
   "execution_count": 100,
   "id": "79732aea-8b65-4714-b2bf-e8b2ba6716d8",
   "metadata": {},
   "outputs": [
    {
     "data": {
      "text/plain": [
       "baths\n",
       "1          0.675138\n",
       "2          0.190076\n",
       "2.5        0.063166\n",
       "1.5        0.036388\n",
       "3.5        0.013284\n",
       "3          0.013074\n",
       "Unknown    0.003518\n",
       "4          0.003045\n",
       "4.5        0.000735\n",
       "0          0.000683\n",
       "5          0.000368\n",
       "5.5        0.000158\n",
       "6          0.000105\n",
       "7          0.000105\n",
       "6.5        0.000053\n",
       "7.5        0.000053\n",
       "8          0.000053\n",
       "Name: proportion, dtype: float64"
      ]
     },
     "execution_count": 100,
     "metadata": {},
     "output_type": "execute_result"
    }
   ],
   "source": [
    "df['baths'].value_counts(normalize=True)"
   ]
  },
  {
   "cell_type": "code",
   "execution_count": 101,
   "id": "ceb38ece-b5bb-4c5a-be48-b980fe6c5960",
   "metadata": {},
   "outputs": [
    {
     "data": {
      "text/plain": [
       "baths\n",
       "1             0.675138\n",
       "2             0.190076\n",
       "2.5           0.063166\n",
       "1.5           0.036388\n",
       "3 and More    0.031032\n",
       "Other         0.004201\n",
       "Name: proportion, dtype: float64"
      ]
     },
     "execution_count": 101,
     "metadata": {},
     "output_type": "execute_result"
    }
   ],
   "source": [
    "df['baths'] = np.where(df['baths'].isin(['0', 'Unknown']), 'Other', df['baths'])\n",
    "\n",
    "df['baths'] = np.where(\n",
    "    df['baths'].isin(['3', '3.5', '4', '4.5', '5', '5.5', '6', '6.5', '7', '7.5', '8']),\n",
    "    '3 and More',\n",
    "    df['baths'])\n",
    "\n",
    "df['baths'].value_counts(normalize=True)"
   ]
  },
  {
   "cell_type": "code",
   "execution_count": 102,
   "id": "e1ac3c37-8306-4c89-b06f-f22f56ef88fd",
   "metadata": {},
   "outputs": [
    {
     "data": {
      "text/plain": [
       "CategoricalDtype(categories=['Other', '1', '1.5', '2', '2.5', '3 and More'], ordered=True, categories_dtype=object)"
      ]
     },
     "execution_count": 102,
     "metadata": {},
     "output_type": "execute_result"
    }
   ],
   "source": [
    "# I kept the value 1.5 to keep the order, even if the relative frequency is less than 5%, \n",
    "baths = ['Other', '1', '1.5', '2', '2.5', '3 and More']\n",
    "df['baths'] = pd.Categorical(df['baths'], categories=baths, ordered=True)\n",
    "df['baths'].dtype"
   ]
  },
  {
   "cell_type": "markdown",
   "id": "fee7f52f-7bd7-41bd-b710-cde87bfdf42b",
   "metadata": {},
   "source": [
    "### 3.4 Encode boolean columns"
   ]
  },
  {
   "cell_type": "code",
   "execution_count": 171,
   "id": "aaaebd31-4757-44ea-b4fc-9ffd81d7ac18",
   "metadata": {},
   "outputs": [
    {
     "data": {
      "text/html": [
       "<div>\n",
       "<style scoped>\n",
       "    .dataframe tbody tr th:only-of-type {\n",
       "        vertical-align: middle;\n",
       "    }\n",
       "\n",
       "    .dataframe tbody tr th {\n",
       "        vertical-align: top;\n",
       "    }\n",
       "\n",
       "    .dataframe thead th {\n",
       "        text-align: right;\n",
       "    }\n",
       "</style>\n",
       "<table border=\"1\" class=\"dataframe\">\n",
       "  <thead>\n",
       "    <tr style=\"text-align: right;\">\n",
       "      <th></th>\n",
       "      <th>city</th>\n",
       "      <th>province</th>\n",
       "      <th>latitude</th>\n",
       "      <th>longitude</th>\n",
       "      <th>lease_term</th>\n",
       "      <th>type</th>\n",
       "      <th>price</th>\n",
       "      <th>beds</th>\n",
       "      <th>baths</th>\n",
       "      <th>sq_feet</th>\n",
       "      <th>furnishing</th>\n",
       "      <th>smoking</th>\n",
       "      <th>cats</th>\n",
       "      <th>dogs</th>\n",
       "    </tr>\n",
       "  </thead>\n",
       "  <tbody>\n",
       "    <tr>\n",
       "      <th>16074</th>\n",
       "      <td>0.004411</td>\n",
       "      <td>0.31226</td>\n",
       "      <td>43.012103</td>\n",
       "      <td>-79.250456</td>\n",
       "      <td>Long Term</td>\n",
       "      <td>Apartment</td>\n",
       "      <td>1798.0</td>\n",
       "      <td>1 Bed</td>\n",
       "      <td>1</td>\n",
       "      <td>480.0</td>\n",
       "      <td>Unfurnished</td>\n",
       "      <td>Non-Smoking</td>\n",
       "      <td>True</td>\n",
       "      <td>True</td>\n",
       "    </tr>\n",
       "  </tbody>\n",
       "</table>\n",
       "</div>"
      ],
      "text/plain": [
       "           city province   latitude  longitude lease_term       type   price  \\\n",
       "16074  0.004411  0.31226  43.012103 -79.250456  Long Term  Apartment  1798.0   \n",
       "\n",
       "        beds baths  sq_feet   furnishing      smoking  cats  dogs  \n",
       "16074  1 Bed     1    480.0  Unfurnished  Non-Smoking  True  True  "
      ]
     },
     "execution_count": 171,
     "metadata": {},
     "output_type": "execute_result"
    }
   ],
   "source": [
    "df.sample()"
   ]
  },
  {
   "cell_type": "markdown",
   "id": "f43ab456-092f-4673-8e9e-b91f6c2b6a0a",
   "metadata": {},
   "source": [
    "## 4. Regression"
   ]
  },
  {
   "cell_type": "markdown",
   "id": "fd464365-b0a7-4d95-bb8e-82da204eff97",
   "metadata": {},
   "source": [
    "### 3.1 Find the model"
   ]
  },
  {
   "cell_type": "markdown",
   "id": "0d8b4b5d-912a-4c80-ba1b-fe57a335d250",
   "metadata": {},
   "source": [
    "### 3.2 Make predictions"
   ]
  },
  {
   "cell_type": "markdown",
   "id": "9f5475d0-3f19-4c77-925f-842ee7fcb765",
   "metadata": {},
   "source": [
    "## End"
   ]
  }
 ],
 "metadata": {
  "kernelspec": {
   "display_name": "Python 3 (ipykernel)",
   "language": "python",
   "name": "python3"
  },
  "language_info": {
   "codemirror_mode": {
    "name": "ipython",
    "version": 3
   },
   "file_extension": ".py",
   "mimetype": "text/x-python",
   "name": "python",
   "nbconvert_exporter": "python",
   "pygments_lexer": "ipython3",
   "version": "3.12.4"
  }
 },
 "nbformat": 4,
 "nbformat_minor": 5
}
