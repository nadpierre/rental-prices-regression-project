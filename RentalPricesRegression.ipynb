{
 "cells": [
  {
   "cell_type": "markdown",
   "id": "c0aadb04-4816-42f5-b972-49844b55d1b5",
   "metadata": {},
   "source": [
    "# Rental Prices Regression Project"
   ]
  },
  {
   "cell_type": "markdown",
   "id": "a98571e0-7b39-41b6-bc43-caf1450ca949",
   "metadata": {},
   "source": [
    "## 1. Introduction"
   ]
  },
  {
   "cell_type": "markdown",
   "id": "3d7a9560-e7b5-42f3-831e-72087870deda",
   "metadata": {},
   "source": [
    "This notebook analyses the data of the 2024 rental prices across Canada and explores multiple regression models in order to find the one that predicts the price the most accurately."
   ]
  },
  {
   "cell_type": "markdown",
   "id": "4fcc95ca-0067-4d4a-b1b6-cf145090f746",
   "metadata": {},
   "source": [
    "**About the dataset**\n",
    "\n",
    "For this project, we will work with the dataset named *25000+ Canadian rental housing market June 2024* that can be found [here](https://www.kaggle.com/datasets/sergiygavrylov/25000-canadian-rental-housing-market-june-2024)."
   ]
  },
  {
   "cell_type": "code",
   "execution_count": 103,
   "id": "767a3d95-d6d3-43f2-b658-08fdc46435d2",
   "metadata": {},
   "outputs": [],
   "source": [
    "import matplotlib.pyplot as plt\n",
    "import pandas as pd\n",
    "import seaborn as sns"
   ]
  },
  {
   "cell_type": "markdown",
   "id": "6458e7e0-7094-419d-b772-375adec6479a",
   "metadata": {},
   "source": [
    "## 2. Exploratory Data Analysis (EDA)"
   ]
  },
  {
   "cell_type": "code",
   "execution_count": 83,
   "id": "20a7a151-2a6f-4bb2-95b7-ff06287b61d8",
   "metadata": {},
   "outputs": [],
   "source": [
    "# Load data\n",
    "df = pd.read_csv('Data/canada_rent.csv')"
   ]
  },
  {
   "cell_type": "markdown",
   "id": "53873ad1-6a6c-4d65-8e96-1bde4dd53837",
   "metadata": {},
   "source": [
    "### 2.1 Data Exploration"
   ]
  },
  {
   "cell_type": "code",
   "execution_count": 85,
   "id": "7d0fe57c-6fd0-4ce6-8faa-2a067bdb5103",
   "metadata": {},
   "outputs": [
    {
     "data": {
      "text/plain": [
       "(25771, 18)"
      ]
     },
     "execution_count": 85,
     "metadata": {},
     "output_type": "execute_result"
    }
   ],
   "source": [
    "df.shape"
   ]
  },
  {
   "cell_type": "code",
   "execution_count": 123,
   "id": "627a52cc-603f-43a0-a761-c668e7eea40e",
   "metadata": {},
   "outputs": [
    {
     "data": {
      "text/html": [
       "<div>\n",
       "<style scoped>\n",
       "    .dataframe tbody tr th:only-of-type {\n",
       "        vertical-align: middle;\n",
       "    }\n",
       "\n",
       "    .dataframe tbody tr th {\n",
       "        vertical-align: top;\n",
       "    }\n",
       "\n",
       "    .dataframe thead th {\n",
       "        text-align: right;\n",
       "    }\n",
       "</style>\n",
       "<table border=\"1\" class=\"dataframe\">\n",
       "  <thead>\n",
       "    <tr style=\"text-align: right;\">\n",
       "      <th></th>\n",
       "      <th>rentfaster_id</th>\n",
       "      <th>city</th>\n",
       "      <th>province</th>\n",
       "      <th>address</th>\n",
       "      <th>latitude</th>\n",
       "      <th>longitude</th>\n",
       "      <th>lease_term</th>\n",
       "      <th>type</th>\n",
       "      <th>price</th>\n",
       "      <th>beds</th>\n",
       "      <th>baths</th>\n",
       "      <th>sq_feet</th>\n",
       "      <th>link</th>\n",
       "      <th>furnishing</th>\n",
       "      <th>availability_date</th>\n",
       "      <th>smoking</th>\n",
       "      <th>cats</th>\n",
       "      <th>dogs</th>\n",
       "    </tr>\n",
       "  </thead>\n",
       "  <tbody>\n",
       "    <tr>\n",
       "      <th>6718</th>\n",
       "      <td>402727</td>\n",
       "      <td>Edmonton</td>\n",
       "      <td>Alberta</td>\n",
       "      <td>13220 140 St NW | 13528 140 St NW</td>\n",
       "      <td>53.595970</td>\n",
       "      <td>-113.562291</td>\n",
       "      <td>Long Term</td>\n",
       "      <td>Townhouse</td>\n",
       "      <td>1609.0</td>\n",
       "      <td>4 Beds</td>\n",
       "      <td>1</td>\n",
       "      <td>1286</td>\n",
       "      <td>/ab/edmonton/rentals/townhouse/2-bedrooms/well...</td>\n",
       "      <td>Unfurnished</td>\n",
       "      <td>Immediate</td>\n",
       "      <td>Non-Smoking</td>\n",
       "      <td>True</td>\n",
       "      <td>True</td>\n",
       "    </tr>\n",
       "    <tr>\n",
       "      <th>833</th>\n",
       "      <td>572527</td>\n",
       "      <td>Calgary</td>\n",
       "      <td>Alberta</td>\n",
       "      <td>61 Galbraith Drive Southwest</td>\n",
       "      <td>51.010497</td>\n",
       "      <td>-114.144276</td>\n",
       "      <td>Long Term</td>\n",
       "      <td>Duplex</td>\n",
       "      <td>2200.0</td>\n",
       "      <td>3 Beds</td>\n",
       "      <td>1.5</td>\n",
       "      <td>1100</td>\n",
       "      <td>/ab/calgary/rentals/duplex/3-bedrooms/glamorga...</td>\n",
       "      <td>Unfurnished</td>\n",
       "      <td>Immediate</td>\n",
       "      <td>Non-Smoking</td>\n",
       "      <td>True</td>\n",
       "      <td>True</td>\n",
       "    </tr>\n",
       "    <tr>\n",
       "      <th>12902</th>\n",
       "      <td>112798</td>\n",
       "      <td>Calgary</td>\n",
       "      <td>Alberta</td>\n",
       "      <td>148 Rockyledge View NW</td>\n",
       "      <td>51.142304</td>\n",
       "      <td>-114.249795</td>\n",
       "      <td>Long Term</td>\n",
       "      <td>Condo Unit</td>\n",
       "      <td>1900.0</td>\n",
       "      <td>1 Bed</td>\n",
       "      <td>1</td>\n",
       "      <td>758</td>\n",
       "      <td>/ab/calgary/rentals/condo/1-bedroom/rocky-ridg...</td>\n",
       "      <td>Unfurnished</td>\n",
       "      <td>July 01</td>\n",
       "      <td>Non-Smoking</td>\n",
       "      <td>False</td>\n",
       "      <td>False</td>\n",
       "    </tr>\n",
       "    <tr>\n",
       "      <th>15440</th>\n",
       "      <td>527884</td>\n",
       "      <td>Winnipeg</td>\n",
       "      <td>Manitoba</td>\n",
       "      <td>290 Maxwell Place</td>\n",
       "      <td>49.935192</td>\n",
       "      <td>-97.092632</td>\n",
       "      <td>Long Term</td>\n",
       "      <td>Apartment</td>\n",
       "      <td>1275.0</td>\n",
       "      <td>2 Beds</td>\n",
       "      <td>1</td>\n",
       "      <td>NaN</td>\n",
       "      <td>/mb/winnipeg/rentals/apartment/2-bedrooms/kild...</td>\n",
       "      <td>Unfurnished</td>\n",
       "      <td>Immediate</td>\n",
       "      <td>Non-Smoking</td>\n",
       "      <td>True</td>\n",
       "      <td>False</td>\n",
       "    </tr>\n",
       "    <tr>\n",
       "      <th>24534</th>\n",
       "      <td>487720</td>\n",
       "      <td>Montréal</td>\n",
       "      <td>Quebec</td>\n",
       "      <td>4000 de Maisonneuve Blvd. West</td>\n",
       "      <td>45.488805</td>\n",
       "      <td>-73.585992</td>\n",
       "      <td>Long Term</td>\n",
       "      <td>Apartment</td>\n",
       "      <td>2660.0</td>\n",
       "      <td>2 Beds</td>\n",
       "      <td>1</td>\n",
       "      <td>1000</td>\n",
       "      <td>/qc/montreal/rentals/apartment/1-bedroom/pet-f...</td>\n",
       "      <td>Unfurnished</td>\n",
       "      <td>Immediate</td>\n",
       "      <td>Non-Smoking</td>\n",
       "      <td>True</td>\n",
       "      <td>True</td>\n",
       "    </tr>\n",
       "  </tbody>\n",
       "</table>\n",
       "</div>"
      ],
      "text/plain": [
       "       rentfaster_id      city  province                            address  \\\n",
       "6718          402727  Edmonton   Alberta  13220 140 St NW | 13528 140 St NW   \n",
       "833           572527   Calgary   Alberta       61 Galbraith Drive Southwest   \n",
       "12902         112798   Calgary   Alberta             148 Rockyledge View NW   \n",
       "15440         527884  Winnipeg  Manitoba                  290 Maxwell Place   \n",
       "24534         487720  Montréal    Quebec     4000 de Maisonneuve Blvd. West   \n",
       "\n",
       "        latitude   longitude lease_term        type   price    beds baths  \\\n",
       "6718   53.595970 -113.562291  Long Term   Townhouse  1609.0  4 Beds     1   \n",
       "833    51.010497 -114.144276  Long Term      Duplex  2200.0  3 Beds   1.5   \n",
       "12902  51.142304 -114.249795  Long Term  Condo Unit  1900.0   1 Bed     1   \n",
       "15440  49.935192  -97.092632  Long Term   Apartment  1275.0  2 Beds     1   \n",
       "24534  45.488805  -73.585992  Long Term   Apartment  2660.0  2 Beds     1   \n",
       "\n",
       "      sq_feet                                               link   furnishing  \\\n",
       "6718     1286  /ab/edmonton/rentals/townhouse/2-bedrooms/well...  Unfurnished   \n",
       "833      1100  /ab/calgary/rentals/duplex/3-bedrooms/glamorga...  Unfurnished   \n",
       "12902     758  /ab/calgary/rentals/condo/1-bedroom/rocky-ridg...  Unfurnished   \n",
       "15440     NaN  /mb/winnipeg/rentals/apartment/2-bedrooms/kild...  Unfurnished   \n",
       "24534    1000  /qc/montreal/rentals/apartment/1-bedroom/pet-f...  Unfurnished   \n",
       "\n",
       "      availability_date      smoking   cats   dogs  \n",
       "6718          Immediate  Non-Smoking   True   True  \n",
       "833           Immediate  Non-Smoking   True   True  \n",
       "12902           July 01  Non-Smoking  False  False  \n",
       "15440         Immediate  Non-Smoking   True  False  \n",
       "24534         Immediate  Non-Smoking   True   True  "
      ]
     },
     "execution_count": 123,
     "metadata": {},
     "output_type": "execute_result"
    }
   ],
   "source": [
    "df.sample(5)"
   ]
  },
  {
   "cell_type": "code",
   "execution_count": 89,
   "id": "960b702b-85ad-4233-8a4e-c64cbe1cfd6a",
   "metadata": {},
   "outputs": [
    {
     "name": "stdout",
     "output_type": "stream",
     "text": [
      "<class 'pandas.core.frame.DataFrame'>\n",
      "RangeIndex: 25771 entries, 0 to 25770\n",
      "Data columns (total 18 columns):\n",
      " #   Column             Non-Null Count  Dtype  \n",
      "---  ------             --------------  -----  \n",
      " 0   rentfaster_id      25771 non-null  int64  \n",
      " 1   city               25771 non-null  object \n",
      " 2   province           25771 non-null  object \n",
      " 3   address            25646 non-null  object \n",
      " 4   latitude           25771 non-null  float64\n",
      " 5   longitude          25771 non-null  float64\n",
      " 6   lease_term         25725 non-null  object \n",
      " 7   type               25771 non-null  object \n",
      " 8   price              25771 non-null  float64\n",
      " 9   beds               25639 non-null  object \n",
      " 10  baths              25637 non-null  object \n",
      " 11  sq_feet            21659 non-null  object \n",
      " 12  link               25771 non-null  object \n",
      " 13  furnishing         25771 non-null  object \n",
      " 14  availability_date  25759 non-null  object \n",
      " 15  smoking            23069 non-null  object \n",
      " 16  cats               25598 non-null  object \n",
      " 17  dogs               25598 non-null  object \n",
      "dtypes: float64(3), int64(1), object(14)\n",
      "memory usage: 3.5+ MB\n"
     ]
    }
   ],
   "source": [
    "df.info()"
   ]
  },
  {
   "cell_type": "code",
   "execution_count": 44,
   "id": "6ca5fde9-c97b-4c43-96a4-351bbaa5cd2a",
   "metadata": {},
   "outputs": [
    {
     "data": {
      "text/html": [
       "<div>\n",
       "<style scoped>\n",
       "    .dataframe tbody tr th:only-of-type {\n",
       "        vertical-align: middle;\n",
       "    }\n",
       "\n",
       "    .dataframe tbody tr th {\n",
       "        vertical-align: top;\n",
       "    }\n",
       "\n",
       "    .dataframe thead th {\n",
       "        text-align: right;\n",
       "    }\n",
       "</style>\n",
       "<table border=\"1\" class=\"dataframe\">\n",
       "  <thead>\n",
       "    <tr style=\"text-align: right;\">\n",
       "      <th></th>\n",
       "      <th>rentfaster_id</th>\n",
       "      <th>latitude</th>\n",
       "      <th>longitude</th>\n",
       "      <th>price</th>\n",
       "    </tr>\n",
       "  </thead>\n",
       "  <tbody>\n",
       "    <tr>\n",
       "      <th>count</th>\n",
       "      <td>25771.000000</td>\n",
       "      <td>25771.000000</td>\n",
       "      <td>25771.000000</td>\n",
       "      <td>25771.000000</td>\n",
       "    </tr>\n",
       "    <tr>\n",
       "      <th>mean</th>\n",
       "      <td>471913.795274</td>\n",
       "      <td>48.903370</td>\n",
       "      <td>-100.332196</td>\n",
       "      <td>2151.624142</td>\n",
       "    </tr>\n",
       "    <tr>\n",
       "      <th>std</th>\n",
       "      <td>120330.335865</td>\n",
       "      <td>3.603257</td>\n",
       "      <td>17.917001</td>\n",
       "      <td>972.820941</td>\n",
       "    </tr>\n",
       "    <tr>\n",
       "      <th>min</th>\n",
       "      <td>820.000000</td>\n",
       "      <td>40.741802</td>\n",
       "      <td>-128.661880</td>\n",
       "      <td>0.000000</td>\n",
       "    </tr>\n",
       "    <tr>\n",
       "      <th>25%</th>\n",
       "      <td>415749.000000</td>\n",
       "      <td>45.418785</td>\n",
       "      <td>-114.074660</td>\n",
       "      <td>1600.000000</td>\n",
       "    </tr>\n",
       "    <tr>\n",
       "      <th>50%</th>\n",
       "      <td>522379.000000</td>\n",
       "      <td>50.913739</td>\n",
       "      <td>-113.513905</td>\n",
       "      <td>2045.000000</td>\n",
       "    </tr>\n",
       "    <tr>\n",
       "      <th>75%</th>\n",
       "      <td>563397.500000</td>\n",
       "      <td>51.093585</td>\n",
       "      <td>-79.401311</td>\n",
       "      <td>2550.000000</td>\n",
       "    </tr>\n",
       "    <tr>\n",
       "      <th>max</th>\n",
       "      <td>572635.000000</td>\n",
       "      <td>62.459246</td>\n",
       "      <td>-52.695472</td>\n",
       "      <td>29990.000000</td>\n",
       "    </tr>\n",
       "  </tbody>\n",
       "</table>\n",
       "</div>"
      ],
      "text/plain": [
       "       rentfaster_id      latitude     longitude         price\n",
       "count   25771.000000  25771.000000  25771.000000  25771.000000\n",
       "mean   471913.795274     48.903370   -100.332196   2151.624142\n",
       "std    120330.335865      3.603257     17.917001    972.820941\n",
       "min       820.000000     40.741802   -128.661880      0.000000\n",
       "25%    415749.000000     45.418785   -114.074660   1600.000000\n",
       "50%    522379.000000     50.913739   -113.513905   2045.000000\n",
       "75%    563397.500000     51.093585    -79.401311   2550.000000\n",
       "max    572635.000000     62.459246    -52.695472  29990.000000"
      ]
     },
     "execution_count": 44,
     "metadata": {},
     "output_type": "execute_result"
    }
   ],
   "source": [
    "df.describe()"
   ]
  },
  {
   "cell_type": "code",
   "execution_count": 60,
   "id": "058b0564-29f4-4ceb-a199-73a9a81b814e",
   "metadata": {},
   "outputs": [
    {
     "data": {
      "text/plain": [
       "rentfaster_id           0\n",
       "city                    0\n",
       "province                0\n",
       "address               125\n",
       "latitude                0\n",
       "longitude               0\n",
       "lease_term             46\n",
       "type                    0\n",
       "price                   0\n",
       "beds                  132\n",
       "baths                 134\n",
       "sq_feet              4112\n",
       "link                    0\n",
       "furnishing              0\n",
       "availability_date      12\n",
       "smoking              2702\n",
       "cats                  173\n",
       "dogs                  173\n",
       "dtype: int64"
      ]
     },
     "execution_count": 60,
     "metadata": {},
     "output_type": "execute_result"
    }
   ],
   "source": [
    "df.isnull().sum()"
   ]
  },
  {
   "cell_type": "code",
   "execution_count": 99,
   "id": "5269c165-53b1-4648-a9c7-67de4f5ecea2",
   "metadata": {},
   "outputs": [
    {
     "data": {
      "text/html": [
       "<div>\n",
       "<style scoped>\n",
       "    .dataframe tbody tr th:only-of-type {\n",
       "        vertical-align: middle;\n",
       "    }\n",
       "\n",
       "    .dataframe tbody tr th {\n",
       "        vertical-align: top;\n",
       "    }\n",
       "\n",
       "    .dataframe thead th {\n",
       "        text-align: right;\n",
       "    }\n",
       "</style>\n",
       "<table border=\"1\" class=\"dataframe\">\n",
       "  <thead>\n",
       "    <tr style=\"text-align: right;\">\n",
       "      <th></th>\n",
       "      <th>rentfaster_id</th>\n",
       "      <th>latitude</th>\n",
       "      <th>longitude</th>\n",
       "      <th>price</th>\n",
       "    </tr>\n",
       "  </thead>\n",
       "  <tbody>\n",
       "    <tr>\n",
       "      <th>rentfaster_id</th>\n",
       "      <td>1.000000</td>\n",
       "      <td>-0.180919</td>\n",
       "      <td>0.169395</td>\n",
       "      <td>0.150541</td>\n",
       "    </tr>\n",
       "    <tr>\n",
       "      <th>latitude</th>\n",
       "      <td>-0.180919</td>\n",
       "      <td>1.000000</td>\n",
       "      <td>-0.892029</td>\n",
       "      <td>-0.214687</td>\n",
       "    </tr>\n",
       "    <tr>\n",
       "      <th>longitude</th>\n",
       "      <td>0.169395</td>\n",
       "      <td>-0.892029</td>\n",
       "      <td>1.000000</td>\n",
       "      <td>0.109689</td>\n",
       "    </tr>\n",
       "    <tr>\n",
       "      <th>price</th>\n",
       "      <td>0.150541</td>\n",
       "      <td>-0.214687</td>\n",
       "      <td>0.109689</td>\n",
       "      <td>1.000000</td>\n",
       "    </tr>\n",
       "  </tbody>\n",
       "</table>\n",
       "</div>"
      ],
      "text/plain": [
       "               rentfaster_id  latitude  longitude     price\n",
       "rentfaster_id       1.000000 -0.180919   0.169395  0.150541\n",
       "latitude           -0.180919  1.000000  -0.892029 -0.214687\n",
       "longitude           0.169395 -0.892029   1.000000  0.109689\n",
       "price               0.150541 -0.214687   0.109689  1.000000"
      ]
     },
     "execution_count": 99,
     "metadata": {},
     "output_type": "execute_result"
    }
   ],
   "source": [
    "corr_matrix = df.corr(numeric_only=True)\n",
    "corr_matrix"
   ]
  },
  {
   "cell_type": "markdown",
   "id": "34110677-2615-46c4-9d59-3114f5cc7884",
   "metadata": {},
   "source": [
    "There doesn't seem to be a strong correlation with the price and the other numerical variables."
   ]
  },
  {
   "cell_type": "markdown",
   "id": "eb3249ee-6e15-4f10-b4f4-d66751e50547",
   "metadata": {},
   "source": [
    "### 2.2 Data Cleaning"
   ]
  },
  {
   "cell_type": "markdown",
   "id": "bbb96dd1-7485-46c3-9750-6e8de89dc9bc",
   "metadata": {},
   "source": [
    "### 2.3 Data Visualization"
   ]
  },
  {
   "cell_type": "markdown",
   "id": "c17fa7a1-0339-446c-95f7-e3ad342bd176",
   "metadata": {},
   "source": [
    "## 3. Feature Engineering and Data Preprocessing"
   ]
  },
  {
   "cell_type": "markdown",
   "id": "f43ab456-092f-4673-8e9e-b91f6c2b6a0a",
   "metadata": {},
   "source": [
    "## 4. Regression"
   ]
  },
  {
   "cell_type": "markdown",
   "id": "fd464365-b0a7-4d95-bb8e-82da204eff97",
   "metadata": {},
   "source": [
    "### 3.1 Find the model"
   ]
  },
  {
   "cell_type": "markdown",
   "id": "0d8b4b5d-912a-4c80-ba1b-fe57a335d250",
   "metadata": {},
   "source": [
    "### 3.2 Make predictions"
   ]
  },
  {
   "cell_type": "markdown",
   "id": "9f5475d0-3f19-4c77-925f-842ee7fcb765",
   "metadata": {},
   "source": [
    "## End"
   ]
  }
 ],
 "metadata": {
  "kernelspec": {
   "display_name": "Python 3 (ipykernel)",
   "language": "python",
   "name": "python3"
  },
  "language_info": {
   "codemirror_mode": {
    "name": "ipython",
    "version": 3
   },
   "file_extension": ".py",
   "mimetype": "text/x-python",
   "name": "python",
   "nbconvert_exporter": "python",
   "pygments_lexer": "ipython3",
   "version": "3.12.4"
  }
 },
 "nbformat": 4,
 "nbformat_minor": 5
}
