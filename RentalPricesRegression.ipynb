{
 "cells": [
  {
   "cell_type": "markdown",
   "id": "c0aadb04-4816-42f5-b972-49844b55d1b5",
   "metadata": {},
   "source": [
    "# Rental Prices Regression Project"
   ]
  },
  {
   "cell_type": "markdown",
   "id": "a98571e0-7b39-41b6-bc43-caf1450ca949",
   "metadata": {},
   "source": [
    "## 1. Introduction"
   ]
  },
  {
   "cell_type": "markdown",
   "id": "3d7a9560-e7b5-42f3-831e-72087870deda",
   "metadata": {},
   "source": [
    "This notebook analyses the data of the 2024 rental prices across Canada and explores multiple regression models in order to find the one that predicts the price the most accurately."
   ]
  },
  {
   "cell_type": "markdown",
   "id": "4fcc95ca-0067-4d4a-b1b6-cf145090f746",
   "metadata": {},
   "source": [
    "**About the dataset**\n",
    "\n",
    "For this project, we will work with the dataset named *25000+ Canadian rental housing market June 2024* that can be found [here](https://www.kaggle.com/datasets/sergiygavrylov/25000-canadian-rental-housing-market-june-2024)."
   ]
  },
  {
   "cell_type": "code",
   "execution_count": 134,
   "id": "767a3d95-d6d3-43f2-b658-08fdc46435d2",
   "metadata": {},
   "outputs": [],
   "source": [
    "import matplotlib.pyplot as plt\n",
    "import numpy as np\n",
    "import pandas as pd\n",
    "import seaborn as sns\n",
    "from sklearn.preprocessing import OneHotEncoder, OrdinalEncoder"
   ]
  },
  {
   "cell_type": "markdown",
   "id": "6458e7e0-7094-419d-b772-375adec6479a",
   "metadata": {},
   "source": [
    "## 2. Exploratory Data Analysis (EDA)"
   ]
  },
  {
   "cell_type": "code",
   "execution_count": 136,
   "id": "20a7a151-2a6f-4bb2-95b7-ff06287b61d8",
   "metadata": {},
   "outputs": [],
   "source": [
    "# Load data\n",
    "df = pd.read_csv('Data/canada_rent.csv')"
   ]
  },
  {
   "cell_type": "markdown",
   "id": "53873ad1-6a6c-4d65-8e96-1bde4dd53837",
   "metadata": {},
   "source": [
    "### 2.1 Data Exploration"
   ]
  },
  {
   "cell_type": "code",
   "execution_count": 138,
   "id": "7d0fe57c-6fd0-4ce6-8faa-2a067bdb5103",
   "metadata": {},
   "outputs": [
    {
     "data": {
      "text/plain": [
       "(25771, 18)"
      ]
     },
     "execution_count": 138,
     "metadata": {},
     "output_type": "execute_result"
    }
   ],
   "source": [
    "df.shape"
   ]
  },
  {
   "cell_type": "code",
   "execution_count": 139,
   "id": "627a52cc-603f-43a0-a761-c668e7eea40e",
   "metadata": {},
   "outputs": [
    {
     "data": {
      "text/html": [
       "<div>\n",
       "<style scoped>\n",
       "    .dataframe tbody tr th:only-of-type {\n",
       "        vertical-align: middle;\n",
       "    }\n",
       "\n",
       "    .dataframe tbody tr th {\n",
       "        vertical-align: top;\n",
       "    }\n",
       "\n",
       "    .dataframe thead th {\n",
       "        text-align: right;\n",
       "    }\n",
       "</style>\n",
       "<table border=\"1\" class=\"dataframe\">\n",
       "  <thead>\n",
       "    <tr style=\"text-align: right;\">\n",
       "      <th></th>\n",
       "      <th>rentfaster_id</th>\n",
       "      <th>city</th>\n",
       "      <th>province</th>\n",
       "      <th>address</th>\n",
       "      <th>latitude</th>\n",
       "      <th>longitude</th>\n",
       "      <th>lease_term</th>\n",
       "      <th>type</th>\n",
       "      <th>price</th>\n",
       "      <th>beds</th>\n",
       "      <th>baths</th>\n",
       "      <th>sq_feet</th>\n",
       "      <th>link</th>\n",
       "      <th>furnishing</th>\n",
       "      <th>availability_date</th>\n",
       "      <th>smoking</th>\n",
       "      <th>cats</th>\n",
       "      <th>dogs</th>\n",
       "    </tr>\n",
       "  </thead>\n",
       "  <tbody>\n",
       "    <tr>\n",
       "      <th>0</th>\n",
       "      <td>468622</td>\n",
       "      <td>Airdrie</td>\n",
       "      <td>Alberta</td>\n",
       "      <td>69 Gateway Dr NE</td>\n",
       "      <td>51.305962</td>\n",
       "      <td>-114.012515</td>\n",
       "      <td>Long Term</td>\n",
       "      <td>Townhouse</td>\n",
       "      <td>2495.0</td>\n",
       "      <td>2 Beds</td>\n",
       "      <td>2.5</td>\n",
       "      <td>1403</td>\n",
       "      <td>/ab/airdrie/rentals/townhouse/2-bedrooms/pet-friendly/468622</td>\n",
       "      <td>Unfurnished</td>\n",
       "      <td>Immediate</td>\n",
       "      <td>Non-Smoking</td>\n",
       "      <td>True</td>\n",
       "      <td>True</td>\n",
       "    </tr>\n",
       "    <tr>\n",
       "      <th>1</th>\n",
       "      <td>468622</td>\n",
       "      <td>Airdrie</td>\n",
       "      <td>Alberta</td>\n",
       "      <td>69 Gateway Dr NE</td>\n",
       "      <td>51.305962</td>\n",
       "      <td>-114.012515</td>\n",
       "      <td>Long Term</td>\n",
       "      <td>Townhouse</td>\n",
       "      <td>2695.0</td>\n",
       "      <td>3 Beds</td>\n",
       "      <td>2.5</td>\n",
       "      <td>1496</td>\n",
       "      <td>/ab/airdrie/rentals/townhouse/2-bedrooms/pet-friendly/468622</td>\n",
       "      <td>Unfurnished</td>\n",
       "      <td>Immediate</td>\n",
       "      <td>Non-Smoking</td>\n",
       "      <td>True</td>\n",
       "      <td>True</td>\n",
       "    </tr>\n",
       "    <tr>\n",
       "      <th>2</th>\n",
       "      <td>468622</td>\n",
       "      <td>Airdrie</td>\n",
       "      <td>Alberta</td>\n",
       "      <td>69 Gateway Dr NE</td>\n",
       "      <td>51.305962</td>\n",
       "      <td>-114.012515</td>\n",
       "      <td>Long Term</td>\n",
       "      <td>Townhouse</td>\n",
       "      <td>2295.0</td>\n",
       "      <td>2 Beds</td>\n",
       "      <td>2.5</td>\n",
       "      <td>1180</td>\n",
       "      <td>/ab/airdrie/rentals/townhouse/2-bedrooms/pet-friendly/468622</td>\n",
       "      <td>Unfurnished</td>\n",
       "      <td>Immediate</td>\n",
       "      <td>Non-Smoking</td>\n",
       "      <td>True</td>\n",
       "      <td>True</td>\n",
       "    </tr>\n",
       "    <tr>\n",
       "      <th>3</th>\n",
       "      <td>468622</td>\n",
       "      <td>Airdrie</td>\n",
       "      <td>Alberta</td>\n",
       "      <td>69 Gateway Dr NE</td>\n",
       "      <td>51.305962</td>\n",
       "      <td>-114.012515</td>\n",
       "      <td>Long Term</td>\n",
       "      <td>Townhouse</td>\n",
       "      <td>2095.0</td>\n",
       "      <td>2 Beds</td>\n",
       "      <td>2.5</td>\n",
       "      <td>1403</td>\n",
       "      <td>/ab/airdrie/rentals/townhouse/2-bedrooms/pet-friendly/468622</td>\n",
       "      <td>Unfurnished</td>\n",
       "      <td>November 18</td>\n",
       "      <td>Non-Smoking</td>\n",
       "      <td>True</td>\n",
       "      <td>True</td>\n",
       "    </tr>\n",
       "    <tr>\n",
       "      <th>4</th>\n",
       "      <td>468622</td>\n",
       "      <td>Airdrie</td>\n",
       "      <td>Alberta</td>\n",
       "      <td>69 Gateway Dr NE</td>\n",
       "      <td>51.305962</td>\n",
       "      <td>-114.012515</td>\n",
       "      <td>Long Term</td>\n",
       "      <td>Townhouse</td>\n",
       "      <td>2495.0</td>\n",
       "      <td>2 Beds</td>\n",
       "      <td>2.5</td>\n",
       "      <td>1403</td>\n",
       "      <td>/ab/airdrie/rentals/townhouse/2-bedrooms/pet-friendly/468622</td>\n",
       "      <td>Unfurnished</td>\n",
       "      <td>Immediate</td>\n",
       "      <td>Non-Smoking</td>\n",
       "      <td>True</td>\n",
       "      <td>True</td>\n",
       "    </tr>\n",
       "  </tbody>\n",
       "</table>\n",
       "</div>"
      ],
      "text/plain": [
       "   rentfaster_id     city province           address   latitude   longitude  \\\n",
       "0         468622  Airdrie  Alberta  69 Gateway Dr NE  51.305962 -114.012515   \n",
       "1         468622  Airdrie  Alberta  69 Gateway Dr NE  51.305962 -114.012515   \n",
       "2         468622  Airdrie  Alberta  69 Gateway Dr NE  51.305962 -114.012515   \n",
       "3         468622  Airdrie  Alberta  69 Gateway Dr NE  51.305962 -114.012515   \n",
       "4         468622  Airdrie  Alberta  69 Gateway Dr NE  51.305962 -114.012515   \n",
       "\n",
       "  lease_term       type   price    beds baths sq_feet  \\\n",
       "0  Long Term  Townhouse  2495.0  2 Beds   2.5    1403   \n",
       "1  Long Term  Townhouse  2695.0  3 Beds   2.5    1496   \n",
       "2  Long Term  Townhouse  2295.0  2 Beds   2.5    1180   \n",
       "3  Long Term  Townhouse  2095.0  2 Beds   2.5    1403   \n",
       "4  Long Term  Townhouse  2495.0  2 Beds   2.5    1403   \n",
       "\n",
       "                                                           link   furnishing  \\\n",
       "0  /ab/airdrie/rentals/townhouse/2-bedrooms/pet-friendly/468622  Unfurnished   \n",
       "1  /ab/airdrie/rentals/townhouse/2-bedrooms/pet-friendly/468622  Unfurnished   \n",
       "2  /ab/airdrie/rentals/townhouse/2-bedrooms/pet-friendly/468622  Unfurnished   \n",
       "3  /ab/airdrie/rentals/townhouse/2-bedrooms/pet-friendly/468622  Unfurnished   \n",
       "4  /ab/airdrie/rentals/townhouse/2-bedrooms/pet-friendly/468622  Unfurnished   \n",
       "\n",
       "  availability_date      smoking  cats  dogs  \n",
       "0         Immediate  Non-Smoking  True  True  \n",
       "1         Immediate  Non-Smoking  True  True  \n",
       "2         Immediate  Non-Smoking  True  True  \n",
       "3       November 18  Non-Smoking  True  True  \n",
       "4         Immediate  Non-Smoking  True  True  "
      ]
     },
     "execution_count": 139,
     "metadata": {},
     "output_type": "execute_result"
    }
   ],
   "source": [
    "pd.set_option('display.max_colwidth', None)\n",
    "df.head()"
   ]
  },
  {
   "cell_type": "code",
   "execution_count": 140,
   "id": "56c5f25e-6ebe-4585-a162-69b6752639d5",
   "metadata": {},
   "outputs": [
    {
     "data": {
      "text/html": [
       "<div>\n",
       "<style scoped>\n",
       "    .dataframe tbody tr th:only-of-type {\n",
       "        vertical-align: middle;\n",
       "    }\n",
       "\n",
       "    .dataframe tbody tr th {\n",
       "        vertical-align: top;\n",
       "    }\n",
       "\n",
       "    .dataframe thead th {\n",
       "        text-align: right;\n",
       "    }\n",
       "</style>\n",
       "<table border=\"1\" class=\"dataframe\">\n",
       "  <thead>\n",
       "    <tr style=\"text-align: right;\">\n",
       "      <th></th>\n",
       "      <th>rentfaster_id</th>\n",
       "      <th>city</th>\n",
       "      <th>province</th>\n",
       "      <th>address</th>\n",
       "      <th>latitude</th>\n",
       "      <th>longitude</th>\n",
       "      <th>lease_term</th>\n",
       "      <th>type</th>\n",
       "      <th>price</th>\n",
       "      <th>beds</th>\n",
       "      <th>baths</th>\n",
       "      <th>sq_feet</th>\n",
       "      <th>link</th>\n",
       "      <th>furnishing</th>\n",
       "      <th>availability_date</th>\n",
       "      <th>smoking</th>\n",
       "      <th>cats</th>\n",
       "      <th>dogs</th>\n",
       "    </tr>\n",
       "  </thead>\n",
       "  <tbody>\n",
       "    <tr>\n",
       "      <th>8093</th>\n",
       "      <td>519240</td>\n",
       "      <td>Edmonton</td>\n",
       "      <td>Alberta</td>\n",
       "      <td>9662 82 Avenue Northwest</td>\n",
       "      <td>53.518255</td>\n",
       "      <td>-113.479372</td>\n",
       "      <td>Long Term</td>\n",
       "      <td>Apartment</td>\n",
       "      <td>1575.0</td>\n",
       "      <td>1 Bed</td>\n",
       "      <td>1</td>\n",
       "      <td>820</td>\n",
       "      <td>/ab/edmonton/rentals/apartment/1-bedroom/strathcona/non-smoking/519240</td>\n",
       "      <td>Unfurnished</td>\n",
       "      <td>No Vacancy</td>\n",
       "      <td>Non-Smoking</td>\n",
       "      <td>False</td>\n",
       "      <td>False</td>\n",
       "    </tr>\n",
       "    <tr>\n",
       "      <th>8684</th>\n",
       "      <td>572302</td>\n",
       "      <td>Spruce Grove</td>\n",
       "      <td>Alberta</td>\n",
       "      <td>30 Tenor Link</td>\n",
       "      <td>53.553910</td>\n",
       "      <td>-113.871190</td>\n",
       "      <td>Long Term</td>\n",
       "      <td>House</td>\n",
       "      <td>2300.0</td>\n",
       "      <td>3 Beds</td>\n",
       "      <td>2.5</td>\n",
       "      <td>1770</td>\n",
       "      <td>/ab/spruce-grove/rentals/house/3-bedrooms/spruce-village/non-smoking/572302</td>\n",
       "      <td>Unfurnished</td>\n",
       "      <td>July 01</td>\n",
       "      <td>Non-Smoking</td>\n",
       "      <td>False</td>\n",
       "      <td>False</td>\n",
       "    </tr>\n",
       "    <tr>\n",
       "      <th>23363</th>\n",
       "      <td>552072</td>\n",
       "      <td>Montréal</td>\n",
       "      <td>Quebec</td>\n",
       "      <td>2061 Stanley</td>\n",
       "      <td>45.500827</td>\n",
       "      <td>-73.576484</td>\n",
       "      <td>Long Term</td>\n",
       "      <td>Apartment</td>\n",
       "      <td>2575.0</td>\n",
       "      <td>2 Beds</td>\n",
       "      <td>1</td>\n",
       "      <td>585</td>\n",
       "      <td>/qc/montreal/rentals/apartment/1-bedroom/pet-friendly/552072</td>\n",
       "      <td>Unfurnished</td>\n",
       "      <td>Immediate</td>\n",
       "      <td>Non-Smoking</td>\n",
       "      <td>True</td>\n",
       "      <td>True</td>\n",
       "    </tr>\n",
       "    <tr>\n",
       "      <th>23935</th>\n",
       "      <td>563290</td>\n",
       "      <td>Montréal</td>\n",
       "      <td>Quebec</td>\n",
       "      <td>345 rue De La Gauchetiere</td>\n",
       "      <td>45.504208</td>\n",
       "      <td>-73.562922</td>\n",
       "      <td>Long Term</td>\n",
       "      <td>Apartment</td>\n",
       "      <td>1820.0</td>\n",
       "      <td>1 Bed</td>\n",
       "      <td>2</td>\n",
       "      <td>867</td>\n",
       "      <td>/qc/montreal/rentals/apartment/1-bedroom/pet-friendly/563290</td>\n",
       "      <td>Unfurnished</td>\n",
       "      <td>Immediate</td>\n",
       "      <td>Non-Smoking</td>\n",
       "      <td>True</td>\n",
       "      <td>True</td>\n",
       "    </tr>\n",
       "    <tr>\n",
       "      <th>22101</th>\n",
       "      <td>567879</td>\n",
       "      <td>Toronto</td>\n",
       "      <td>Ontario</td>\n",
       "      <td>1030 King Street West</td>\n",
       "      <td>43.641586</td>\n",
       "      <td>-79.415937</td>\n",
       "      <td>Long Term</td>\n",
       "      <td>Condo Unit</td>\n",
       "      <td>3300.0</td>\n",
       "      <td>2 Beds</td>\n",
       "      <td>2</td>\n",
       "      <td>NaN</td>\n",
       "      <td>/on/toronto/rentals/condo/2-bedrooms/pet-friendly/567879</td>\n",
       "      <td>Furnished</td>\n",
       "      <td>Immediate</td>\n",
       "      <td>Non-Smoking</td>\n",
       "      <td>True</td>\n",
       "      <td>True</td>\n",
       "    </tr>\n",
       "  </tbody>\n",
       "</table>\n",
       "</div>"
      ],
      "text/plain": [
       "       rentfaster_id          city province                    address  \\\n",
       "8093          519240      Edmonton  Alberta   9662 82 Avenue Northwest   \n",
       "8684          572302  Spruce Grove  Alberta              30 Tenor Link   \n",
       "23363         552072      Montréal   Quebec               2061 Stanley   \n",
       "23935         563290      Montréal   Quebec  345 rue De La Gauchetiere   \n",
       "22101         567879       Toronto  Ontario      1030 King Street West   \n",
       "\n",
       "        latitude   longitude lease_term        type   price    beds baths  \\\n",
       "8093   53.518255 -113.479372  Long Term   Apartment  1575.0   1 Bed     1   \n",
       "8684   53.553910 -113.871190  Long Term       House  2300.0  3 Beds   2.5   \n",
       "23363  45.500827  -73.576484  Long Term   Apartment  2575.0  2 Beds     1   \n",
       "23935  45.504208  -73.562922  Long Term   Apartment  1820.0   1 Bed     2   \n",
       "22101  43.641586  -79.415937  Long Term  Condo Unit  3300.0  2 Beds     2   \n",
       "\n",
       "      sq_feet  \\\n",
       "8093      820   \n",
       "8684     1770   \n",
       "23363     585   \n",
       "23935     867   \n",
       "22101     NaN   \n",
       "\n",
       "                                                                              link  \\\n",
       "8093        /ab/edmonton/rentals/apartment/1-bedroom/strathcona/non-smoking/519240   \n",
       "8684   /ab/spruce-grove/rentals/house/3-bedrooms/spruce-village/non-smoking/572302   \n",
       "23363                 /qc/montreal/rentals/apartment/1-bedroom/pet-friendly/552072   \n",
       "23935                 /qc/montreal/rentals/apartment/1-bedroom/pet-friendly/563290   \n",
       "22101                     /on/toronto/rentals/condo/2-bedrooms/pet-friendly/567879   \n",
       "\n",
       "        furnishing availability_date      smoking   cats   dogs  \n",
       "8093   Unfurnished        No Vacancy  Non-Smoking  False  False  \n",
       "8684   Unfurnished           July 01  Non-Smoking  False  False  \n",
       "23363  Unfurnished         Immediate  Non-Smoking   True   True  \n",
       "23935  Unfurnished         Immediate  Non-Smoking   True   True  \n",
       "22101    Furnished         Immediate  Non-Smoking   True   True  "
      ]
     },
     "execution_count": 140,
     "metadata": {},
     "output_type": "execute_result"
    }
   ],
   "source": [
    "df.sample(5)"
   ]
  },
  {
   "cell_type": "code",
   "execution_count": 141,
   "id": "960b702b-85ad-4233-8a4e-c64cbe1cfd6a",
   "metadata": {},
   "outputs": [
    {
     "name": "stdout",
     "output_type": "stream",
     "text": [
      "<class 'pandas.core.frame.DataFrame'>\n",
      "RangeIndex: 25771 entries, 0 to 25770\n",
      "Data columns (total 18 columns):\n",
      " #   Column             Non-Null Count  Dtype  \n",
      "---  ------             --------------  -----  \n",
      " 0   rentfaster_id      25771 non-null  int64  \n",
      " 1   city               25771 non-null  object \n",
      " 2   province           25771 non-null  object \n",
      " 3   address            25646 non-null  object \n",
      " 4   latitude           25771 non-null  float64\n",
      " 5   longitude          25771 non-null  float64\n",
      " 6   lease_term         25725 non-null  object \n",
      " 7   type               25771 non-null  object \n",
      " 8   price              25771 non-null  float64\n",
      " 9   beds               25639 non-null  object \n",
      " 10  baths              25637 non-null  object \n",
      " 11  sq_feet            21659 non-null  object \n",
      " 12  link               25771 non-null  object \n",
      " 13  furnishing         25771 non-null  object \n",
      " 14  availability_date  25759 non-null  object \n",
      " 15  smoking            23069 non-null  object \n",
      " 16  cats               25598 non-null  object \n",
      " 17  dogs               25598 non-null  object \n",
      "dtypes: float64(3), int64(1), object(14)\n",
      "memory usage: 3.5+ MB\n"
     ]
    }
   ],
   "source": [
    "df.info()"
   ]
  },
  {
   "cell_type": "code",
   "execution_count": 142,
   "id": "6ca5fde9-c97b-4c43-96a4-351bbaa5cd2a",
   "metadata": {},
   "outputs": [
    {
     "data": {
      "text/html": [
       "<div>\n",
       "<style scoped>\n",
       "    .dataframe tbody tr th:only-of-type {\n",
       "        vertical-align: middle;\n",
       "    }\n",
       "\n",
       "    .dataframe tbody tr th {\n",
       "        vertical-align: top;\n",
       "    }\n",
       "\n",
       "    .dataframe thead th {\n",
       "        text-align: right;\n",
       "    }\n",
       "</style>\n",
       "<table border=\"1\" class=\"dataframe\">\n",
       "  <thead>\n",
       "    <tr style=\"text-align: right;\">\n",
       "      <th></th>\n",
       "      <th>rentfaster_id</th>\n",
       "      <th>latitude</th>\n",
       "      <th>longitude</th>\n",
       "      <th>price</th>\n",
       "    </tr>\n",
       "  </thead>\n",
       "  <tbody>\n",
       "    <tr>\n",
       "      <th>count</th>\n",
       "      <td>25771.000000</td>\n",
       "      <td>25771.000000</td>\n",
       "      <td>25771.000000</td>\n",
       "      <td>25771.000000</td>\n",
       "    </tr>\n",
       "    <tr>\n",
       "      <th>mean</th>\n",
       "      <td>471913.795274</td>\n",
       "      <td>48.903370</td>\n",
       "      <td>-100.332196</td>\n",
       "      <td>2151.624142</td>\n",
       "    </tr>\n",
       "    <tr>\n",
       "      <th>std</th>\n",
       "      <td>120330.335865</td>\n",
       "      <td>3.603257</td>\n",
       "      <td>17.917001</td>\n",
       "      <td>972.820941</td>\n",
       "    </tr>\n",
       "    <tr>\n",
       "      <th>min</th>\n",
       "      <td>820.000000</td>\n",
       "      <td>40.741802</td>\n",
       "      <td>-128.661880</td>\n",
       "      <td>0.000000</td>\n",
       "    </tr>\n",
       "    <tr>\n",
       "      <th>25%</th>\n",
       "      <td>415749.000000</td>\n",
       "      <td>45.418785</td>\n",
       "      <td>-114.074660</td>\n",
       "      <td>1600.000000</td>\n",
       "    </tr>\n",
       "    <tr>\n",
       "      <th>50%</th>\n",
       "      <td>522379.000000</td>\n",
       "      <td>50.913739</td>\n",
       "      <td>-113.513905</td>\n",
       "      <td>2045.000000</td>\n",
       "    </tr>\n",
       "    <tr>\n",
       "      <th>75%</th>\n",
       "      <td>563397.500000</td>\n",
       "      <td>51.093585</td>\n",
       "      <td>-79.401311</td>\n",
       "      <td>2550.000000</td>\n",
       "    </tr>\n",
       "    <tr>\n",
       "      <th>max</th>\n",
       "      <td>572635.000000</td>\n",
       "      <td>62.459246</td>\n",
       "      <td>-52.695472</td>\n",
       "      <td>29990.000000</td>\n",
       "    </tr>\n",
       "  </tbody>\n",
       "</table>\n",
       "</div>"
      ],
      "text/plain": [
       "       rentfaster_id      latitude     longitude         price\n",
       "count   25771.000000  25771.000000  25771.000000  25771.000000\n",
       "mean   471913.795274     48.903370   -100.332196   2151.624142\n",
       "std    120330.335865      3.603257     17.917001    972.820941\n",
       "min       820.000000     40.741802   -128.661880      0.000000\n",
       "25%    415749.000000     45.418785   -114.074660   1600.000000\n",
       "50%    522379.000000     50.913739   -113.513905   2045.000000\n",
       "75%    563397.500000     51.093585    -79.401311   2550.000000\n",
       "max    572635.000000     62.459246    -52.695472  29990.000000"
      ]
     },
     "execution_count": 142,
     "metadata": {},
     "output_type": "execute_result"
    }
   ],
   "source": [
    "df.describe()"
   ]
  },
  {
   "cell_type": "code",
   "execution_count": 143,
   "id": "058b0564-29f4-4ceb-a199-73a9a81b814e",
   "metadata": {},
   "outputs": [
    {
     "data": {
      "text/plain": [
       "rentfaster_id           0\n",
       "city                    0\n",
       "province                0\n",
       "address               125\n",
       "latitude                0\n",
       "longitude               0\n",
       "lease_term             46\n",
       "type                    0\n",
       "price                   0\n",
       "beds                  132\n",
       "baths                 134\n",
       "sq_feet              4112\n",
       "link                    0\n",
       "furnishing              0\n",
       "availability_date      12\n",
       "smoking              2702\n",
       "cats                  173\n",
       "dogs                  173\n",
       "dtype: int64"
      ]
     },
     "execution_count": 143,
     "metadata": {},
     "output_type": "execute_result"
    }
   ],
   "source": [
    "df.isnull().sum()"
   ]
  },
  {
   "cell_type": "code",
   "execution_count": 144,
   "id": "433b838c-3dcb-44c8-9eda-9ea9a401fd87",
   "metadata": {},
   "outputs": [
    {
     "data": {
      "text/html": [
       "<div>\n",
       "<style scoped>\n",
       "    .dataframe tbody tr th:only-of-type {\n",
       "        vertical-align: middle;\n",
       "    }\n",
       "\n",
       "    .dataframe tbody tr th {\n",
       "        vertical-align: top;\n",
       "    }\n",
       "\n",
       "    .dataframe thead th {\n",
       "        text-align: right;\n",
       "    }\n",
       "</style>\n",
       "<table border=\"1\" class=\"dataframe\">\n",
       "  <thead>\n",
       "    <tr style=\"text-align: right;\">\n",
       "      <th></th>\n",
       "      <th>rentfaster_id</th>\n",
       "      <th>city</th>\n",
       "      <th>province</th>\n",
       "      <th>address</th>\n",
       "      <th>latitude</th>\n",
       "      <th>longitude</th>\n",
       "      <th>lease_term</th>\n",
       "      <th>type</th>\n",
       "      <th>price</th>\n",
       "      <th>beds</th>\n",
       "      <th>baths</th>\n",
       "      <th>sq_feet</th>\n",
       "      <th>link</th>\n",
       "      <th>furnishing</th>\n",
       "      <th>availability_date</th>\n",
       "      <th>smoking</th>\n",
       "      <th>cats</th>\n",
       "      <th>dogs</th>\n",
       "    </tr>\n",
       "  </thead>\n",
       "  <tbody>\n",
       "    <tr>\n",
       "      <th>4</th>\n",
       "      <td>468622</td>\n",
       "      <td>Airdrie</td>\n",
       "      <td>Alberta</td>\n",
       "      <td>69 Gateway Dr NE</td>\n",
       "      <td>51.305962</td>\n",
       "      <td>-114.012515</td>\n",
       "      <td>Long Term</td>\n",
       "      <td>Townhouse</td>\n",
       "      <td>2495.0</td>\n",
       "      <td>2 Beds</td>\n",
       "      <td>2.5</td>\n",
       "      <td>1403</td>\n",
       "      <td>/ab/airdrie/rentals/townhouse/2-bedrooms/pet-friendly/468622</td>\n",
       "      <td>Unfurnished</td>\n",
       "      <td>Immediate</td>\n",
       "      <td>Non-Smoking</td>\n",
       "      <td>True</td>\n",
       "      <td>True</td>\n",
       "    </tr>\n",
       "    <tr>\n",
       "      <th>5</th>\n",
       "      <td>468622</td>\n",
       "      <td>Airdrie</td>\n",
       "      <td>Alberta</td>\n",
       "      <td>69 Gateway Dr NE</td>\n",
       "      <td>51.305962</td>\n",
       "      <td>-114.012515</td>\n",
       "      <td>Long Term</td>\n",
       "      <td>Townhouse</td>\n",
       "      <td>2095.0</td>\n",
       "      <td>2 Beds</td>\n",
       "      <td>2.5</td>\n",
       "      <td>1403</td>\n",
       "      <td>/ab/airdrie/rentals/townhouse/2-bedrooms/pet-friendly/468622</td>\n",
       "      <td>Unfurnished</td>\n",
       "      <td>November 18</td>\n",
       "      <td>Non-Smoking</td>\n",
       "      <td>True</td>\n",
       "      <td>True</td>\n",
       "    </tr>\n",
       "    <tr>\n",
       "      <th>79</th>\n",
       "      <td>453882</td>\n",
       "      <td>Airdrie</td>\n",
       "      <td>Alberta</td>\n",
       "      <td>45 Gateway Drive</td>\n",
       "      <td>51.304497</td>\n",
       "      <td>-114.011563</td>\n",
       "      <td>Long Term</td>\n",
       "      <td>Apartment</td>\n",
       "      <td>1630.0</td>\n",
       "      <td>1 Bed</td>\n",
       "      <td>1</td>\n",
       "      <td>616</td>\n",
       "      <td>/ab/airdrie/rentals/apartment/1-bedroom/pet-friendly/453882</td>\n",
       "      <td>Unfurnished</td>\n",
       "      <td>Immediate</td>\n",
       "      <td>Non-Smoking</td>\n",
       "      <td>True</td>\n",
       "      <td>True</td>\n",
       "    </tr>\n",
       "    <tr>\n",
       "      <th>81</th>\n",
       "      <td>453882</td>\n",
       "      <td>Airdrie</td>\n",
       "      <td>Alberta</td>\n",
       "      <td>45 Gateway Drive</td>\n",
       "      <td>51.304497</td>\n",
       "      <td>-114.011563</td>\n",
       "      <td>Long Term</td>\n",
       "      <td>Apartment</td>\n",
       "      <td>1630.0</td>\n",
       "      <td>1 Bed</td>\n",
       "      <td>1</td>\n",
       "      <td>616</td>\n",
       "      <td>/ab/airdrie/rentals/apartment/1-bedroom/pet-friendly/453882</td>\n",
       "      <td>Unfurnished</td>\n",
       "      <td>July 01</td>\n",
       "      <td>Non-Smoking</td>\n",
       "      <td>True</td>\n",
       "      <td>True</td>\n",
       "    </tr>\n",
       "    <tr>\n",
       "      <th>82</th>\n",
       "      <td>453882</td>\n",
       "      <td>Airdrie</td>\n",
       "      <td>Alberta</td>\n",
       "      <td>45 Gateway Drive</td>\n",
       "      <td>51.304497</td>\n",
       "      <td>-114.011563</td>\n",
       "      <td>Long Term</td>\n",
       "      <td>Apartment</td>\n",
       "      <td>1630.0</td>\n",
       "      <td>1 Bed</td>\n",
       "      <td>1</td>\n",
       "      <td>616</td>\n",
       "      <td>/ab/airdrie/rentals/apartment/1-bedroom/pet-friendly/453882</td>\n",
       "      <td>Unfurnished</td>\n",
       "      <td>July 01</td>\n",
       "      <td>Non-Smoking</td>\n",
       "      <td>True</td>\n",
       "      <td>True</td>\n",
       "    </tr>\n",
       "    <tr>\n",
       "      <th>...</th>\n",
       "      <td>...</td>\n",
       "      <td>...</td>\n",
       "      <td>...</td>\n",
       "      <td>...</td>\n",
       "      <td>...</td>\n",
       "      <td>...</td>\n",
       "      <td>...</td>\n",
       "      <td>...</td>\n",
       "      <td>...</td>\n",
       "      <td>...</td>\n",
       "      <td>...</td>\n",
       "      <td>...</td>\n",
       "      <td>...</td>\n",
       "      <td>...</td>\n",
       "      <td>...</td>\n",
       "      <td>...</td>\n",
       "      <td>...</td>\n",
       "      <td>...</td>\n",
       "    </tr>\n",
       "    <tr>\n",
       "      <th>25623</th>\n",
       "      <td>370064</td>\n",
       "      <td>Saskatoon</td>\n",
       "      <td>Saskatchewan</td>\n",
       "      <td>402 Avenue P S</td>\n",
       "      <td>52.124402</td>\n",
       "      <td>-106.693794</td>\n",
       "      <td>Long Term</td>\n",
       "      <td>Apartment</td>\n",
       "      <td>950.0</td>\n",
       "      <td>2 Beds</td>\n",
       "      <td>1</td>\n",
       "      <td>627</td>\n",
       "      <td>/sk/saskatoon/rentals/apartment/1-bedroom/pleasant-hill/pet-friendly/370064</td>\n",
       "      <td>Unfurnished</td>\n",
       "      <td>Immediate</td>\n",
       "      <td>Non-Smoking</td>\n",
       "      <td>True</td>\n",
       "      <td>True</td>\n",
       "    </tr>\n",
       "    <tr>\n",
       "      <th>25624</th>\n",
       "      <td>294127</td>\n",
       "      <td>Saskatoon</td>\n",
       "      <td>Saskatchewan</td>\n",
       "      <td>1901 22 Street W</td>\n",
       "      <td>52.129052</td>\n",
       "      <td>-106.699600</td>\n",
       "      <td>Long Term</td>\n",
       "      <td>Apartment</td>\n",
       "      <td>850.0</td>\n",
       "      <td>1 Bed</td>\n",
       "      <td>1</td>\n",
       "      <td>400</td>\n",
       "      <td>/sk/saskatoon/rentals/apartment/1-bedroom/pleasant-hill/pet-friendly/294127</td>\n",
       "      <td>Unfurnished</td>\n",
       "      <td>Immediate</td>\n",
       "      <td>Non-Smoking</td>\n",
       "      <td>True</td>\n",
       "      <td>True</td>\n",
       "    </tr>\n",
       "    <tr>\n",
       "      <th>25625</th>\n",
       "      <td>294127</td>\n",
       "      <td>Saskatoon</td>\n",
       "      <td>Saskatchewan</td>\n",
       "      <td>1901 22 Street W</td>\n",
       "      <td>52.129052</td>\n",
       "      <td>-106.699600</td>\n",
       "      <td>Long Term</td>\n",
       "      <td>Apartment</td>\n",
       "      <td>1000.0</td>\n",
       "      <td>2 Beds</td>\n",
       "      <td>1</td>\n",
       "      <td>617</td>\n",
       "      <td>/sk/saskatoon/rentals/apartment/1-bedroom/pleasant-hill/pet-friendly/294127</td>\n",
       "      <td>Unfurnished</td>\n",
       "      <td>Immediate</td>\n",
       "      <td>Non-Smoking</td>\n",
       "      <td>True</td>\n",
       "      <td>True</td>\n",
       "    </tr>\n",
       "    <tr>\n",
       "      <th>25661</th>\n",
       "      <td>301351</td>\n",
       "      <td>Saskatoon</td>\n",
       "      <td>Saskatchewan</td>\n",
       "      <td>325 5TH Ave. N</td>\n",
       "      <td>52.132077</td>\n",
       "      <td>-106.656949</td>\n",
       "      <td>Long Term</td>\n",
       "      <td>Apartment</td>\n",
       "      <td>1749.0</td>\n",
       "      <td>2 Beds</td>\n",
       "      <td>1</td>\n",
       "      <td>1128</td>\n",
       "      <td>/sk/saskatoon/rentals/apartment/1-bedroom/central-business-district/pet-friendly/301351</td>\n",
       "      <td>Unfurnished</td>\n",
       "      <td>Immediate</td>\n",
       "      <td>Non-Smoking</td>\n",
       "      <td>True</td>\n",
       "      <td>False</td>\n",
       "    </tr>\n",
       "    <tr>\n",
       "      <th>25662</th>\n",
       "      <td>301351</td>\n",
       "      <td>Saskatoon</td>\n",
       "      <td>Saskatchewan</td>\n",
       "      <td>325 5TH Ave. N</td>\n",
       "      <td>52.132077</td>\n",
       "      <td>-106.656949</td>\n",
       "      <td>Long Term</td>\n",
       "      <td>Apartment</td>\n",
       "      <td>1749.0</td>\n",
       "      <td>2 Beds</td>\n",
       "      <td>1</td>\n",
       "      <td>1128</td>\n",
       "      <td>/sk/saskatoon/rentals/apartment/1-bedroom/central-business-district/pet-friendly/301351</td>\n",
       "      <td>Unfurnished</td>\n",
       "      <td>Immediate</td>\n",
       "      <td>Non-Smoking</td>\n",
       "      <td>True</td>\n",
       "      <td>False</td>\n",
       "    </tr>\n",
       "  </tbody>\n",
       "</table>\n",
       "<p>6726 rows × 18 columns</p>\n",
       "</div>"
      ],
      "text/plain": [
       "       rentfaster_id       city      province           address   latitude  \\\n",
       "4             468622    Airdrie       Alberta  69 Gateway Dr NE  51.305962   \n",
       "5             468622    Airdrie       Alberta  69 Gateway Dr NE  51.305962   \n",
       "79            453882    Airdrie       Alberta  45 Gateway Drive  51.304497   \n",
       "81            453882    Airdrie       Alberta  45 Gateway Drive  51.304497   \n",
       "82            453882    Airdrie       Alberta  45 Gateway Drive  51.304497   \n",
       "...              ...        ...           ...               ...        ...   \n",
       "25623         370064  Saskatoon  Saskatchewan    402 Avenue P S  52.124402   \n",
       "25624         294127  Saskatoon  Saskatchewan  1901 22 Street W  52.129052   \n",
       "25625         294127  Saskatoon  Saskatchewan  1901 22 Street W  52.129052   \n",
       "25661         301351  Saskatoon  Saskatchewan    325 5TH Ave. N  52.132077   \n",
       "25662         301351  Saskatoon  Saskatchewan    325 5TH Ave. N  52.132077   \n",
       "\n",
       "        longitude lease_term       type   price    beds baths sq_feet  \\\n",
       "4     -114.012515  Long Term  Townhouse  2495.0  2 Beds   2.5    1403   \n",
       "5     -114.012515  Long Term  Townhouse  2095.0  2 Beds   2.5    1403   \n",
       "79    -114.011563  Long Term  Apartment  1630.0   1 Bed     1     616   \n",
       "81    -114.011563  Long Term  Apartment  1630.0   1 Bed     1     616   \n",
       "82    -114.011563  Long Term  Apartment  1630.0   1 Bed     1     616   \n",
       "...           ...        ...        ...     ...     ...   ...     ...   \n",
       "25623 -106.693794  Long Term  Apartment   950.0  2 Beds     1     627   \n",
       "25624 -106.699600  Long Term  Apartment   850.0   1 Bed     1     400   \n",
       "25625 -106.699600  Long Term  Apartment  1000.0  2 Beds     1     617   \n",
       "25661 -106.656949  Long Term  Apartment  1749.0  2 Beds     1    1128   \n",
       "25662 -106.656949  Long Term  Apartment  1749.0  2 Beds     1    1128   \n",
       "\n",
       "                                                                                          link  \\\n",
       "4                                 /ab/airdrie/rentals/townhouse/2-bedrooms/pet-friendly/468622   \n",
       "5                                 /ab/airdrie/rentals/townhouse/2-bedrooms/pet-friendly/468622   \n",
       "79                                 /ab/airdrie/rentals/apartment/1-bedroom/pet-friendly/453882   \n",
       "81                                 /ab/airdrie/rentals/apartment/1-bedroom/pet-friendly/453882   \n",
       "82                                 /ab/airdrie/rentals/apartment/1-bedroom/pet-friendly/453882   \n",
       "...                                                                                        ...   \n",
       "25623              /sk/saskatoon/rentals/apartment/1-bedroom/pleasant-hill/pet-friendly/370064   \n",
       "25624              /sk/saskatoon/rentals/apartment/1-bedroom/pleasant-hill/pet-friendly/294127   \n",
       "25625              /sk/saskatoon/rentals/apartment/1-bedroom/pleasant-hill/pet-friendly/294127   \n",
       "25661  /sk/saskatoon/rentals/apartment/1-bedroom/central-business-district/pet-friendly/301351   \n",
       "25662  /sk/saskatoon/rentals/apartment/1-bedroom/central-business-district/pet-friendly/301351   \n",
       "\n",
       "        furnishing availability_date      smoking  cats   dogs  \n",
       "4      Unfurnished         Immediate  Non-Smoking  True   True  \n",
       "5      Unfurnished       November 18  Non-Smoking  True   True  \n",
       "79     Unfurnished         Immediate  Non-Smoking  True   True  \n",
       "81     Unfurnished           July 01  Non-Smoking  True   True  \n",
       "82     Unfurnished           July 01  Non-Smoking  True   True  \n",
       "...            ...               ...          ...   ...    ...  \n",
       "25623  Unfurnished         Immediate  Non-Smoking  True   True  \n",
       "25624  Unfurnished         Immediate  Non-Smoking  True   True  \n",
       "25625  Unfurnished         Immediate  Non-Smoking  True   True  \n",
       "25661  Unfurnished         Immediate  Non-Smoking  True  False  \n",
       "25662  Unfurnished         Immediate  Non-Smoking  True  False  \n",
       "\n",
       "[6726 rows x 18 columns]"
      ]
     },
     "execution_count": 144,
     "metadata": {},
     "output_type": "execute_result"
    }
   ],
   "source": [
    "df[df.duplicated()]"
   ]
  },
  {
   "cell_type": "markdown",
   "id": "eb3249ee-6e15-4f10-b4f4-d66751e50547",
   "metadata": {},
   "source": [
    "### 2.2 Data Cleaning and Preparation"
   ]
  },
  {
   "cell_type": "code",
   "execution_count": 146,
   "id": "42e69f4b-ddb0-464f-885a-4fe3338144e4",
   "metadata": {},
   "outputs": [
    {
     "data": {
      "text/plain": [
       "3711156"
      ]
     },
     "execution_count": 146,
     "metadata": {},
     "output_type": "execute_result"
    }
   ],
   "source": [
    "# Get memory usage before cleaning\n",
    "nbytes_before = df.memory_usage().sum()\n",
    "nbytes_before"
   ]
  },
  {
   "cell_type": "markdown",
   "id": "e27125f9-0858-4b11-bbad-8594c2f5ee89",
   "metadata": {},
   "source": [
    "#### 2.2.1 Remove duplicates"
   ]
  },
  {
   "cell_type": "code",
   "execution_count": 148,
   "id": "50b27700-fadf-48ab-9818-ff9745599742",
   "metadata": {},
   "outputs": [
    {
     "data": {
      "text/plain": [
       "(25771, 19045)"
      ]
     },
     "execution_count": 148,
     "metadata": {},
     "output_type": "execute_result"
    }
   ],
   "source": [
    "rows_before = len(df)\n",
    "df.drop_duplicates(keep='first', inplace=True)\n",
    "df = df.reset_index(drop=True)\n",
    "rows_after = len(df)\n",
    "rows_before, rows_after"
   ]
  },
  {
   "cell_type": "markdown",
   "id": "a299cc42-6beb-4d9a-93b1-196b49647001",
   "metadata": {},
   "source": [
    "There still are a lot of rows with the same Rentfaster ID but with different prices and square feets. Based on the website, it seems to be multiple units in the same building."
   ]
  },
  {
   "cell_type": "code",
   "execution_count": 150,
   "id": "bd9112c1-9963-4a1d-8770-65dd3f63dfa3",
   "metadata": {},
   "outputs": [
    {
     "data": {
      "text/html": [
       "<div>\n",
       "<style scoped>\n",
       "    .dataframe tbody tr th:only-of-type {\n",
       "        vertical-align: middle;\n",
       "    }\n",
       "\n",
       "    .dataframe tbody tr th {\n",
       "        vertical-align: top;\n",
       "    }\n",
       "\n",
       "    .dataframe thead th {\n",
       "        text-align: right;\n",
       "    }\n",
       "</style>\n",
       "<table border=\"1\" class=\"dataframe\">\n",
       "  <thead>\n",
       "    <tr style=\"text-align: right;\">\n",
       "      <th></th>\n",
       "      <th>rentfaster_id</th>\n",
       "      <th>city</th>\n",
       "      <th>province</th>\n",
       "      <th>address</th>\n",
       "      <th>latitude</th>\n",
       "      <th>longitude</th>\n",
       "      <th>lease_term</th>\n",
       "      <th>type</th>\n",
       "      <th>price</th>\n",
       "      <th>beds</th>\n",
       "      <th>baths</th>\n",
       "      <th>sq_feet</th>\n",
       "      <th>link</th>\n",
       "      <th>furnishing</th>\n",
       "      <th>availability_date</th>\n",
       "      <th>smoking</th>\n",
       "      <th>cats</th>\n",
       "      <th>dogs</th>\n",
       "    </tr>\n",
       "  </thead>\n",
       "  <tbody>\n",
       "    <tr>\n",
       "      <th>0</th>\n",
       "      <td>468622</td>\n",
       "      <td>Airdrie</td>\n",
       "      <td>Alberta</td>\n",
       "      <td>69 Gateway Dr NE</td>\n",
       "      <td>51.305962</td>\n",
       "      <td>-114.012515</td>\n",
       "      <td>Long Term</td>\n",
       "      <td>Townhouse</td>\n",
       "      <td>2495.0</td>\n",
       "      <td>2 Beds</td>\n",
       "      <td>2.5</td>\n",
       "      <td>1403</td>\n",
       "      <td>/ab/airdrie/rentals/townhouse/2-bedrooms/pet-friendly/468622</td>\n",
       "      <td>Unfurnished</td>\n",
       "      <td>Immediate</td>\n",
       "      <td>Non-Smoking</td>\n",
       "      <td>True</td>\n",
       "      <td>True</td>\n",
       "    </tr>\n",
       "    <tr>\n",
       "      <th>1</th>\n",
       "      <td>468622</td>\n",
       "      <td>Airdrie</td>\n",
       "      <td>Alberta</td>\n",
       "      <td>69 Gateway Dr NE</td>\n",
       "      <td>51.305962</td>\n",
       "      <td>-114.012515</td>\n",
       "      <td>Long Term</td>\n",
       "      <td>Townhouse</td>\n",
       "      <td>2695.0</td>\n",
       "      <td>3 Beds</td>\n",
       "      <td>2.5</td>\n",
       "      <td>1496</td>\n",
       "      <td>/ab/airdrie/rentals/townhouse/2-bedrooms/pet-friendly/468622</td>\n",
       "      <td>Unfurnished</td>\n",
       "      <td>Immediate</td>\n",
       "      <td>Non-Smoking</td>\n",
       "      <td>True</td>\n",
       "      <td>True</td>\n",
       "    </tr>\n",
       "    <tr>\n",
       "      <th>2</th>\n",
       "      <td>468622</td>\n",
       "      <td>Airdrie</td>\n",
       "      <td>Alberta</td>\n",
       "      <td>69 Gateway Dr NE</td>\n",
       "      <td>51.305962</td>\n",
       "      <td>-114.012515</td>\n",
       "      <td>Long Term</td>\n",
       "      <td>Townhouse</td>\n",
       "      <td>2295.0</td>\n",
       "      <td>2 Beds</td>\n",
       "      <td>2.5</td>\n",
       "      <td>1180</td>\n",
       "      <td>/ab/airdrie/rentals/townhouse/2-bedrooms/pet-friendly/468622</td>\n",
       "      <td>Unfurnished</td>\n",
       "      <td>Immediate</td>\n",
       "      <td>Non-Smoking</td>\n",
       "      <td>True</td>\n",
       "      <td>True</td>\n",
       "    </tr>\n",
       "    <tr>\n",
       "      <th>3</th>\n",
       "      <td>468622</td>\n",
       "      <td>Airdrie</td>\n",
       "      <td>Alberta</td>\n",
       "      <td>69 Gateway Dr NE</td>\n",
       "      <td>51.305962</td>\n",
       "      <td>-114.012515</td>\n",
       "      <td>Long Term</td>\n",
       "      <td>Townhouse</td>\n",
       "      <td>2095.0</td>\n",
       "      <td>2 Beds</td>\n",
       "      <td>2.5</td>\n",
       "      <td>1403</td>\n",
       "      <td>/ab/airdrie/rentals/townhouse/2-bedrooms/pet-friendly/468622</td>\n",
       "      <td>Unfurnished</td>\n",
       "      <td>November 18</td>\n",
       "      <td>Non-Smoking</td>\n",
       "      <td>True</td>\n",
       "      <td>True</td>\n",
       "    </tr>\n",
       "    <tr>\n",
       "      <th>4</th>\n",
       "      <td>468622</td>\n",
       "      <td>Airdrie</td>\n",
       "      <td>Alberta</td>\n",
       "      <td>69 Gateway Dr NE</td>\n",
       "      <td>51.305962</td>\n",
       "      <td>-114.012515</td>\n",
       "      <td>Long Term</td>\n",
       "      <td>Townhouse</td>\n",
       "      <td>2495.0</td>\n",
       "      <td>2 Beds</td>\n",
       "      <td>2.5</td>\n",
       "      <td>1351</td>\n",
       "      <td>/ab/airdrie/rentals/townhouse/2-bedrooms/pet-friendly/468622</td>\n",
       "      <td>Unfurnished</td>\n",
       "      <td>Immediate</td>\n",
       "      <td>Non-Smoking</td>\n",
       "      <td>True</td>\n",
       "      <td>True</td>\n",
       "    </tr>\n",
       "  </tbody>\n",
       "</table>\n",
       "</div>"
      ],
      "text/plain": [
       "   rentfaster_id     city province           address   latitude   longitude  \\\n",
       "0         468622  Airdrie  Alberta  69 Gateway Dr NE  51.305962 -114.012515   \n",
       "1         468622  Airdrie  Alberta  69 Gateway Dr NE  51.305962 -114.012515   \n",
       "2         468622  Airdrie  Alberta  69 Gateway Dr NE  51.305962 -114.012515   \n",
       "3         468622  Airdrie  Alberta  69 Gateway Dr NE  51.305962 -114.012515   \n",
       "4         468622  Airdrie  Alberta  69 Gateway Dr NE  51.305962 -114.012515   \n",
       "\n",
       "  lease_term       type   price    beds baths sq_feet  \\\n",
       "0  Long Term  Townhouse  2495.0  2 Beds   2.5    1403   \n",
       "1  Long Term  Townhouse  2695.0  3 Beds   2.5    1496   \n",
       "2  Long Term  Townhouse  2295.0  2 Beds   2.5    1180   \n",
       "3  Long Term  Townhouse  2095.0  2 Beds   2.5    1403   \n",
       "4  Long Term  Townhouse  2495.0  2 Beds   2.5    1351   \n",
       "\n",
       "                                                           link   furnishing  \\\n",
       "0  /ab/airdrie/rentals/townhouse/2-bedrooms/pet-friendly/468622  Unfurnished   \n",
       "1  /ab/airdrie/rentals/townhouse/2-bedrooms/pet-friendly/468622  Unfurnished   \n",
       "2  /ab/airdrie/rentals/townhouse/2-bedrooms/pet-friendly/468622  Unfurnished   \n",
       "3  /ab/airdrie/rentals/townhouse/2-bedrooms/pet-friendly/468622  Unfurnished   \n",
       "4  /ab/airdrie/rentals/townhouse/2-bedrooms/pet-friendly/468622  Unfurnished   \n",
       "\n",
       "  availability_date      smoking  cats  dogs  \n",
       "0         Immediate  Non-Smoking  True  True  \n",
       "1         Immediate  Non-Smoking  True  True  \n",
       "2         Immediate  Non-Smoking  True  True  \n",
       "3       November 18  Non-Smoking  True  True  \n",
       "4         Immediate  Non-Smoking  True  True  "
      ]
     },
     "execution_count": 150,
     "metadata": {},
     "output_type": "execute_result"
    }
   ],
   "source": [
    "# Example of a townhouse with multiple units\n",
    "df[df['rentfaster_id'] == 468622]"
   ]
  },
  {
   "cell_type": "markdown",
   "id": "e461bf2d-7d90-41a1-8f5c-69594bf89e30",
   "metadata": {},
   "source": [
    "#### 2.2.2 Convert some string columns into categorical columns"
   ]
  },
  {
   "cell_type": "markdown",
   "id": "26f7cf20-bdb9-4d09-8335-f78d6d397c04",
   "metadata": {},
   "source": [
    "##### Province"
   ]
  },
  {
   "cell_type": "code",
   "execution_count": 153,
   "id": "30278df0-ec25-4a9c-b025-1d0525863ef7",
   "metadata": {},
   "outputs": [
    {
     "data": {
      "text/plain": [
       "array(['Alberta', 'British Columbia', 'Manitoba', 'New Brunswick',\n",
       "       'Newfoundland and Labrador', 'Nova Scotia',\n",
       "       'Northwest Territories', 'Ontario', 'Quebec', 'Saskatchewan'],\n",
       "      dtype=object)"
      ]
     },
     "execution_count": 153,
     "metadata": {},
     "output_type": "execute_result"
    }
   ],
   "source": [
    "df['province'].unique()"
   ]
  },
  {
   "cell_type": "code",
   "execution_count": 154,
   "id": "0f5c2aed-ac3c-400c-a4d2-a29fc1cf9b96",
   "metadata": {},
   "outputs": [],
   "source": [
    "assert df['province'].isnull().sum() == 0"
   ]
  },
  {
   "cell_type": "code",
   "execution_count": 155,
   "id": "dc9c00a9-8a83-44fe-bb40-cac181d00c85",
   "metadata": {},
   "outputs": [
    {
     "data": {
      "text/plain": [
       "count       19045\n",
       "unique         10\n",
       "top       Alberta\n",
       "freq         8326\n",
       "Name: province, dtype: object"
      ]
     },
     "execution_count": 155,
     "metadata": {},
     "output_type": "execute_result"
    }
   ],
   "source": [
    "df['province'] = df['province'].astype('category')\n",
    "df['province'].describe()"
   ]
  },
  {
   "cell_type": "markdown",
   "id": "562684f8-7b5c-418d-8b0d-8a10202da9be",
   "metadata": {},
   "source": [
    "##### Lease term"
   ]
  },
  {
   "cell_type": "code",
   "execution_count": 157,
   "id": "60c93c68-d6cb-4f50-82a8-eb5365a74f4b",
   "metadata": {},
   "outputs": [
    {
     "data": {
      "text/plain": [
       "array(['Long Term', 'Negotiable', 'Short Term', '12 months', 'months',\n",
       "       '6 months', nan], dtype=object)"
      ]
     },
     "execution_count": 157,
     "metadata": {},
     "output_type": "execute_result"
    }
   ],
   "source": [
    "df['lease_term'].unique()"
   ]
  },
  {
   "cell_type": "code",
   "execution_count": 158,
   "id": "8f920034-a346-4230-a641-590660694ba1",
   "metadata": {},
   "outputs": [],
   "source": [
    "df['lease_term'] = df['lease_term'].fillna('Unknown')\n",
    "assert df['lease_term'].isna().sum() == 0"
   ]
  },
  {
   "cell_type": "code",
   "execution_count": 159,
   "id": "05837cbe-eafa-44d4-a024-33990c85e36a",
   "metadata": {},
   "outputs": [
    {
     "data": {
      "text/plain": [
       "count         19045\n",
       "unique            7\n",
       "top       Long Term\n",
       "freq          17809\n",
       "Name: lease_term, dtype: object"
      ]
     },
     "execution_count": 159,
     "metadata": {},
     "output_type": "execute_result"
    }
   ],
   "source": [
    "df['lease_term'] = df['lease_term'].astype('category')\n",
    "df['lease_term'].describe()"
   ]
  },
  {
   "cell_type": "markdown",
   "id": "21cc08c8-df6c-4326-8834-99bedcdfb67b",
   "metadata": {},
   "source": [
    "##### Type"
   ]
  },
  {
   "cell_type": "code",
   "execution_count": 161,
   "id": "07473f43-28cc-46c6-a309-71933ef039c5",
   "metadata": {},
   "outputs": [
    {
     "data": {
      "text/plain": [
       "array(['Townhouse', 'Apartment', 'Main Floor', 'House', 'Basement',\n",
       "       'Duplex', 'Storage', 'Condo Unit', 'Room For Rent', 'Loft',\n",
       "       'Acreage', 'Office Space', 'Parking Spot', 'Vacation Home',\n",
       "       'Mobile'], dtype=object)"
      ]
     },
     "execution_count": 161,
     "metadata": {},
     "output_type": "execute_result"
    }
   ],
   "source": [
    "df['type'].unique()"
   ]
  },
  {
   "cell_type": "code",
   "execution_count": 162,
   "id": "fc25f9df-b0f0-4d14-9742-c6e9f9445431",
   "metadata": {},
   "outputs": [],
   "source": [
    "assert df['type'].isna().sum() == 0"
   ]
  },
  {
   "cell_type": "code",
   "execution_count": 163,
   "id": "1b2cb173-4250-44a4-bc78-61c2f9b03cee",
   "metadata": {},
   "outputs": [
    {
     "data": {
      "text/plain": [
       "count         19045\n",
       "unique           15\n",
       "top       Apartment\n",
       "freq          13325\n",
       "Name: type, dtype: object"
      ]
     },
     "execution_count": 163,
     "metadata": {},
     "output_type": "execute_result"
    }
   ],
   "source": [
    "df['type'] = df['type'].astype('category')\n",
    "df['type'].describe()"
   ]
  },
  {
   "cell_type": "markdown",
   "id": "9fed906f-057f-4c55-9f2a-ab1a8f48601a",
   "metadata": {},
   "source": [
    "##### Beds"
   ]
  },
  {
   "cell_type": "code",
   "execution_count": 165,
   "id": "7ed4153f-46f1-4a9a-ba04-59d9fb58d2aa",
   "metadata": {},
   "outputs": [
    {
     "data": {
      "text/plain": [
       "array(['2 Beds', '3 Beds', 'Studio', '1 Bed', '5 Beds', '4 Beds', nan,\n",
       "       '6 Beds', 'none Beds', '8 Beds', '7 Beds', '9 Beds'], dtype=object)"
      ]
     },
     "execution_count": 165,
     "metadata": {},
     "output_type": "execute_result"
    }
   ],
   "source": [
    "df['beds'].unique()"
   ]
  },
  {
   "cell_type": "code",
   "execution_count": 166,
   "id": "5b9ce4b1-1ec8-495b-b9a4-5b17854ba071",
   "metadata": {},
   "outputs": [],
   "source": [
    "df['beds'] = df['beds'].fillna('Unknown')\n",
    "assert df['beds'].isna().sum() == 0"
   ]
  },
  {
   "cell_type": "code",
   "execution_count": 167,
   "id": "c8842041-652b-46e8-9439-eec2c6dafd53",
   "metadata": {},
   "outputs": [
    {
     "data": {
      "text/plain": [
       "count      19045\n",
       "unique        12\n",
       "top       2 Beds\n",
       "freq        7237\n",
       "Name: beds, dtype: object"
      ]
     },
     "execution_count": 167,
     "metadata": {},
     "output_type": "execute_result"
    }
   ],
   "source": [
    "beds = ['Unknown', 'none Beds', 'Studio', '1 Bed', '2 Beds', '3 Beds', '4 Beds', '5 Beds', '6 Beds', '7 Beds', '8 Beds', '9 Beds']\n",
    "\n",
    "df['beds'] = pd.Categorical(values=df['beds'], categories=beds, ordered=True)\n",
    "df['beds'].describe()"
   ]
  },
  {
   "cell_type": "markdown",
   "id": "a11d6dd0-0542-4bfa-840f-14371e3ccc73",
   "metadata": {},
   "source": [
    "##### Baths"
   ]
  },
  {
   "cell_type": "code",
   "execution_count": 169,
   "id": "a0b64613-9ae6-4057-a858-86b4eec28e2c",
   "metadata": {},
   "outputs": [
    {
     "data": {
      "text/plain": [
       "array(['2.5', '1', '2', '1.5', '3.5', nan, '4', '3', '5', 'none', '4.5',\n",
       "       '7.5', '5.5', '6', '6.5', '7', '8', '0'], dtype=object)"
      ]
     },
     "execution_count": 169,
     "metadata": {},
     "output_type": "execute_result"
    }
   ],
   "source": [
    "df['baths'].unique()"
   ]
  },
  {
   "cell_type": "code",
   "execution_count": 170,
   "id": "5d69a64d-67be-4b38-aadf-03ae095f127b",
   "metadata": {},
   "outputs": [],
   "source": [
    "df['baths'] = df['baths'].fillna('Unknown')\n",
    "df['baths'] = df['baths'].replace('none', '0')\n",
    "assert df['baths'].isna().sum() == 0"
   ]
  },
  {
   "cell_type": "code",
   "execution_count": 171,
   "id": "8bb74101-951e-47c4-b613-9648a44cc824",
   "metadata": {},
   "outputs": [
    {
     "data": {
      "text/plain": [
       "count     19045\n",
       "unique       17\n",
       "top           1\n",
       "freq      12858\n",
       "Name: baths, dtype: object"
      ]
     },
     "execution_count": 171,
     "metadata": {},
     "output_type": "execute_result"
    }
   ],
   "source": [
    "baths = ['Unknown', '0', '1', '1.5', '2', '2.5', '3', '3.5', '4', '4.5', '5', '5.5', '6', '6.5' , '7', '7.5', '8']\n",
    "\n",
    "df['baths'] = pd.Categorical(values=df['baths'], categories=baths, ordered=True)\n",
    "df['baths'].describe()"
   ]
  },
  {
   "cell_type": "markdown",
   "id": "3330a549-c6a4-4f0c-a7de-74bd62d2a228",
   "metadata": {},
   "source": [
    "##### Furnishing"
   ]
  },
  {
   "cell_type": "code",
   "execution_count": 173,
   "id": "fc9ae876-e60c-4438-adff-83bc86c52f6f",
   "metadata": {},
   "outputs": [
    {
     "data": {
      "text/plain": [
       "array(['Unfurnished', 'Furnished', 'Negotiable',\n",
       "       'Unfurnished, Negotiable'], dtype=object)"
      ]
     },
     "execution_count": 173,
     "metadata": {},
     "output_type": "execute_result"
    }
   ],
   "source": [
    "df['furnishing'].unique()"
   ]
  },
  {
   "cell_type": "code",
   "execution_count": 174,
   "id": "86500876-3d22-4c08-a277-de8568d6a0e5",
   "metadata": {},
   "outputs": [
    {
     "data": {
      "text/plain": [
       "count           19045\n",
       "unique              4\n",
       "top       Unfurnished\n",
       "freq            17416\n",
       "Name: furnishing, dtype: object"
      ]
     },
     "execution_count": 174,
     "metadata": {},
     "output_type": "execute_result"
    }
   ],
   "source": [
    "df['furnishing'] = df['furnishing'].astype('category')\n",
    "df['furnishing'].describe()"
   ]
  },
  {
   "cell_type": "markdown",
   "id": "b8f8fdee-17d9-455e-884c-87484a57679a",
   "metadata": {},
   "source": [
    "##### Smoking"
   ]
  },
  {
   "cell_type": "code",
   "execution_count": 176,
   "id": "72821bcd-68ce-413d-aa21-eabce4224500",
   "metadata": {},
   "outputs": [
    {
     "data": {
      "text/plain": [
       "array(['Non-Smoking', 'Smoke Free Building', nan, 'Negotiable',\n",
       "       'Smoking Allowed'], dtype=object)"
      ]
     },
     "execution_count": 176,
     "metadata": {},
     "output_type": "execute_result"
    }
   ],
   "source": [
    "df['smoking'].unique()"
   ]
  },
  {
   "cell_type": "code",
   "execution_count": 177,
   "id": "c14f7923-13a6-461d-a580-11bc560fef8d",
   "metadata": {},
   "outputs": [],
   "source": [
    "df['smoking'] = df['smoking'].fillna('Unknown')\n",
    "assert df['smoking'].isna().sum() == 0"
   ]
  },
  {
   "cell_type": "code",
   "execution_count": 178,
   "id": "da79d394-ba78-4852-affc-4b5f3757465f",
   "metadata": {},
   "outputs": [
    {
     "data": {
      "text/plain": [
       "count           19045\n",
       "unique              5\n",
       "top       Non-Smoking\n",
       "freq            16233\n",
       "Name: smoking, dtype: object"
      ]
     },
     "execution_count": 178,
     "metadata": {},
     "output_type": "execute_result"
    }
   ],
   "source": [
    "df['smoking'] = df['smoking'].astype('category')\n",
    "df['smoking'].describe()"
   ]
  },
  {
   "cell_type": "markdown",
   "id": "804b3766-3506-422d-9d49-e22ace7ad5c0",
   "metadata": {},
   "source": [
    "##### Cats"
   ]
  },
  {
   "cell_type": "code",
   "execution_count": 180,
   "id": "8abf7270-13b0-4b35-880a-fe79c7171f10",
   "metadata": {},
   "outputs": [
    {
     "data": {
      "text/plain": [
       "array([True, False, nan], dtype=object)"
      ]
     },
     "execution_count": 180,
     "metadata": {},
     "output_type": "execute_result"
    }
   ],
   "source": [
    "df['cats'].unique()"
   ]
  },
  {
   "cell_type": "code",
   "execution_count": 181,
   "id": "bd99d0cc-2b4d-4454-8dee-5fd029fa66d8",
   "metadata": {},
   "outputs": [],
   "source": [
    "# Let's assume the null values are false\n",
    "df['cats'] = df['cats'].astype('bool')\n",
    "assert df['cats'].isna().sum() == 0"
   ]
  },
  {
   "cell_type": "code",
   "execution_count": 182,
   "id": "2a6bd729-8408-4823-a880-d9f73bd30ad8",
   "metadata": {},
   "outputs": [
    {
     "data": {
      "text/plain": [
       "count     19045\n",
       "unique        2\n",
       "top        True\n",
       "freq      12956\n",
       "Name: cats, dtype: object"
      ]
     },
     "execution_count": 182,
     "metadata": {},
     "output_type": "execute_result"
    }
   ],
   "source": [
    "df['cats'].describe()"
   ]
  },
  {
   "cell_type": "markdown",
   "id": "a5736660-7a23-4328-a27a-5c2790747cd7",
   "metadata": {},
   "source": [
    "##### Dogs"
   ]
  },
  {
   "cell_type": "code",
   "execution_count": 184,
   "id": "609a4746-c8ab-48b9-93ae-e307e02b5f70",
   "metadata": {},
   "outputs": [
    {
     "data": {
      "text/plain": [
       "array([True, False, nan], dtype=object)"
      ]
     },
     "execution_count": 184,
     "metadata": {},
     "output_type": "execute_result"
    }
   ],
   "source": [
    "df['dogs'].unique()"
   ]
  },
  {
   "cell_type": "code",
   "execution_count": 185,
   "id": "2ccc90d6-3c1e-4d0a-8d0e-3eb3a696dca5",
   "metadata": {},
   "outputs": [],
   "source": [
    "# Same thing as cats\n",
    "df['dogs'] = df['dogs'].astype('bool')\n",
    "assert df['dogs'].isna().sum() == 0"
   ]
  },
  {
   "cell_type": "code",
   "execution_count": 186,
   "id": "053b3f6f-35ca-41c6-8987-4a7e71a98cde",
   "metadata": {},
   "outputs": [
    {
     "data": {
      "text/plain": [
       "count     19045\n",
       "unique        2\n",
       "top        True\n",
       "freq      12408\n",
       "Name: dogs, dtype: object"
      ]
     },
     "execution_count": 186,
     "metadata": {},
     "output_type": "execute_result"
    }
   ],
   "source": [
    "df['dogs'].describe()"
   ]
  },
  {
   "cell_type": "markdown",
   "id": "bc4ba405-3432-4eec-82d9-5d39125e931c",
   "metadata": {},
   "source": [
    "#### 2.2.3 Convert some columns to numerical values"
   ]
  },
  {
   "cell_type": "markdown",
   "id": "5babfc22-f032-40a1-879e-c0a84aefe969",
   "metadata": {},
   "source": [
    "##### Square feet"
   ]
  },
  {
   "cell_type": "code",
   "execution_count": 189,
   "id": "ce029b0f-8d86-4fb5-ad3e-8b8065caeb3e",
   "metadata": {},
   "outputs": [
    {
     "data": {
      "text/plain": [
       "2966"
      ]
     },
     "execution_count": 189,
     "metadata": {},
     "output_type": "execute_result"
    }
   ],
   "source": [
    "nb_null = df['sq_feet'].isna().sum()\n",
    "nb_null "
   ]
  },
  {
   "cell_type": "code",
   "execution_count": 229,
   "id": "f8e6ad4b-67aa-4b82-ab65-05a4d0c28f5c",
   "metadata": {},
   "outputs": [
    {
     "data": {
      "text/plain": [
       "0.15573641375689157"
      ]
     },
     "execution_count": 229,
     "metadata": {},
     "output_type": "execute_result"
    }
   ],
   "source": [
    "all_rows = len(df['sq_feet'])\n",
    "null_values_ratio = nb_null / all_rows\n",
    "null_values_ratio"
   ]
  },
  {
   "cell_type": "markdown",
   "id": "85d830d9-be31-4881-8d8b-0a9a55744a49",
   "metadata": {},
   "source": [
    "If we delete all the rows with null square feets, we would loose about 16% of our data. A better option would be to fill the missing values with the mean of each type of rental by city."
   ]
  },
  {
   "cell_type": "code",
   "execution_count": 234,
   "id": "b99c20cd-f3b4-434d-98d3-9a7039556e47",
   "metadata": {},
   "outputs": [
    {
     "data": {
      "text/plain": [
       "count    16076.000000\n",
       "mean       868.596233\n",
       "std        491.675660\n",
       "min          0.000000\n",
       "25%        600.000000\n",
       "50%        800.000000\n",
       "75%       1000.000000\n",
       "max      11700.000000\n",
       "Name: sq_feet, dtype: float64"
      ]
     },
     "execution_count": 234,
     "metadata": {},
     "output_type": "execute_result"
    }
   ],
   "source": [
    "# Remove strings from values and convert sq_feet column to float\n",
    "df['sq_feet'] = df['sq_feet'].str.replace(',', '')\n",
    "df['sq_feet'] = df['sq_feet'].str.extract(r'(\\d+[.\\d]*)')\n",
    "df['sq_feet'] = df['sq_feet'].astype('float')\n",
    "df['sq_feet'].describe()"
   ]
  },
  {
   "cell_type": "code",
   "execution_count": 238,
   "id": "03cf5b4b-3bf2-43a7-b86a-625c69f889d5",
   "metadata": {},
   "outputs": [],
   "source": [
    "# Calculate mean for each group\n",
    "df['sq_feet'] = df['sq_feet'].fillna(df.groupby(['province', 'city', 'type'], observed=True)['sq_feet'].transform('mean').iloc[0])\n",
    "assert df['sq_feet'].isnull().sum() == 0"
   ]
  },
  {
   "cell_type": "code",
   "execution_count": 240,
   "id": "504bfd79-6a17-4c24-b91a-42143a2e3feb",
   "metadata": {},
   "outputs": [
    {
     "data": {
      "text/plain": [
       "count    19045.000000\n",
       "mean       946.927381\n",
       "std        487.114967\n",
       "min          0.000000\n",
       "25%        634.000000\n",
       "50%        870.000000\n",
       "75%       1304.000000\n",
       "max      11700.000000\n",
       "Name: sq_feet, dtype: float64"
      ]
     },
     "execution_count": 240,
     "metadata": {},
     "output_type": "execute_result"
    }
   ],
   "source": [
    "df['sq_feet'].describe()"
   ]
  },
  {
   "cell_type": "markdown",
   "id": "5ef762bc-e43e-44dd-836d-e35c2aff0c87",
   "metadata": {},
   "source": [
    "#### Summary"
   ]
  },
  {
   "cell_type": "code",
   "execution_count": 110,
   "id": "ca8c0dbc-d4dd-4648-9f28-310686ec4611",
   "metadata": {},
   "outputs": [
    {
     "name": "stdout",
     "output_type": "stream",
     "text": [
      "<class 'pandas.core.frame.DataFrame'>\n",
      "RangeIndex: 19045 entries, 0 to 19044\n",
      "Data columns (total 18 columns):\n",
      " #   Column             Non-Null Count  Dtype   \n",
      "---  ------             --------------  -----   \n",
      " 0   rentfaster_id      19045 non-null  int64   \n",
      " 1   city               19045 non-null  object  \n",
      " 2   province           19045 non-null  category\n",
      " 3   address            18920 non-null  object  \n",
      " 4   latitude           19045 non-null  float64 \n",
      " 5   longitude          19045 non-null  float64 \n",
      " 6   lease_term         19045 non-null  category\n",
      " 7   type               19045 non-null  category\n",
      " 8   price              19045 non-null  float64 \n",
      " 9   beds               19045 non-null  category\n",
      " 10  baths              19045 non-null  category\n",
      " 11  sq_feet            19045 non-null  float64 \n",
      " 12  link               19045 non-null  object  \n",
      " 13  furnishing         19045 non-null  category\n",
      " 14  availability_date  19037 non-null  object  \n",
      " 15  smoking            19045 non-null  category\n",
      " 16  cats               19045 non-null  bool    \n",
      " 17  dogs               19045 non-null  bool    \n",
      "dtypes: bool(2), category(7), float64(4), int64(1), object(4)\n",
      "memory usage: 1.5+ MB\n"
     ]
    }
   ],
   "source": [
    "df.info()"
   ]
  },
  {
   "cell_type": "code",
   "execution_count": 242,
   "id": "5cd3c5cc-7e0f-4845-b86c-0d18f822c074",
   "metadata": {},
   "outputs": [
    {
     "name": "stdout",
     "output_type": "stream",
     "text": [
      "There is a 58.35% decrease in memory usage.\n"
     ]
    }
   ],
   "source": [
    "# Get memory usage improvement\n",
    "nbytes_after = df.memory_usage().sum()\n",
    "improvement = (nbytes_before - nbytes_after) / nbytes_before\n",
    "print(f'There is a {improvement:.2%} decrease in memory usage.')"
   ]
  },
  {
   "cell_type": "markdown",
   "id": "bbb96dd1-7485-46c3-9750-6e8de89dc9bc",
   "metadata": {},
   "source": [
    "### 2.3 Data Visualization"
   ]
  },
  {
   "cell_type": "markdown",
   "id": "495ef142-3608-430c-af7b-ca65c971c11b",
   "metadata": {},
   "source": [
    "#### 2.3.1 Correlation between numeric variables"
   ]
  },
  {
   "cell_type": "code",
   "execution_count": 244,
   "id": "e2236728-0c94-47e7-9d6b-769e76b6c1d7",
   "metadata": {},
   "outputs": [
    {
     "data": {
      "image/png": "[encoded data removed]",
      "text/plain": [
       "<Figure size 640x480 with 2 Axes>"
      ]
     },
     "metadata": {},
     "output_type": "display_data"
    }
   ],
   "source": [
    "sns.heatmap(df.corr(numeric_only=True), annot=True, vmin=-1, vmax=1);"
   ]
  },
  {
   "cell_type": "code",
   "execution_count": 246,
   "id": "b8e1e454-17bc-4a51-9f70-4070638a4e82",
   "metadata": {},
   "outputs": [
    {
     "data": {
      "image/png": "[encoded data removed]",
      "text/plain": [
       "<Figure size 1405.12x250 with 5 Axes>"
      ]
     },
     "metadata": {},
     "output_type": "display_data"
    }
   ],
   "source": [
    "sns.pairplot(df, x_vars=['latitude', 'longitude', 'sq_feet', 'cats', 'dogs'], y_vars=['price'], hue='type');"
   ]
  },
  {
   "cell_type": "markdown",
   "id": "effdcc2f-b322-425d-a1b0-34f91165ed39",
   "metadata": {},
   "source": [
    "Based on the correlation coefficient (0.33) and the plots, there seems to be a relationship between the square feet and the price. Also, the places where animals are not accepted seem to be more expensive."
   ]
  },
  {
   "cell_type": "markdown",
   "id": "02ec6dc9-0297-4fe8-9017-39d62edebe7d",
   "metadata": {},
   "source": [
    "#### 2.3.2 Distribution of the price by province"
   ]
  },
  {
   "cell_type": "code",
   "execution_count": 249,
   "id": "50fa6125-f195-4a5d-bc6e-493e8e81fe65",
   "metadata": {},
   "outputs": [
    {
     "data": {
      "image/png": "[encoded data removed]",
      "text/plain": [
       "<Figure size 1500x800 with 1 Axes>"
      ]
     },
     "metadata": {},
     "output_type": "display_data"
    }
   ],
   "source": [
    "fig, ax = plt.subplots(figsize=(15,8))\n",
    "g = sns.kdeplot(data=df, x='price', hue='province', fill=True, alpha=0.6, multiple='stack', ax=ax)\n",
    "g.set(xlabel='Price (dollars)')\n",
    "fig.suptitle('Price distribution by province', fontsize=18)\n",
    "fig.tight_layout();"
   ]
  },
  {
   "cell_type": "code",
   "execution_count": 75,
   "id": "0f192aad-c7a1-4749-a6e5-3dbc937fe836",
   "metadata": {},
   "outputs": [
    {
     "data": {
      "image/png": "[encoded data removed]",
      "text/plain": [
       "<Figure size 750x500 with 1 Axes>"
      ]
     },
     "metadata": {},
     "output_type": "display_data"
    }
   ],
   "source": [
    "ax = sns.catplot(data=df, x='province', y='price', kind='bar', aspect=1.5, hue='province')\n",
    "ax.tick_params(axis='x', rotation=90)\n",
    "ax.fig.suptitle('Average price by province', fontsize=18)\n",
    "ax.set_xlabels('Province')\n",
    "ax.set_ylabels('Price (dollars)');"
   ]
  },
  {
   "cell_type": "markdown",
   "id": "9f19ebd5-8f38-4920-a3e7-16fec1787e7d",
   "metadata": {},
   "source": [
    "The highest average price is in British Columbia but the prices are generally higher in Alberta."
   ]
  },
  {
   "cell_type": "markdown",
   "id": "c17fa7a1-0339-446c-95f7-e3ad342bd176",
   "metadata": {},
   "source": [
    "## 3. Feature Engineering and Data Preprocessing"
   ]
  },
  {
   "cell_type": "markdown",
   "id": "16afd5ac-c0ec-4d54-9433-c78ab91263aa",
   "metadata": {},
   "source": [
    "### 3.1 Remove unimportant columns"
   ]
  },
  {
   "cell_type": "code",
   "execution_count": 79,
   "id": "6b371741-ddfe-487f-abcd-a10dd679eee9",
   "metadata": {},
   "outputs": [
    {
     "data": {
      "text/html": [
       "<div>\n",
       "<style scoped>\n",
       "    .dataframe tbody tr th:only-of-type {\n",
       "        vertical-align: middle;\n",
       "    }\n",
       "\n",
       "    .dataframe tbody tr th {\n",
       "        vertical-align: top;\n",
       "    }\n",
       "\n",
       "    .dataframe thead th {\n",
       "        text-align: right;\n",
       "    }\n",
       "</style>\n",
       "<table border=\"1\" class=\"dataframe\">\n",
       "  <thead>\n",
       "    <tr style=\"text-align: right;\">\n",
       "      <th></th>\n",
       "      <th>city</th>\n",
       "      <th>province</th>\n",
       "      <th>latitude</th>\n",
       "      <th>longitude</th>\n",
       "      <th>lease_term</th>\n",
       "      <th>type</th>\n",
       "      <th>price</th>\n",
       "      <th>beds</th>\n",
       "      <th>baths</th>\n",
       "      <th>sq_feet</th>\n",
       "      <th>furnishing</th>\n",
       "      <th>smoking</th>\n",
       "      <th>cats</th>\n",
       "      <th>dogs</th>\n",
       "    </tr>\n",
       "  </thead>\n",
       "  <tbody>\n",
       "    <tr>\n",
       "      <th>5686</th>\n",
       "      <td>Edmonton</td>\n",
       "      <td>Alberta</td>\n",
       "      <td>53.396781</td>\n",
       "      <td>-113.576332</td>\n",
       "      <td>Long Term</td>\n",
       "      <td>House</td>\n",
       "      <td>2300.0</td>\n",
       "      <td>3 Beds</td>\n",
       "      <td>2.5</td>\n",
       "      <td>1700.0</td>\n",
       "      <td>Unfurnished</td>\n",
       "      <td>Non-Smoking</td>\n",
       "      <td>True</td>\n",
       "      <td>True</td>\n",
       "    </tr>\n",
       "    <tr>\n",
       "      <th>16725</th>\n",
       "      <td>Montréal</td>\n",
       "      <td>Quebec</td>\n",
       "      <td>45.507216</td>\n",
       "      <td>-73.569636</td>\n",
       "      <td>Long Term</td>\n",
       "      <td>Apartment</td>\n",
       "      <td>2465.0</td>\n",
       "      <td>1 Bed</td>\n",
       "      <td>1</td>\n",
       "      <td>608.0</td>\n",
       "      <td>Unfurnished</td>\n",
       "      <td>Non-Smoking</td>\n",
       "      <td>True</td>\n",
       "      <td>True</td>\n",
       "    </tr>\n",
       "    <tr>\n",
       "      <th>15424</th>\n",
       "      <td>Toronto</td>\n",
       "      <td>Ontario</td>\n",
       "      <td>43.669180</td>\n",
       "      <td>-79.486228</td>\n",
       "      <td>Long Term</td>\n",
       "      <td>Apartment</td>\n",
       "      <td>2150.0</td>\n",
       "      <td>1 Bed</td>\n",
       "      <td>1</td>\n",
       "      <td>550.0</td>\n",
       "      <td>Unfurnished</td>\n",
       "      <td>Non-Smoking</td>\n",
       "      <td>True</td>\n",
       "      <td>True</td>\n",
       "    </tr>\n",
       "  </tbody>\n",
       "</table>\n",
       "</div>"
      ],
      "text/plain": [
       "           city province   latitude   longitude lease_term       type   price  \\\n",
       "5686   Edmonton  Alberta  53.396781 -113.576332  Long Term      House  2300.0   \n",
       "16725  Montréal   Quebec  45.507216  -73.569636  Long Term  Apartment  2465.0   \n",
       "15424   Toronto  Ontario  43.669180  -79.486228  Long Term  Apartment  2150.0   \n",
       "\n",
       "         beds baths  sq_feet   furnishing      smoking  cats  dogs  \n",
       "5686   3 Beds   2.5   1700.0  Unfurnished  Non-Smoking  True  True  \n",
       "16725   1 Bed     1    608.0  Unfurnished  Non-Smoking  True  True  \n",
       "15424   1 Bed     1    550.0  Unfurnished  Non-Smoking  True  True  "
      ]
     },
     "execution_count": 79,
     "metadata": {},
     "output_type": "execute_result"
    }
   ],
   "source": [
    "# Remove rentfaster_id, address, link and availability_date, as they are non-numeric or non-categorical\n",
    "df.drop(columns=['rentfaster_id', 'address', 'link', 'availability_date'], axis=1, inplace=True)\n",
    "df.sample(3)"
   ]
  },
  {
   "cell_type": "markdown",
   "id": "831d9c3d-fdf4-45aa-9bc9-295952ad4e76",
   "metadata": {},
   "source": [
    "### 3.2 Encode non-ordinal categorical columns"
   ]
  },
  {
   "cell_type": "markdown",
   "id": "32bcb43c-3d19-409f-a5f1-9d5f5574eb47",
   "metadata": {},
   "source": [
    "We will reduce the cardinality of the columns to 5 or less. If the relative frequency of a value is less than 5%, we will add it in a category named 'Other'."
   ]
  },
  {
   "cell_type": "markdown",
   "id": "0352a2b3-6545-42cc-8ec7-1356ddbddb6d",
   "metadata": {},
   "source": [
    "#### Lease Term"
   ]
  },
  {
   "cell_type": "code",
   "execution_count": 83,
   "id": "71e5e294-3fd1-4a5d-a730-c35cf1a15b81",
   "metadata": {},
   "outputs": [
    {
     "data": {
      "text/plain": [
       "lease_term\n",
       "Long Term     0.935101\n",
       "Negotiable    0.047414\n",
       "Short Term    0.011657\n",
       "12 months     0.003255\n",
       "Unknown       0.002415\n",
       "6 months      0.000105\n",
       "months        0.000053\n",
       "Name: proportion, dtype: float64"
      ]
     },
     "execution_count": 83,
     "metadata": {},
     "output_type": "execute_result"
    }
   ],
   "source": [
    "df['lease_term'].value_counts(normalize=True)"
   ]
  },
  {
   "cell_type": "code",
   "execution_count": 84,
   "id": "84d6479a-db7e-4b6e-93ae-82dfee2a32c0",
   "metadata": {},
   "outputs": [
    {
     "data": {
      "text/plain": [
       "lease_term\n",
       "Long Term    0.935101\n",
       "Other        0.064899\n",
       "Name: proportion, dtype: float64"
      ]
     },
     "execution_count": 84,
     "metadata": {},
     "output_type": "execute_result"
    }
   ],
   "source": [
    "df['lease_term'] = np.where(df['lease_term'] == 'Long Term', 'Long Term', 'Other')\n",
    "df['lease_term'] = df['lease_term'].astype('category')\n",
    "df['lease_term'].value_counts(normalize=True)"
   ]
  },
  {
   "cell_type": "markdown",
   "id": "5ee8cd1e-9309-4206-bbad-36fe22ee0942",
   "metadata": {},
   "source": [
    "#### Type"
   ]
  },
  {
   "cell_type": "code",
   "execution_count": 86,
   "id": "918bb54c-4717-4b37-bc42-8f099e5a8050",
   "metadata": {},
   "outputs": [
    {
     "data": {
      "text/plain": [
       "type\n",
       "Apartment        0.699659\n",
       "Condo Unit       0.068574\n",
       "Townhouse        0.055185\n",
       "House            0.054030\n",
       "Basement         0.053400\n",
       "Main Floor       0.024573\n",
       "Room For Rent    0.021528\n",
       "Duplex           0.016277\n",
       "Office Space     0.003150\n",
       "Storage          0.001103\n",
       "Parking Spot     0.001103\n",
       "Loft             0.000788\n",
       "Acreage          0.000420\n",
       "Mobile           0.000105\n",
       "Vacation Home    0.000105\n",
       "Name: proportion, dtype: float64"
      ]
     },
     "execution_count": 86,
     "metadata": {},
     "output_type": "execute_result"
    }
   ],
   "source": [
    "df['type'].value_counts(normalize=True)"
   ]
  },
  {
   "cell_type": "code",
   "execution_count": 87,
   "id": "07a3db4b-a097-4a35-8f83-b34f7cadce4d",
   "metadata": {},
   "outputs": [
    {
     "data": {
      "text/plain": [
       "type\n",
       "Apartment     0.699659\n",
       "Other         0.069152\n",
       "Condo Unit    0.068574\n",
       "Townhouse     0.055185\n",
       "House         0.054030\n",
       "Basement      0.053400\n",
       "Name: proportion, dtype: float64"
      ]
     },
     "execution_count": 87,
     "metadata": {},
     "output_type": "execute_result"
    }
   ],
   "source": [
    "df['type'] = np.where(df['type'].isin(['Apartment', 'Condo Unit', 'Townhouse', 'House', 'Basement']), df['type'], 'Other')\n",
    "df['type'] = df['type'].astype('category')\n",
    "df['type'].value_counts(normalize=True)"
   ]
  },
  {
   "cell_type": "markdown",
   "id": "4536a4df-b8c4-4cf4-93f1-ddb9be553ec8",
   "metadata": {},
   "source": [
    "#### Furnishing"
   ]
  },
  {
   "cell_type": "code",
   "execution_count": 261,
   "id": "d88501c7-7fa7-4e33-a4fd-8a00ce5617a7",
   "metadata": {},
   "outputs": [
    {
     "data": {
      "text/plain": [
       "furnishing\n",
       "Unfurnished                0.914466\n",
       "Furnished                  0.072617\n",
       "Negotiable                 0.012759\n",
       "Unfurnished, Negotiable    0.000158\n",
       "Name: proportion, dtype: float64"
      ]
     },
     "execution_count": 261,
     "metadata": {},
     "output_type": "execute_result"
    }
   ],
   "source": [
    "df['furnishing'].value_counts(normalize=True)"
   ]
  },
  {
   "cell_type": "code",
   "execution_count": 267,
   "id": "b7d4d12d-05a2-45e5-a1da-30f366f3aa5b",
   "metadata": {},
   "outputs": [
    {
     "data": {
      "text/plain": [
       "furnishing\n",
       "Unfurnished    0.914466\n",
       "Furnished      0.072617\n",
       "Negotiable     0.012917\n",
       "Name: proportion, dtype: float64"
      ]
     },
     "execution_count": 267,
     "metadata": {},
     "output_type": "execute_result"
    }
   ],
   "source": [
    "df['furnishing'] = np.where(~df['furnishing'].isin(['Unfurnished', 'Furnished']), 'Negotiable', df['furnishing'])\n",
    "df['furnishing'] = df['furnishing'].astype('category')\n",
    "df['furnishing'].value_counts(normalize=True)"
   ]
  },
  {
   "cell_type": "markdown",
   "id": "7ea41b8c-1bde-4851-a96b-6e43dfbfb71c",
   "metadata": {},
   "source": [
    "#### Smoking"
   ]
  },
  {
   "cell_type": "code",
   "execution_count": 271,
   "id": "94c96c9c-4c37-44f5-8ac4-98a8b1aaa4fa",
   "metadata": {},
   "outputs": [
    {
     "data": {
      "text/plain": [
       "smoking\n",
       "Non-Smoking            0.852350\n",
       "Unknown                0.122447\n",
       "Smoke Free Building    0.014702\n",
       "Smoking Allowed        0.007509\n",
       "Negotiable             0.002993\n",
       "Name: proportion, dtype: float64"
      ]
     },
     "execution_count": 271,
     "metadata": {},
     "output_type": "execute_result"
    }
   ],
   "source": [
    "df['smoking'].value_counts(normalize=True)"
   ]
  },
  {
   "cell_type": "code",
   "execution_count": 173,
   "id": "e7b2884c-a481-49ed-8eac-0e1626002f66",
   "metadata": {},
   "outputs": [
    {
     "name": "stdout",
     "output_type": "stream",
     "text": [
      "<class 'pandas.core.frame.DataFrame'>\n",
      "RangeIndex: 19045 entries, 0 to 19044\n",
      "Data columns (total 14 columns):\n",
      " #   Column      Non-Null Count  Dtype   \n",
      "---  ------      --------------  -----   \n",
      " 0   city        19045 non-null  float64 \n",
      " 1   province    19045 non-null  category\n",
      " 2   latitude    19045 non-null  float64 \n",
      " 3   longitude   19045 non-null  float64 \n",
      " 4   lease_term  19045 non-null  category\n",
      " 5   type        19045 non-null  category\n",
      " 6   price       19045 non-null  float64 \n",
      " 7   beds        19045 non-null  category\n",
      " 8   baths       19045 non-null  category\n",
      " 9   sq_feet     18865 non-null  float64 \n",
      " 10  furnishing  19045 non-null  category\n",
      " 11  smoking     19045 non-null  category\n",
      " 12  cats        19045 non-null  bool    \n",
      " 13  dogs        19045 non-null  bool    \n",
      "dtypes: bool(2), category(7), float64(5)\n",
      "memory usage: 913.0 KB\n"
     ]
    }
   ],
   "source": [
    "# Encode features using OneHotEncoder\n",
    "# encoder = OneHotEncoder(drop='first', sparse_output=False)\n",
    "# encoded_cols = encoder.fit_transform(df[['lease_term', 'type', 'furnishing', 'smoking']])\n"
   ]
  },
  {
   "cell_type": "markdown",
   "id": "07f3e90e-3a10-4044-919d-60750aa54661",
   "metadata": {},
   "source": [
    "#### City and Province"
   ]
  },
  {
   "cell_type": "markdown",
   "id": "63af0591-ab17-44db-892a-a98c8055a2fd",
   "metadata": {},
   "source": [
    "I won't use the same method as the previous categories, because I think it's important to get the pricing for each city and province. We will use Frequency Encoding instead."
   ]
  },
  {
   "cell_type": "code",
   "execution_count": 91,
   "id": "38e75645-fe5f-4738-90c4-ed704e9dd302",
   "metadata": {},
   "outputs": [
    {
     "data": {
      "text/plain": [
       "city\n",
       "Calgary             0.247887\n",
       "Edmonton            0.134944\n",
       "Toronto             0.125755\n",
       "Montréal            0.079601\n",
       "Ottawa              0.056918\n",
       "                      ...   \n",
       "Christopher Lake    0.000053\n",
       "Priddis             0.000053\n",
       "Innisfail           0.000053\n",
       "Langdon             0.000053\n",
       "Crowsnest Pass      0.000053\n",
       "Name: proportion, Length: 269, dtype: float64"
      ]
     },
     "execution_count": 91,
     "metadata": {},
     "output_type": "execute_result"
    }
   ],
   "source": [
    "# Save frequency mapping of cities and provinces\n",
    "city_frequency = df['city'].value_counts(normalize=True)\n",
    "city_frequency"
   ]
  },
  {
   "cell_type": "code",
   "execution_count": 92,
   "id": "ab38741b-3422-44d2-83d8-e91c2c1c17d8",
   "metadata": {},
   "outputs": [
    {
     "data": {
      "text/plain": [
       "province\n",
       "Alberta                      0.437175\n",
       "Ontario                      0.312260\n",
       "Quebec                       0.109898\n",
       "British Columbia             0.058598\n",
       "Saskatchewan                 0.035967\n",
       "Manitoba                     0.030349\n",
       "Nova Scotia                  0.013389\n",
       "Northwest Territories        0.001050\n",
       "New Brunswick                0.000683\n",
       "Newfoundland and Labrador    0.000630\n",
       "Name: proportion, dtype: float64"
      ]
     },
     "execution_count": 92,
     "metadata": {},
     "output_type": "execute_result"
    }
   ],
   "source": [
    "province_frequency = df['province'].value_counts(normalize=True)\n",
    "province_frequency"
   ]
  },
  {
   "cell_type": "code",
   "execution_count": 93,
   "id": "d882b328-fc1d-4f16-bae2-f19e2ecf2d0e",
   "metadata": {},
   "outputs": [
    {
     "data": {
      "text/html": [
       "<div>\n",
       "<style scoped>\n",
       "    .dataframe tbody tr th:only-of-type {\n",
       "        vertical-align: middle;\n",
       "    }\n",
       "\n",
       "    .dataframe tbody tr th {\n",
       "        vertical-align: top;\n",
       "    }\n",
       "\n",
       "    .dataframe thead th {\n",
       "        text-align: right;\n",
       "    }\n",
       "</style>\n",
       "<table border=\"1\" class=\"dataframe\">\n",
       "  <thead>\n",
       "    <tr style=\"text-align: right;\">\n",
       "      <th></th>\n",
       "      <th>city</th>\n",
       "      <th>province</th>\n",
       "      <th>latitude</th>\n",
       "      <th>longitude</th>\n",
       "      <th>lease_term</th>\n",
       "      <th>type</th>\n",
       "      <th>price</th>\n",
       "      <th>beds</th>\n",
       "      <th>baths</th>\n",
       "      <th>sq_feet</th>\n",
       "      <th>furnishing</th>\n",
       "      <th>smoking</th>\n",
       "      <th>cats</th>\n",
       "      <th>dogs</th>\n",
       "    </tr>\n",
       "  </thead>\n",
       "  <tbody>\n",
       "    <tr>\n",
       "      <th>12303</th>\n",
       "      <td>0.056918</td>\n",
       "      <td>0.312260</td>\n",
       "      <td>45.409765</td>\n",
       "      <td>-75.677710</td>\n",
       "      <td>Long Term</td>\n",
       "      <td>Apartment</td>\n",
       "      <td>2395.0</td>\n",
       "      <td>1 Bed</td>\n",
       "      <td>1</td>\n",
       "      <td>700.0</td>\n",
       "      <td>Unfurnished</td>\n",
       "      <td>Non-Smoking</td>\n",
       "      <td>True</td>\n",
       "      <td>True</td>\n",
       "    </tr>\n",
       "    <tr>\n",
       "      <th>3240</th>\n",
       "      <td>0.247887</td>\n",
       "      <td>0.437175</td>\n",
       "      <td>51.055780</td>\n",
       "      <td>-114.178203</td>\n",
       "      <td>Other</td>\n",
       "      <td>House</td>\n",
       "      <td>7000.0</td>\n",
       "      <td>7 Beds</td>\n",
       "      <td>5</td>\n",
       "      <td>4200.0</td>\n",
       "      <td>Unfurnished</td>\n",
       "      <td>Non-Smoking</td>\n",
       "      <td>True</td>\n",
       "      <td>True</td>\n",
       "    </tr>\n",
       "    <tr>\n",
       "      <th>4237</th>\n",
       "      <td>0.247887</td>\n",
       "      <td>0.437175</td>\n",
       "      <td>51.050350</td>\n",
       "      <td>-114.036322</td>\n",
       "      <td>Long Term</td>\n",
       "      <td>Apartment</td>\n",
       "      <td>1825.0</td>\n",
       "      <td>1 Bed</td>\n",
       "      <td>1</td>\n",
       "      <td>597.0</td>\n",
       "      <td>Unfurnished</td>\n",
       "      <td>Non-Smoking</td>\n",
       "      <td>True</td>\n",
       "      <td>False</td>\n",
       "    </tr>\n",
       "  </tbody>\n",
       "</table>\n",
       "</div>"
      ],
      "text/plain": [
       "           city  province   latitude   longitude lease_term       type  \\\n",
       "12303  0.056918  0.312260  45.409765  -75.677710  Long Term  Apartment   \n",
       "3240   0.247887  0.437175  51.055780 -114.178203      Other      House   \n",
       "4237   0.247887  0.437175  51.050350 -114.036322  Long Term  Apartment   \n",
       "\n",
       "        price    beds baths  sq_feet   furnishing      smoking  cats   dogs  \n",
       "12303  2395.0   1 Bed     1    700.0  Unfurnished  Non-Smoking  True   True  \n",
       "3240   7000.0  7 Beds     5   4200.0  Unfurnished  Non-Smoking  True   True  \n",
       "4237   1825.0   1 Bed     1    597.0  Unfurnished  Non-Smoking  True  False  "
      ]
     },
     "execution_count": 93,
     "metadata": {},
     "output_type": "execute_result"
    }
   ],
   "source": [
    "# Encode data using Frequency Encoding\n",
    "df['city'] = df['city'].map(city_frequency)\n",
    "df['province'] = df['province'].map(province_frequency)\n",
    "df.sample(3)"
   ]
  },
  {
   "cell_type": "markdown",
   "id": "50fcce29-d191-4bac-8c42-2eb9b5783f00",
   "metadata": {},
   "source": [
    "### 3.3 Encode ordinal categorical columns"
   ]
  },
  {
   "cell_type": "markdown",
   "id": "7610a33e-ba17-4880-b847-05eeb8ca78c3",
   "metadata": {},
   "source": [
    "#### Beds"
   ]
  },
  {
   "cell_type": "code",
   "execution_count": 96,
   "id": "7402c0c5-184b-4e18-a586-9032b661c154",
   "metadata": {},
   "outputs": [
    {
     "data": {
      "text/plain": [
       "beds\n",
       "2 Beds       0.379995\n",
       "1 Bed        0.372276\n",
       "3 Beds       0.135206\n",
       "Studio       0.073615\n",
       "4 Beds       0.025466\n",
       "5 Beds       0.007351\n",
       "Unknown      0.003465\n",
       "6 Beds       0.001838\n",
       "7 Beds       0.000420\n",
       "9 Beds       0.000158\n",
       "none Beds    0.000105\n",
       "8 Beds       0.000105\n",
       "Name: proportion, dtype: float64"
      ]
     },
     "execution_count": 96,
     "metadata": {},
     "output_type": "execute_result"
    }
   ],
   "source": [
    "df['beds'].value_counts(normalize=True)"
   ]
  },
  {
   "cell_type": "code",
   "execution_count": 97,
   "id": "3ec34109-f57c-402d-bfdf-31460af4bea7",
   "metadata": {},
   "outputs": [
    {
     "data": {
      "text/plain": [
       "beds\n",
       "2 Beds              0.379995\n",
       "1 Bed               0.372276\n",
       "3 Beds              0.135206\n",
       "Studio and Other    0.077186\n",
       "4 Beds and More     0.035337\n",
       "Name: proportion, dtype: float64"
      ]
     },
     "execution_count": 97,
     "metadata": {},
     "output_type": "execute_result"
    }
   ],
   "source": [
    "df['beds'] = np.where(\n",
    "    df['beds'].isin(\n",
    "        ['4 Beds', '5 Beds', '6 Beds', '7 Beds', '8 Beds', '9 Beds']),\n",
    "    '4 Beds and More',\n",
    "    df['beds'])\n",
    "\n",
    "df['beds'] = np.where(\n",
    "    df['beds'].isin(\n",
    "        ['Studio', 'none Beds', 'Unknown']), \n",
    "    'Studio and Other', \n",
    "    df['beds'])\n",
    "\n",
    "df['beds'].value_counts(normalize=True)"
   ]
  },
  {
   "cell_type": "code",
   "execution_count": 98,
   "id": "73136329-a643-43bd-8805-116d5d372205",
   "metadata": {},
   "outputs": [
    {
     "data": {
      "text/plain": [
       "CategoricalDtype(categories=['Studio and Other', '1 Bed', '2 Beds', '3 Beds',\n",
       "                  '4 Beds and More'],\n",
       ", ordered=True, categories_dtype=object)"
      ]
     },
     "execution_count": 98,
     "metadata": {},
     "output_type": "execute_result"
    }
   ],
   "source": [
    "beds = ['Studio and Other', '1 Bed', '2 Beds', '3 Beds', '4 Beds and More']\n",
    "df['beds'] = pd.Categorical(df['beds'], categories=beds, ordered=True)\n",
    "df['beds'].dtype"
   ]
  },
  {
   "cell_type": "markdown",
   "id": "db414449-cf95-442b-884f-113c4d333ca0",
   "metadata": {},
   "source": [
    "#### Baths"
   ]
  },
  {
   "cell_type": "code",
   "execution_count": 100,
   "id": "79732aea-8b65-4714-b2bf-e8b2ba6716d8",
   "metadata": {},
   "outputs": [
    {
     "data": {
      "text/plain": [
       "baths\n",
       "1          0.675138\n",
       "2          0.190076\n",
       "2.5        0.063166\n",
       "1.5        0.036388\n",
       "3.5        0.013284\n",
       "3          0.013074\n",
       "Unknown    0.003518\n",
       "4          0.003045\n",
       "4.5        0.000735\n",
       "0          0.000683\n",
       "5          0.000368\n",
       "5.5        0.000158\n",
       "6          0.000105\n",
       "7          0.000105\n",
       "6.5        0.000053\n",
       "7.5        0.000053\n",
       "8          0.000053\n",
       "Name: proportion, dtype: float64"
      ]
     },
     "execution_count": 100,
     "metadata": {},
     "output_type": "execute_result"
    }
   ],
   "source": [
    "df['baths'].value_counts(normalize=True)"
   ]
  },
  {
   "cell_type": "code",
   "execution_count": 101,
   "id": "ceb38ece-b5bb-4c5a-be48-b980fe6c5960",
   "metadata": {},
   "outputs": [
    {
     "data": {
      "text/plain": [
       "baths\n",
       "1             0.675138\n",
       "2             0.190076\n",
       "2.5           0.063166\n",
       "1.5           0.036388\n",
       "3 and More    0.031032\n",
       "Other         0.004201\n",
       "Name: proportion, dtype: float64"
      ]
     },
     "execution_count": 101,
     "metadata": {},
     "output_type": "execute_result"
    }
   ],
   "source": [
    "df['baths'] = np.where(df['baths'].isin(['0', 'Unknown']), 'Other', df['baths'])\n",
    "\n",
    "df['baths'] = np.where(\n",
    "    df['baths'].isin(['3', '3.5', '4', '4.5', '5', '5.5', '6', '6.5', '7', '7.5', '8']),\n",
    "    '3 and More',\n",
    "    df['baths'])\n",
    "\n",
    "df['baths'].value_counts(normalize=True)"
   ]
  },
  {
   "cell_type": "code",
   "execution_count": 102,
   "id": "e1ac3c37-8306-4c89-b06f-f22f56ef88fd",
   "metadata": {},
   "outputs": [
    {
     "data": {
      "text/plain": [
       "CategoricalDtype(categories=['Other', '1', '1.5', '2', '2.5', '3 and More'], ordered=True, categories_dtype=object)"
      ]
     },
     "execution_count": 102,
     "metadata": {},
     "output_type": "execute_result"
    }
   ],
   "source": [
    "# I kept the value 1.5 to keep the order, even if the relative frequency is less than 5%, \n",
    "baths = ['Other', '1', '1.5', '2', '2.5', '3 and More']\n",
    "df['baths'] = pd.Categorical(df['baths'], categories=baths, ordered=True)\n",
    "df['baths'].dtype"
   ]
  },
  {
   "cell_type": "markdown",
   "id": "fee7f52f-7bd7-41bd-b710-cde87bfdf42b",
   "metadata": {},
   "source": [
    "### 3.4 Encode boolean columns"
   ]
  },
  {
   "cell_type": "code",
   "execution_count": 171,
   "id": "aaaebd31-4757-44ea-b4fc-9ffd81d7ac18",
   "metadata": {},
   "outputs": [
    {
     "data": {
      "text/html": [
       "<div>\n",
       "<style scoped>\n",
       "    .dataframe tbody tr th:only-of-type {\n",
       "        vertical-align: middle;\n",
       "    }\n",
       "\n",
       "    .dataframe tbody tr th {\n",
       "        vertical-align: top;\n",
       "    }\n",
       "\n",
       "    .dataframe thead th {\n",
       "        text-align: right;\n",
       "    }\n",
       "</style>\n",
       "<table border=\"1\" class=\"dataframe\">\n",
       "  <thead>\n",
       "    <tr style=\"text-align: right;\">\n",
       "      <th></th>\n",
       "      <th>city</th>\n",
       "      <th>province</th>\n",
       "      <th>latitude</th>\n",
       "      <th>longitude</th>\n",
       "      <th>lease_term</th>\n",
       "      <th>type</th>\n",
       "      <th>price</th>\n",
       "      <th>beds</th>\n",
       "      <th>baths</th>\n",
       "      <th>sq_feet</th>\n",
       "      <th>furnishing</th>\n",
       "      <th>smoking</th>\n",
       "      <th>cats</th>\n",
       "      <th>dogs</th>\n",
       "    </tr>\n",
       "  </thead>\n",
       "  <tbody>\n",
       "    <tr>\n",
       "      <th>16074</th>\n",
       "      <td>0.004411</td>\n",
       "      <td>0.31226</td>\n",
       "      <td>43.012103</td>\n",
       "      <td>-79.250456</td>\n",
       "      <td>Long Term</td>\n",
       "      <td>Apartment</td>\n",
       "      <td>1798.0</td>\n",
       "      <td>1 Bed</td>\n",
       "      <td>1</td>\n",
       "      <td>480.0</td>\n",
       "      <td>Unfurnished</td>\n",
       "      <td>Non-Smoking</td>\n",
       "      <td>True</td>\n",
       "      <td>True</td>\n",
       "    </tr>\n",
       "  </tbody>\n",
       "</table>\n",
       "</div>"
      ],
      "text/plain": [
       "           city province   latitude  longitude lease_term       type   price  \\\n",
       "16074  0.004411  0.31226  43.012103 -79.250456  Long Term  Apartment  1798.0   \n",
       "\n",
       "        beds baths  sq_feet   furnishing      smoking  cats  dogs  \n",
       "16074  1 Bed     1    480.0  Unfurnished  Non-Smoking  True  True  "
      ]
     },
     "execution_count": 171,
     "metadata": {},
     "output_type": "execute_result"
    }
   ],
   "source": [
    "df.sample()"
   ]
  },
  {
   "cell_type": "markdown",
   "id": "f43ab456-092f-4673-8e9e-b91f6c2b6a0a",
   "metadata": {},
   "source": [
    "## 4. Regression"
   ]
  },
  {
   "cell_type": "markdown",
   "id": "fd464365-b0a7-4d95-bb8e-82da204eff97",
   "metadata": {},
   "source": [
    "### 3.1 Find the model"
   ]
  },
  {
   "cell_type": "markdown",
   "id": "0d8b4b5d-912a-4c80-ba1b-fe57a335d250",
   "metadata": {},
   "source": [
    "### 3.2 Make predictions"
   ]
  },
  {
   "cell_type": "markdown",
   "id": "9f5475d0-3f19-4c77-925f-842ee7fcb765",
   "metadata": {},
   "source": [
    "## End"
   ]
  }
 ],
 "metadata": {
  "kernelspec": {
   "display_name": "Python 3 (ipykernel)",
   "language": "python",
   "name": "python3"
  },
  "language_info": {
   "codemirror_mode": {
    "name": "ipython",
    "version": 3
   },
   "file_extension": ".py",
   "mimetype": "text/x-python",
   "name": "python",
   "nbconvert_exporter": "python",
   "pygments_lexer": "ipython3",
   "version": "3.12.4"
  }
 },
 "nbformat": 4,
 "nbformat_minor": 5
}
